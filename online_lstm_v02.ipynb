{
 "cells": [
  {
   "cell_type": "code",
   "execution_count": 8,
   "metadata": {},
   "outputs": [],
   "source": [
    "from keras.layers import Input, Embedding, LSTM, Dense, concatenate, Masking, Dropout\n",
    "from keras.models import Model, Sequential\n",
    "import numpy as np\n",
    "import pandas as pd"
   ]
  },
  {
   "cell_type": "code",
   "execution_count": 2,
   "metadata": {
    "collapsed": true
   },
   "outputs": [],
   "source": [
    "base_dir = '/home/vaibhavpawar/codes/online/'"
   ]
  },
  {
   "cell_type": "code",
   "execution_count": 3,
   "metadata": {
    "collapsed": true
   },
   "outputs": [],
   "source": [
    "#load data\n",
    "mid = np.loadtxt(base_dir + 'mid.csv', dtype='int32', delimiter=',')\n",
    "tid = np.loadtxt(base_dir + 'tid.csv', dtype='int32', delimiter=',')\n",
    "ton = np.loadtxt(base_dir + 'ton.csv', dtype='int32', delimiter=',')\n",
    "fecom = np.loadtxt(base_dir + 'fecom.csv', dtype='int32', delimiter=',')"
   ]
  },
  {
   "cell_type": "code",
   "execution_count": 5,
   "metadata": {},
   "outputs": [
    {
     "data": {
      "text/plain": [
       "(3508563, 19)"
      ]
     },
     "execution_count": 5,
     "metadata": {},
     "output_type": "execute_result"
    }
   ],
   "source": [
    "mid.shape"
   ]
  },
  {
   "cell_type": "code",
   "execution_count": 6,
   "metadata": {
    "collapsed": true
   },
   "outputs": [],
   "source": [
    "# split the data into a training, validation and test set\n",
    "indices = np.arange(mid.shape[0])\n",
    "np.random.shuffle(indices)\n",
    "\n",
    "mid = mid[indices]\n",
    "tid = tid[indices]\n",
    "ton = ton[indices]\n",
    "fecom = fecom[indices]\n",
    "\n",
    "tr_pct = 0.7\n",
    "vl_pct = 0.2\n",
    "\n",
    "tr_nrec = int(tr_pct*mid.shape[0])\n",
    "vl_nrec = int(vl_pct*mid.shape[0])\n",
    "ts_nrec = mid.shape[0] - (tr_nrec + vl_nrec)\n",
    "\n",
    "tr_indices = indices[0:tr_nrec]\n",
    "vl_indices = indices[tr_nrec:tr_nrec+vl_nrec]\n",
    "ts_indices = indices[-ts_nrec:]\n",
    "\n",
    "x1_tr = mid[0:tr_nrec, :]\n",
    "x2_tr = tid[0:tr_nrec, :]\n",
    "x3_tr = ton[0:tr_nrec, :]\n",
    "y_tr = fecom[0:tr_nrec]\n",
    "\n",
    "x1_vl = mid[tr_nrec:tr_nrec+vl_nrec, :]\n",
    "x2_vl = tid[tr_nrec:tr_nrec+vl_nrec, :]\n",
    "x3_vl = ton[tr_nrec:tr_nrec+vl_nrec, :]\n",
    "y_vl = fecom[tr_nrec:tr_nrec+vl_nrec]\n",
    "\n",
    "x1_ts = mid[-ts_nrec:, :]\n",
    "x2_ts = tid[-ts_nrec:, :]\n",
    "x3_ts = ton[-ts_nrec:, :]\n",
    "y_ts = fecom[-ts_nrec:]"
   ]
  },
  {
   "cell_type": "code",
   "execution_count": 9,
   "metadata": {},
   "outputs": [],
   "source": [
    "time_steps1 = 19\n",
    "onehot_vec_size1 = 42\n",
    "time_steps2 = 16\n",
    "onehot_vec_size2 = 37\n",
    "time_steps3 = 22\n",
    "onehot_vec_size3 = 50\n",
    "\n",
    "lstm_size1 = 64\n",
    "lstm_size2 = 64\n",
    "lstm_size3 = 64\n",
    "\n",
    "input1 = Input(shape=(time_steps1,), dtype='int32', name = 'input1')\n",
    "input2 = Input(shape=(time_steps2,), dtype='int32', name = 'input2')\n",
    "input3 = Input(shape=(time_steps3,), dtype='int32', name = 'input3')\n",
    "\n",
    "# embedding layer to convert into one-hot encoded vector\n",
    "# 0 is mapped to all zeros - this will be ignored when masked\n",
    "# hence, 1st row of embedding matrix is all zero\n",
    "# rest of the matrix is just an identity matrix\n",
    "# this matrix is marked as non-trainable \n",
    "\n",
    "embedding_matrix1 = np.zeros((onehot_vec_size1 + 1, onehot_vec_size1))\n",
    "embedding_matrix1[1:,:] = np.identity(onehot_vec_size1)\n",
    "\n",
    "embedding_matrix2 = np.zeros((onehot_vec_size2 + 1, onehot_vec_size2))\n",
    "embedding_matrix2[1:,:] = np.identity(onehot_vec_size2)\n",
    "\n",
    "embedding_matrix3 = np.zeros((onehot_vec_size3 + 1, onehot_vec_size3))\n",
    "embedding_matrix3[1:,:] = np.identity(onehot_vec_size3)\n",
    "\n",
    "embedding_layer1 = Embedding(onehot_vec_size1 + 1,\n",
    "                            onehot_vec_size1,\n",
    "                            weights=[embedding_matrix1],\n",
    "                            input_length=time_steps1,\n",
    "                            trainable=False)\n",
    "\n",
    "embedding_layer2 = Embedding(onehot_vec_size2 + 1,\n",
    "                            onehot_vec_size2,\n",
    "                            weights=[embedding_matrix2],\n",
    "                            input_length=time_steps2,\n",
    "                            trainable=False)\n",
    "\n",
    "embedding_layer3 = Embedding(onehot_vec_size3 + 1,\n",
    "                            onehot_vec_size3,\n",
    "                            weights=[embedding_matrix3],\n",
    "                            input_length=time_steps3,\n",
    "                            trainable=False)\n",
    "\n",
    "embedded_sequences1 = embedding_layer1(input1)\n",
    "embedded_sequences2 = embedding_layer2(input2)\n",
    "embedded_sequences3 = embedding_layer3(input3)\n",
    "\n",
    "lstm1 = LSTM(lstm_size1, dropout=0.2, recurrent_dropout=0.2)\n",
    "lstm2 = LSTM(lstm_size2, dropout=0.2, recurrent_dropout=0.2)\n",
    "lstm3 = LSTM(lstm_size3, dropout=0.2, recurrent_dropout=0.2)\n",
    "\n",
    "y1 = Masking(mask_value=0.0)(embedded_sequences1)\n",
    "y2 = Masking(mask_value=0.0)(embedded_sequences2)\n",
    "y3 = Masking(mask_value=0.0)(embedded_sequences3)\n",
    "\n",
    "#sequence_out, y1h, state_c = lstm1(y1)\n",
    "y1 = lstm1(y1)\n",
    "y2 = lstm2(y2)\n",
    "y3 = lstm3(y3)\n",
    "\n",
    "y = concatenate([y1, y2, y3], axis=-1)\n",
    "y = Dropout(0.3)(y)\n",
    "y = Dense(1, activation='sigmoid')(y)\n",
    "\n",
    "model = Model(inputs = [input1, input2, input3], outputs = y)"
   ]
  },
  {
   "cell_type": "code",
   "execution_count": 10,
   "metadata": {},
   "outputs": [
    {
     "data": {
      "image/svg+xml": [
       "<svg height=\"560pt\" viewBox=\"0.00 0.00 982.00 560.00\" width=\"982pt\" xmlns=\"http://www.w3.org/2000/svg\" xmlns:xlink=\"http://www.w3.org/1999/xlink\">\n",
       "<g class=\"graph\" id=\"graph0\" transform=\"scale(1 1) rotate(0) translate(4 556)\">\n",
       "<title>G</title>\n",
       "<polygon fill=\"white\" points=\"-4,4 -4,-556 978,-556 978,4 -4,4\" stroke=\"none\"/>\n",
       "<!-- 140403153232528 -->\n",
       "<g class=\"node\" id=\"node1\"><title>140403153232528</title>\n",
       "<polygon fill=\"none\" points=\"31,-505 31,-551 281,-551 281,-505 31,-505\" stroke=\"black\"/>\n",
       "<text font-family=\"Times,serif\" font-size=\"14.00\" text-anchor=\"middle\" x=\"90.5\" y=\"-524.3\">input1: InputLayer</text>\n",
       "<polyline fill=\"none\" points=\"150,-505 150,-551 \" stroke=\"black\"/>\n",
       "<text font-family=\"Times,serif\" font-size=\"14.00\" text-anchor=\"middle\" x=\"177.5\" y=\"-535.8\">input:</text>\n",
       "<polyline fill=\"none\" points=\"150,-528 205,-528 \" stroke=\"black\"/>\n",
       "<text font-family=\"Times,serif\" font-size=\"14.00\" text-anchor=\"middle\" x=\"177.5\" y=\"-512.8\">output:</text>\n",
       "<polyline fill=\"none\" points=\"205,-505 205,-551 \" stroke=\"black\"/>\n",
       "<text font-family=\"Times,serif\" font-size=\"14.00\" text-anchor=\"middle\" x=\"243\" y=\"-535.8\">(None, 19)</text>\n",
       "<polyline fill=\"none\" points=\"205,-528 281,-528 \" stroke=\"black\"/>\n",
       "<text font-family=\"Times,serif\" font-size=\"14.00\" text-anchor=\"middle\" x=\"243\" y=\"-512.8\">(None, 19)</text>\n",
       "</g>\n",
       "<!-- 140403153232912 -->\n",
       "<g class=\"node\" id=\"node4\"><title>140403153232912</title>\n",
       "<polygon fill=\"none\" points=\"-0.5,-421 -0.5,-467 312.5,-467 312.5,-421 -0.5,-421\" stroke=\"black\"/>\n",
       "<text font-family=\"Times,serif\" font-size=\"14.00\" text-anchor=\"middle\" x=\"80\" y=\"-440.3\">embedding_4: Embedding</text>\n",
       "<polyline fill=\"none\" points=\"160.5,-421 160.5,-467 \" stroke=\"black\"/>\n",
       "<text font-family=\"Times,serif\" font-size=\"14.00\" text-anchor=\"middle\" x=\"188\" y=\"-451.8\">input:</text>\n",
       "<polyline fill=\"none\" points=\"160.5,-444 215.5,-444 \" stroke=\"black\"/>\n",
       "<text font-family=\"Times,serif\" font-size=\"14.00\" text-anchor=\"middle\" x=\"188\" y=\"-428.8\">output:</text>\n",
       "<polyline fill=\"none\" points=\"215.5,-421 215.5,-467 \" stroke=\"black\"/>\n",
       "<text font-family=\"Times,serif\" font-size=\"14.00\" text-anchor=\"middle\" x=\"264\" y=\"-451.8\">(None, 19)</text>\n",
       "<polyline fill=\"none\" points=\"215.5,-444 312.5,-444 \" stroke=\"black\"/>\n",
       "<text font-family=\"Times,serif\" font-size=\"14.00\" text-anchor=\"middle\" x=\"264\" y=\"-428.8\">(None, 19, 42)</text>\n",
       "</g>\n",
       "<!-- 140403153232528&#45;&gt;140403153232912 -->\n",
       "<g class=\"edge\" id=\"edge1\"><title>140403153232528-&gt;140403153232912</title>\n",
       "<path d=\"M156,-504.593C156,-496.118 156,-486.297 156,-477.104\" fill=\"none\" stroke=\"black\"/>\n",
       "<polygon fill=\"black\" points=\"159.5,-477.096 156,-467.096 152.5,-477.096 159.5,-477.096\" stroke=\"black\"/>\n",
       "</g>\n",
       "<!-- 140403153232592 -->\n",
       "<g class=\"node\" id=\"node2\"><title>140403153232592</title>\n",
       "<polygon fill=\"none\" points=\"362,-505 362,-551 612,-551 612,-505 362,-505\" stroke=\"black\"/>\n",
       "<text font-family=\"Times,serif\" font-size=\"14.00\" text-anchor=\"middle\" x=\"421.5\" y=\"-524.3\">input2: InputLayer</text>\n",
       "<polyline fill=\"none\" points=\"481,-505 481,-551 \" stroke=\"black\"/>\n",
       "<text font-family=\"Times,serif\" font-size=\"14.00\" text-anchor=\"middle\" x=\"508.5\" y=\"-535.8\">input:</text>\n",
       "<polyline fill=\"none\" points=\"481,-528 536,-528 \" stroke=\"black\"/>\n",
       "<text font-family=\"Times,serif\" font-size=\"14.00\" text-anchor=\"middle\" x=\"508.5\" y=\"-512.8\">output:</text>\n",
       "<polyline fill=\"none\" points=\"536,-505 536,-551 \" stroke=\"black\"/>\n",
       "<text font-family=\"Times,serif\" font-size=\"14.00\" text-anchor=\"middle\" x=\"574\" y=\"-535.8\">(None, 16)</text>\n",
       "<polyline fill=\"none\" points=\"536,-528 612,-528 \" stroke=\"black\"/>\n",
       "<text font-family=\"Times,serif\" font-size=\"14.00\" text-anchor=\"middle\" x=\"574\" y=\"-512.8\">(None, 16)</text>\n",
       "</g>\n",
       "<!-- 140403153233296 -->\n",
       "<g class=\"node\" id=\"node5\"><title>140403153233296</title>\n",
       "<polygon fill=\"none\" points=\"330.5,-421 330.5,-467 643.5,-467 643.5,-421 330.5,-421\" stroke=\"black\"/>\n",
       "<text font-family=\"Times,serif\" font-size=\"14.00\" text-anchor=\"middle\" x=\"411\" y=\"-440.3\">embedding_5: Embedding</text>\n",
       "<polyline fill=\"none\" points=\"491.5,-421 491.5,-467 \" stroke=\"black\"/>\n",
       "<text font-family=\"Times,serif\" font-size=\"14.00\" text-anchor=\"middle\" x=\"519\" y=\"-451.8\">input:</text>\n",
       "<polyline fill=\"none\" points=\"491.5,-444 546.5,-444 \" stroke=\"black\"/>\n",
       "<text font-family=\"Times,serif\" font-size=\"14.00\" text-anchor=\"middle\" x=\"519\" y=\"-428.8\">output:</text>\n",
       "<polyline fill=\"none\" points=\"546.5,-421 546.5,-467 \" stroke=\"black\"/>\n",
       "<text font-family=\"Times,serif\" font-size=\"14.00\" text-anchor=\"middle\" x=\"595\" y=\"-451.8\">(None, 16)</text>\n",
       "<polyline fill=\"none\" points=\"546.5,-444 643.5,-444 \" stroke=\"black\"/>\n",
       "<text font-family=\"Times,serif\" font-size=\"14.00\" text-anchor=\"middle\" x=\"595\" y=\"-428.8\">(None, 16, 37)</text>\n",
       "</g>\n",
       "<!-- 140403153232592&#45;&gt;140403153233296 -->\n",
       "<g class=\"edge\" id=\"edge2\"><title>140403153232592-&gt;140403153233296</title>\n",
       "<path d=\"M487,-504.593C487,-496.118 487,-486.297 487,-477.104\" fill=\"none\" stroke=\"black\"/>\n",
       "<polygon fill=\"black\" points=\"490.5,-477.096 487,-467.096 483.5,-477.096 490.5,-477.096\" stroke=\"black\"/>\n",
       "</g>\n",
       "<!-- 140403153233360 -->\n",
       "<g class=\"node\" id=\"node3\"><title>140403153233360</title>\n",
       "<polygon fill=\"none\" points=\"693,-505 693,-551 943,-551 943,-505 693,-505\" stroke=\"black\"/>\n",
       "<text font-family=\"Times,serif\" font-size=\"14.00\" text-anchor=\"middle\" x=\"752.5\" y=\"-524.3\">input3: InputLayer</text>\n",
       "<polyline fill=\"none\" points=\"812,-505 812,-551 \" stroke=\"black\"/>\n",
       "<text font-family=\"Times,serif\" font-size=\"14.00\" text-anchor=\"middle\" x=\"839.5\" y=\"-535.8\">input:</text>\n",
       "<polyline fill=\"none\" points=\"812,-528 867,-528 \" stroke=\"black\"/>\n",
       "<text font-family=\"Times,serif\" font-size=\"14.00\" text-anchor=\"middle\" x=\"839.5\" y=\"-512.8\">output:</text>\n",
       "<polyline fill=\"none\" points=\"867,-505 867,-551 \" stroke=\"black\"/>\n",
       "<text font-family=\"Times,serif\" font-size=\"14.00\" text-anchor=\"middle\" x=\"905\" y=\"-535.8\">(None, 22)</text>\n",
       "<polyline fill=\"none\" points=\"867,-528 943,-528 \" stroke=\"black\"/>\n",
       "<text font-family=\"Times,serif\" font-size=\"14.00\" text-anchor=\"middle\" x=\"905\" y=\"-512.8\">(None, 22)</text>\n",
       "</g>\n",
       "<!-- 140403153233872 -->\n",
       "<g class=\"node\" id=\"node6\"><title>140403153233872</title>\n",
       "<polygon fill=\"none\" points=\"661.5,-421 661.5,-467 974.5,-467 974.5,-421 661.5,-421\" stroke=\"black\"/>\n",
       "<text font-family=\"Times,serif\" font-size=\"14.00\" text-anchor=\"middle\" x=\"742\" y=\"-440.3\">embedding_6: Embedding</text>\n",
       "<polyline fill=\"none\" points=\"822.5,-421 822.5,-467 \" stroke=\"black\"/>\n",
       "<text font-family=\"Times,serif\" font-size=\"14.00\" text-anchor=\"middle\" x=\"850\" y=\"-451.8\">input:</text>\n",
       "<polyline fill=\"none\" points=\"822.5,-444 877.5,-444 \" stroke=\"black\"/>\n",
       "<text font-family=\"Times,serif\" font-size=\"14.00\" text-anchor=\"middle\" x=\"850\" y=\"-428.8\">output:</text>\n",
       "<polyline fill=\"none\" points=\"877.5,-421 877.5,-467 \" stroke=\"black\"/>\n",
       "<text font-family=\"Times,serif\" font-size=\"14.00\" text-anchor=\"middle\" x=\"926\" y=\"-451.8\">(None, 22)</text>\n",
       "<polyline fill=\"none\" points=\"877.5,-444 974.5,-444 \" stroke=\"black\"/>\n",
       "<text font-family=\"Times,serif\" font-size=\"14.00\" text-anchor=\"middle\" x=\"926\" y=\"-428.8\">(None, 22, 50)</text>\n",
       "</g>\n",
       "<!-- 140403153233360&#45;&gt;140403153233872 -->\n",
       "<g class=\"edge\" id=\"edge3\"><title>140403153233360-&gt;140403153233872</title>\n",
       "<path d=\"M818,-504.593C818,-496.118 818,-486.297 818,-477.104\" fill=\"none\" stroke=\"black\"/>\n",
       "<polygon fill=\"black\" points=\"821.5,-477.096 818,-467.096 814.5,-477.096 821.5,-477.096\" stroke=\"black\"/>\n",
       "</g>\n",
       "<!-- 140403153665936 -->\n",
       "<g class=\"node\" id=\"node7\"><title>140403153665936</title>\n",
       "<polygon fill=\"none\" points=\"29,-337 29,-383 313,-383 313,-337 29,-337\" stroke=\"black\"/>\n",
       "<text font-family=\"Times,serif\" font-size=\"14.00\" text-anchor=\"middle\" x=\"95\" y=\"-356.3\">masking_4: Masking</text>\n",
       "<polyline fill=\"none\" points=\"161,-337 161,-383 \" stroke=\"black\"/>\n",
       "<text font-family=\"Times,serif\" font-size=\"14.00\" text-anchor=\"middle\" x=\"188.5\" y=\"-367.8\">input:</text>\n",
       "<polyline fill=\"none\" points=\"161,-360 216,-360 \" stroke=\"black\"/>\n",
       "<text font-family=\"Times,serif\" font-size=\"14.00\" text-anchor=\"middle\" x=\"188.5\" y=\"-344.8\">output:</text>\n",
       "<polyline fill=\"none\" points=\"216,-337 216,-383 \" stroke=\"black\"/>\n",
       "<text font-family=\"Times,serif\" font-size=\"14.00\" text-anchor=\"middle\" x=\"264.5\" y=\"-367.8\">(None, 19, 42)</text>\n",
       "<polyline fill=\"none\" points=\"216,-360 313,-360 \" stroke=\"black\"/>\n",
       "<text font-family=\"Times,serif\" font-size=\"14.00\" text-anchor=\"middle\" x=\"264.5\" y=\"-344.8\">(None, 19, 42)</text>\n",
       "</g>\n",
       "<!-- 140403153232912&#45;&gt;140403153665936 -->\n",
       "<g class=\"edge\" id=\"edge4\"><title>140403153232912-&gt;140403153665936</title>\n",
       "<path d=\"M160.099,-420.593C161.649,-412.118 163.446,-402.297 165.127,-393.104\" fill=\"none\" stroke=\"black\"/>\n",
       "<polygon fill=\"black\" points=\"168.601,-393.562 166.958,-383.096 161.716,-392.303 168.601,-393.562\" stroke=\"black\"/>\n",
       "</g>\n",
       "<!-- 140403152654800 -->\n",
       "<g class=\"node\" id=\"node8\"><title>140403152654800</title>\n",
       "<polygon fill=\"none\" points=\"345,-337 345,-383 629,-383 629,-337 345,-337\" stroke=\"black\"/>\n",
       "<text font-family=\"Times,serif\" font-size=\"14.00\" text-anchor=\"middle\" x=\"411\" y=\"-356.3\">masking_5: Masking</text>\n",
       "<polyline fill=\"none\" points=\"477,-337 477,-383 \" stroke=\"black\"/>\n",
       "<text font-family=\"Times,serif\" font-size=\"14.00\" text-anchor=\"middle\" x=\"504.5\" y=\"-367.8\">input:</text>\n",
       "<polyline fill=\"none\" points=\"477,-360 532,-360 \" stroke=\"black\"/>\n",
       "<text font-family=\"Times,serif\" font-size=\"14.00\" text-anchor=\"middle\" x=\"504.5\" y=\"-344.8\">output:</text>\n",
       "<polyline fill=\"none\" points=\"532,-337 532,-383 \" stroke=\"black\"/>\n",
       "<text font-family=\"Times,serif\" font-size=\"14.00\" text-anchor=\"middle\" x=\"580.5\" y=\"-367.8\">(None, 16, 37)</text>\n",
       "<polyline fill=\"none\" points=\"532,-360 629,-360 \" stroke=\"black\"/>\n",
       "<text font-family=\"Times,serif\" font-size=\"14.00\" text-anchor=\"middle\" x=\"580.5\" y=\"-344.8\">(None, 16, 37)</text>\n",
       "</g>\n",
       "<!-- 140403153233296&#45;&gt;140403152654800 -->\n",
       "<g class=\"edge\" id=\"edge5\"><title>140403153233296-&gt;140403152654800</title>\n",
       "<path d=\"M487,-420.593C487,-412.118 487,-402.297 487,-393.104\" fill=\"none\" stroke=\"black\"/>\n",
       "<polygon fill=\"black\" points=\"490.5,-393.096 487,-383.096 483.5,-393.096 490.5,-393.096\" stroke=\"black\"/>\n",
       "</g>\n",
       "<!-- 140403152654928 -->\n",
       "<g class=\"node\" id=\"node9\"><title>140403152654928</title>\n",
       "<polygon fill=\"none\" points=\"661,-337 661,-383 945,-383 945,-337 661,-337\" stroke=\"black\"/>\n",
       "<text font-family=\"Times,serif\" font-size=\"14.00\" text-anchor=\"middle\" x=\"727\" y=\"-356.3\">masking_6: Masking</text>\n",
       "<polyline fill=\"none\" points=\"793,-337 793,-383 \" stroke=\"black\"/>\n",
       "<text font-family=\"Times,serif\" font-size=\"14.00\" text-anchor=\"middle\" x=\"820.5\" y=\"-367.8\">input:</text>\n",
       "<polyline fill=\"none\" points=\"793,-360 848,-360 \" stroke=\"black\"/>\n",
       "<text font-family=\"Times,serif\" font-size=\"14.00\" text-anchor=\"middle\" x=\"820.5\" y=\"-344.8\">output:</text>\n",
       "<polyline fill=\"none\" points=\"848,-337 848,-383 \" stroke=\"black\"/>\n",
       "<text font-family=\"Times,serif\" font-size=\"14.00\" text-anchor=\"middle\" x=\"896.5\" y=\"-367.8\">(None, 22, 50)</text>\n",
       "<polyline fill=\"none\" points=\"848,-360 945,-360 \" stroke=\"black\"/>\n",
       "<text font-family=\"Times,serif\" font-size=\"14.00\" text-anchor=\"middle\" x=\"896.5\" y=\"-344.8\">(None, 22, 50)</text>\n",
       "</g>\n",
       "<!-- 140403153233872&#45;&gt;140403152654928 -->\n",
       "<g class=\"edge\" id=\"edge6\"><title>140403153233872-&gt;140403152654928</title>\n",
       "<path d=\"M813.901,-420.593C812.351,-412.118 810.554,-402.297 808.873,-393.104\" fill=\"none\" stroke=\"black\"/>\n",
       "<polygon fill=\"black\" points=\"812.284,-392.303 807.042,-383.096 805.399,-393.562 812.284,-392.303\" stroke=\"black\"/>\n",
       "</g>\n",
       "<!-- 140403153234320 -->\n",
       "<g class=\"node\" id=\"node10\"><title>140403153234320</title>\n",
       "<polygon fill=\"none\" points=\"70,-253 70,-299 320,-299 320,-253 70,-253\" stroke=\"black\"/>\n",
       "<text font-family=\"Times,serif\" font-size=\"14.00\" text-anchor=\"middle\" x=\"119\" y=\"-272.3\">lstm_4: LSTM</text>\n",
       "<polyline fill=\"none\" points=\"168,-253 168,-299 \" stroke=\"black\"/>\n",
       "<text font-family=\"Times,serif\" font-size=\"14.00\" text-anchor=\"middle\" x=\"195.5\" y=\"-283.8\">input:</text>\n",
       "<polyline fill=\"none\" points=\"168,-276 223,-276 \" stroke=\"black\"/>\n",
       "<text font-family=\"Times,serif\" font-size=\"14.00\" text-anchor=\"middle\" x=\"195.5\" y=\"-260.8\">output:</text>\n",
       "<polyline fill=\"none\" points=\"223,-253 223,-299 \" stroke=\"black\"/>\n",
       "<text font-family=\"Times,serif\" font-size=\"14.00\" text-anchor=\"middle\" x=\"271.5\" y=\"-283.8\">(None, 19, 42)</text>\n",
       "<polyline fill=\"none\" points=\"223,-276 320,-276 \" stroke=\"black\"/>\n",
       "<text font-family=\"Times,serif\" font-size=\"14.00\" text-anchor=\"middle\" x=\"271.5\" y=\"-260.8\">(None, 64)</text>\n",
       "</g>\n",
       "<!-- 140403153665936&#45;&gt;140403153234320 -->\n",
       "<g class=\"edge\" id=\"edge7\"><title>140403153665936-&gt;140403153234320</title>\n",
       "<path d=\"M177.558,-336.593C180.065,-328.027 182.975,-318.086 185.69,-308.808\" fill=\"none\" stroke=\"black\"/>\n",
       "<polygon fill=\"black\" points=\"189.083,-309.676 188.533,-299.096 182.365,-307.71 189.083,-309.676\" stroke=\"black\"/>\n",
       "</g>\n",
       "<!-- 140402609401744 -->\n",
       "<g class=\"node\" id=\"node11\"><title>140402609401744</title>\n",
       "<polygon fill=\"none\" points=\"362,-253 362,-299 612,-299 612,-253 362,-253\" stroke=\"black\"/>\n",
       "<text font-family=\"Times,serif\" font-size=\"14.00\" text-anchor=\"middle\" x=\"411\" y=\"-272.3\">lstm_5: LSTM</text>\n",
       "<polyline fill=\"none\" points=\"460,-253 460,-299 \" stroke=\"black\"/>\n",
       "<text font-family=\"Times,serif\" font-size=\"14.00\" text-anchor=\"middle\" x=\"487.5\" y=\"-283.8\">input:</text>\n",
       "<polyline fill=\"none\" points=\"460,-276 515,-276 \" stroke=\"black\"/>\n",
       "<text font-family=\"Times,serif\" font-size=\"14.00\" text-anchor=\"middle\" x=\"487.5\" y=\"-260.8\">output:</text>\n",
       "<polyline fill=\"none\" points=\"515,-253 515,-299 \" stroke=\"black\"/>\n",
       "<text font-family=\"Times,serif\" font-size=\"14.00\" text-anchor=\"middle\" x=\"563.5\" y=\"-283.8\">(None, 16, 37)</text>\n",
       "<polyline fill=\"none\" points=\"515,-276 612,-276 \" stroke=\"black\"/>\n",
       "<text font-family=\"Times,serif\" font-size=\"14.00\" text-anchor=\"middle\" x=\"563.5\" y=\"-260.8\">(None, 64)</text>\n",
       "</g>\n",
       "<!-- 140403152654800&#45;&gt;140402609401744 -->\n",
       "<g class=\"edge\" id=\"edge8\"><title>140403152654800-&gt;140402609401744</title>\n",
       "<path d=\"M487,-336.593C487,-328.118 487,-318.297 487,-309.104\" fill=\"none\" stroke=\"black\"/>\n",
       "<polygon fill=\"black\" points=\"490.5,-309.096 487,-299.096 483.5,-309.096 490.5,-309.096\" stroke=\"black\"/>\n",
       "</g>\n",
       "<!-- 140403153665168 -->\n",
       "<g class=\"node\" id=\"node12\"><title>140403153665168</title>\n",
       "<polygon fill=\"none\" points=\"654,-253 654,-299 904,-299 904,-253 654,-253\" stroke=\"black\"/>\n",
       "<text font-family=\"Times,serif\" font-size=\"14.00\" text-anchor=\"middle\" x=\"703\" y=\"-272.3\">lstm_6: LSTM</text>\n",
       "<polyline fill=\"none\" points=\"752,-253 752,-299 \" stroke=\"black\"/>\n",
       "<text font-family=\"Times,serif\" font-size=\"14.00\" text-anchor=\"middle\" x=\"779.5\" y=\"-283.8\">input:</text>\n",
       "<polyline fill=\"none\" points=\"752,-276 807,-276 \" stroke=\"black\"/>\n",
       "<text font-family=\"Times,serif\" font-size=\"14.00\" text-anchor=\"middle\" x=\"779.5\" y=\"-260.8\">output:</text>\n",
       "<polyline fill=\"none\" points=\"807,-253 807,-299 \" stroke=\"black\"/>\n",
       "<text font-family=\"Times,serif\" font-size=\"14.00\" text-anchor=\"middle\" x=\"855.5\" y=\"-283.8\">(None, 22, 50)</text>\n",
       "<polyline fill=\"none\" points=\"807,-276 904,-276 \" stroke=\"black\"/>\n",
       "<text font-family=\"Times,serif\" font-size=\"14.00\" text-anchor=\"middle\" x=\"855.5\" y=\"-260.8\">(None, 64)</text>\n",
       "</g>\n",
       "<!-- 140403152654928&#45;&gt;140403153665168 -->\n",
       "<g class=\"edge\" id=\"edge9\"><title>140403152654928-&gt;140403153665168</title>\n",
       "<path d=\"M796.442,-336.593C793.935,-328.027 791.025,-318.086 788.31,-308.808\" fill=\"none\" stroke=\"black\"/>\n",
       "<polygon fill=\"black\" points=\"791.635,-307.71 785.467,-299.096 784.917,-309.676 791.635,-307.71\" stroke=\"black\"/>\n",
       "</g>\n",
       "<!-- 140402550001296 -->\n",
       "<g class=\"node\" id=\"node13\"><title>140402550001296</title>\n",
       "<polygon fill=\"none\" points=\"266.5,-169 266.5,-215 707.5,-215 707.5,-169 266.5,-169\" stroke=\"black\"/>\n",
       "<text font-family=\"Times,serif\" font-size=\"14.00\" text-anchor=\"middle\" x=\"350.5\" y=\"-188.3\">concatenate_2: Concatenate</text>\n",
       "<polyline fill=\"none\" points=\"434.5,-169 434.5,-215 \" stroke=\"black\"/>\n",
       "<text font-family=\"Times,serif\" font-size=\"14.00\" text-anchor=\"middle\" x=\"462\" y=\"-199.8\">input:</text>\n",
       "<polyline fill=\"none\" points=\"434.5,-192 489.5,-192 \" stroke=\"black\"/>\n",
       "<text font-family=\"Times,serif\" font-size=\"14.00\" text-anchor=\"middle\" x=\"462\" y=\"-176.8\">output:</text>\n",
       "<polyline fill=\"none\" points=\"489.5,-169 489.5,-215 \" stroke=\"black\"/>\n",
       "<text font-family=\"Times,serif\" font-size=\"14.00\" text-anchor=\"middle\" x=\"598.5\" y=\"-199.8\">[(None, 64), (None, 64), (None, 64)]</text>\n",
       "<polyline fill=\"none\" points=\"489.5,-192 707.5,-192 \" stroke=\"black\"/>\n",
       "<text font-family=\"Times,serif\" font-size=\"14.00\" text-anchor=\"middle\" x=\"598.5\" y=\"-176.8\">(None, 192)</text>\n",
       "</g>\n",
       "<!-- 140403153234320&#45;&gt;140402550001296 -->\n",
       "<g class=\"edge\" id=\"edge10\"><title>140403153234320-&gt;140402550001296</title>\n",
       "<path d=\"M273.635,-252.918C312.257,-242.072 358.936,-228.963 398.772,-217.776\" fill=\"none\" stroke=\"black\"/>\n",
       "<polygon fill=\"black\" points=\"399.797,-221.124 408.478,-215.051 397.904,-214.385 399.797,-221.124\" stroke=\"black\"/>\n",
       "</g>\n",
       "<!-- 140402609401744&#45;&gt;140402550001296 -->\n",
       "<g class=\"edge\" id=\"edge11\"><title>140402609401744-&gt;140402550001296</title>\n",
       "<path d=\"M487,-252.593C487,-244.118 487,-234.297 487,-225.104\" fill=\"none\" stroke=\"black\"/>\n",
       "<polygon fill=\"black\" points=\"490.5,-225.096 487,-215.096 483.5,-225.096 490.5,-225.096\" stroke=\"black\"/>\n",
       "</g>\n",
       "<!-- 140403153665168&#45;&gt;140402550001296 -->\n",
       "<g class=\"edge\" id=\"edge12\"><title>140403153665168-&gt;140402550001296</title>\n",
       "<path d=\"M700.365,-252.918C661.743,-242.072 615.064,-228.963 575.228,-217.776\" fill=\"none\" stroke=\"black\"/>\n",
       "<polygon fill=\"black\" points=\"576.096,-214.385 565.522,-215.051 574.203,-221.124 576.096,-214.385\" stroke=\"black\"/>\n",
       "</g>\n",
       "<!-- 140402610459600 -->\n",
       "<g class=\"node\" id=\"node14\"><title>140402610459600</title>\n",
       "<polygon fill=\"none\" points=\"355.5,-85 355.5,-131 618.5,-131 618.5,-85 355.5,-85\" stroke=\"black\"/>\n",
       "<text font-family=\"Times,serif\" font-size=\"14.00\" text-anchor=\"middle\" x=\"418\" y=\"-104.3\">dropout_1: Dropout</text>\n",
       "<polyline fill=\"none\" points=\"480.5,-85 480.5,-131 \" stroke=\"black\"/>\n",
       "<text font-family=\"Times,serif\" font-size=\"14.00\" text-anchor=\"middle\" x=\"508\" y=\"-115.8\">input:</text>\n",
       "<polyline fill=\"none\" points=\"480.5,-108 535.5,-108 \" stroke=\"black\"/>\n",
       "<text font-family=\"Times,serif\" font-size=\"14.00\" text-anchor=\"middle\" x=\"508\" y=\"-92.8\">output:</text>\n",
       "<polyline fill=\"none\" points=\"535.5,-85 535.5,-131 \" stroke=\"black\"/>\n",
       "<text font-family=\"Times,serif\" font-size=\"14.00\" text-anchor=\"middle\" x=\"577\" y=\"-115.8\">(None, 192)</text>\n",
       "<polyline fill=\"none\" points=\"535.5,-108 618.5,-108 \" stroke=\"black\"/>\n",
       "<text font-family=\"Times,serif\" font-size=\"14.00\" text-anchor=\"middle\" x=\"577\" y=\"-92.8\">(None, 192)</text>\n",
       "</g>\n",
       "<!-- 140402550001296&#45;&gt;140402610459600 -->\n",
       "<g class=\"edge\" id=\"edge13\"><title>140402550001296-&gt;140402610459600</title>\n",
       "<path d=\"M487,-168.593C487,-160.118 487,-150.297 487,-141.104\" fill=\"none\" stroke=\"black\"/>\n",
       "<polygon fill=\"black\" points=\"490.5,-141.096 487,-131.096 483.5,-141.096 490.5,-141.096\" stroke=\"black\"/>\n",
       "</g>\n",
       "<!-- 140402446206736 -->\n",
       "<g class=\"node\" id=\"node15\"><title>140402446206736</title>\n",
       "<polygon fill=\"none\" points=\"367,-1 367,-47 607,-47 607,-1 367,-1\" stroke=\"black\"/>\n",
       "<text font-family=\"Times,serif\" font-size=\"14.00\" text-anchor=\"middle\" x=\"418\" y=\"-20.3\">dense_1: Dense</text>\n",
       "<polyline fill=\"none\" points=\"469,-1 469,-47 \" stroke=\"black\"/>\n",
       "<text font-family=\"Times,serif\" font-size=\"14.00\" text-anchor=\"middle\" x=\"496.5\" y=\"-31.8\">input:</text>\n",
       "<polyline fill=\"none\" points=\"469,-24 524,-24 \" stroke=\"black\"/>\n",
       "<text font-family=\"Times,serif\" font-size=\"14.00\" text-anchor=\"middle\" x=\"496.5\" y=\"-8.8\">output:</text>\n",
       "<polyline fill=\"none\" points=\"524,-1 524,-47 \" stroke=\"black\"/>\n",
       "<text font-family=\"Times,serif\" font-size=\"14.00\" text-anchor=\"middle\" x=\"565.5\" y=\"-31.8\">(None, 192)</text>\n",
       "<polyline fill=\"none\" points=\"524,-24 607,-24 \" stroke=\"black\"/>\n",
       "<text font-family=\"Times,serif\" font-size=\"14.00\" text-anchor=\"middle\" x=\"565.5\" y=\"-8.8\">(None, 1)</text>\n",
       "</g>\n",
       "<!-- 140402610459600&#45;&gt;140402446206736 -->\n",
       "<g class=\"edge\" id=\"edge14\"><title>140402610459600-&gt;140402446206736</title>\n",
       "<path d=\"M487,-84.5931C487,-76.1177 487,-66.2974 487,-57.104\" fill=\"none\" stroke=\"black\"/>\n",
       "<polygon fill=\"black\" points=\"490.5,-57.0958 487,-47.0959 483.5,-57.0959 490.5,-57.0958\" stroke=\"black\"/>\n",
       "</g>\n",
       "</g>\n",
       "</svg>"
      ],
      "text/plain": [
       "<IPython.core.display.SVG object>"
      ]
     },
     "execution_count": 10,
     "metadata": {},
     "output_type": "execute_result"
    }
   ],
   "source": [
    "from keras.utils import plot_model\n",
    "import pydot\n",
    "pydot.find_graphviz = lambda: True\n",
    "\n",
    "from IPython.display import SVG\n",
    "from keras.utils.vis_utils import model_to_dot\n",
    "SVG(model_to_dot(model, show_shapes=True).create(prog='dot', format='svg'))"
   ]
  },
  {
   "cell_type": "code",
   "execution_count": 11,
   "metadata": {
    "collapsed": true
   },
   "outputs": [],
   "source": [
    "model.compile(loss='binary_crossentropy',\n",
    "              optimizer='adam',\n",
    "              metrics=['acc'])"
   ]
  },
  {
   "cell_type": "code",
   "execution_count": 12,
   "metadata": {},
   "outputs": [
    {
     "name": "stdout",
     "output_type": "stream",
     "text": [
      "Train on 2455994 samples, validate on 701712 samples\n",
      "Epoch 1/5\n",
      "2455994/2455994 [==============================] - 7013s - loss: 0.0163 - acc: 0.9955 - val_loss: 0.0072 - val_acc: 0.9980\n",
      "Epoch 2/5\n",
      "2455994/2455994 [==============================] - 6724s - loss: 0.0090 - acc: 0.9974 - val_loss: 0.0060 - val_acc: 0.9984\n",
      "Epoch 3/5\n",
      "2455994/2455994 [==============================] - 6078s - loss: 0.0073 - acc: 0.9980 - val_loss: 0.0052 - val_acc: 0.9986\n",
      "Epoch 4/5\n",
      "2455994/2455994 [==============================] - 6322s - loss: 0.0064 - acc: 0.9982 - val_loss: 0.0046 - val_acc: 0.9988\n",
      "Epoch 5/5\n",
      "2455994/2455994 [==============================] - 5781s - loss: 0.0059 - acc: 0.9983 - val_loss: 0.0043 - val_acc: 0.9989\n"
     ]
    },
    {
     "data": {
      "text/plain": [
       "<keras.callbacks.History at 0x7fb2087adfd0>"
      ]
     },
     "execution_count": 12,
     "metadata": {},
     "output_type": "execute_result"
    }
   ],
   "source": [
    "model.fit([x1_tr, x2_tr, x3_tr], y_tr,\n",
    "          batch_size=64,\n",
    "          epochs=5,\n",
    "          validation_data=([x1_vl, x2_vl, x3_vl], y_vl))"
   ]
  },
  {
   "cell_type": "code",
   "execution_count": 13,
   "metadata": {
    "collapsed": true
   },
   "outputs": [],
   "source": [
    "from keras.callbacks import ModelCheckpoint, Callback, EarlyStopping"
   ]
  },
  {
   "cell_type": "code",
   "execution_count": 14,
   "metadata": {
    "collapsed": true
   },
   "outputs": [],
   "source": [
    "model.save(base_dir + 'lstm_epoch5.h5')"
   ]
  },
  {
   "cell_type": "code",
   "execution_count": 15,
   "metadata": {
    "collapsed": true
   },
   "outputs": [],
   "source": [
    "model.save_weights(base_dir + 'lstm_epoch5_weights.h5')"
   ]
  },
  {
   "cell_type": "code",
   "execution_count": 16,
   "metadata": {
    "collapsed": true
   },
   "outputs": [],
   "source": [
    "def get_callbacks(filepath, patience=2):\n",
    "    es = EarlyStopping('val_loss', patience=patience, mode=\"min\")\n",
    "    msave = ModelCheckpoint(filepath, save_best_only=True)\n",
    "    return [es, msave]\n",
    "file_path = base_dir + 'model_weights_best.hdf5'\n",
    "callbacks = get_callbacks(filepath=file_path, patience=2)"
   ]
  },
  {
   "cell_type": "code",
   "execution_count": 17,
   "metadata": {},
   "outputs": [
    {
     "name": "stdout",
     "output_type": "stream",
     "text": [
      "Train on 2455994 samples, validate on 701712 samples\n",
      "Epoch 1/10\n",
      "2455994/2455994 [==============================] - 6325s - loss: 0.0055 - acc: 0.9984 - val_loss: 0.0043 - val_acc: 0.9989\n",
      "Epoch 2/10\n",
      "2455994/2455994 [==============================] - 6244s - loss: 0.0052 - acc: 0.9985 - val_loss: 0.0040 - val_acc: 0.9989\n",
      "Epoch 3/10\n",
      "2455994/2455994 [==============================] - 5892s - loss: 0.0049 - acc: 0.9986 - val_loss: 0.0036 - val_acc: 0.9990\n",
      "Epoch 4/10\n",
      "2455994/2455994 [==============================] - 5890s - loss: 0.0048 - acc: 0.9986 - val_loss: 0.0038 - val_acc: 0.9990\n",
      "Epoch 5/10\n",
      "2455994/2455994 [==============================] - 5612s - loss: 0.0047 - acc: 0.9986 - val_loss: 0.0037 - val_acc: 0.9990\n",
      "Epoch 6/10\n",
      "2455994/2455994 [==============================] - 5661s - loss: 0.0045 - acc: 0.9987 - val_loss: 0.0036 - val_acc: 0.9991\n",
      "Epoch 7/10\n",
      "2455994/2455994 [==============================] - 5484s - loss: 0.0044 - acc: 0.9987 - val_loss: 0.0035 - val_acc: 0.9990\n",
      "Epoch 8/10\n",
      "2455994/2455994 [==============================] - 5572s - loss: 0.0043 - acc: 0.9987 - val_loss: 0.0035 - val_acc: 0.9991\n",
      "Epoch 9/10\n",
      "2455994/2455994 [==============================] - 5464s - loss: 0.0044 - acc: 0.9987 - val_loss: 0.0034 - val_acc: 0.9990\n",
      "Epoch 10/10\n",
      "2455994/2455994 [==============================] - 5570s - loss: 0.0042 - acc: 0.9987 - val_loss: 0.0034 - val_acc: 0.9991\n"
     ]
    },
    {
     "data": {
      "text/plain": [
       "<keras.callbacks.History at 0x7fb208315fd0>"
      ]
     },
     "execution_count": 17,
     "metadata": {},
     "output_type": "execute_result"
    }
   ],
   "source": [
    "model.fit([x1_tr, x2_tr, x3_tr], y_tr,\n",
    "          batch_size=64,\n",
    "          epochs=10,\n",
    "          validation_data=([x1_vl, x2_vl, x3_vl], y_vl),\n",
    "          callbacks=callbacks)"
   ]
  },
  {
   "cell_type": "code",
   "execution_count": 18,
   "metadata": {},
   "outputs": [
    {
     "name": "stdout",
     "output_type": "stream",
     "text": [
      "Train on 2455994 samples, validate on 701712 samples\n",
      "Epoch 1/10\n",
      "2455994/2455994 [==============================] - 5584s - loss: 0.0042 - acc: 0.9987 - val_loss: 0.0034 - val_acc: 0.9991\n",
      "Epoch 2/10\n",
      "2455994/2455994 [==============================] - 5612s - loss: 0.0041 - acc: 0.9988 - val_loss: 0.0035 - val_acc: 0.9991\n",
      "Epoch 3/10\n",
      "2455994/2455994 [==============================] - 5596s - loss: 0.0042 - acc: 0.9988 - val_loss: 0.0034 - val_acc: 0.9991\n",
      "Epoch 4/10\n",
      "2455994/2455994 [==============================] - 5585s - loss: 0.0041 - acc: 0.9988 - val_loss: 0.0034 - val_acc: 0.9991\n"
     ]
    },
    {
     "data": {
      "text/plain": [
       "<keras.callbacks.History at 0x7fb209c46cd0>"
      ]
     },
     "execution_count": 18,
     "metadata": {},
     "output_type": "execute_result"
    }
   ],
   "source": [
    "model.fit([x1_tr, x2_tr, x3_tr], y_tr,\n",
    "          batch_size=64,\n",
    "          epochs=10,\n",
    "          validation_data=([x1_vl, x2_vl, x3_vl], y_vl),\n",
    "          callbacks=callbacks)"
   ]
  },
  {
   "cell_type": "code",
   "execution_count": 112,
   "metadata": {
    "collapsed": true
   },
   "outputs": [],
   "source": [
    "model.save(base_dir + 'lstm_epoch19.h5')\n",
    "model.save_weights(base_dir + 'lstm_epoch19_weights.h5')"
   ]
  },
  {
   "cell_type": "code",
   "execution_count": 20,
   "metadata": {},
   "outputs": [],
   "source": [
    "# check test performance\n",
    "y_ts_pred = model.predict([x1_ts, x2_ts, x3_ts])"
   ]
  },
  {
   "cell_type": "code",
   "execution_count": 24,
   "metadata": {},
   "outputs": [],
   "source": [
    "from sklearn.metrics import log_loss"
   ]
  },
  {
   "cell_type": "code",
   "execution_count": 32,
   "metadata": {},
   "outputs": [
    {
     "data": {
      "text/plain": [
       "0.0034534780620771527"
      ]
     },
     "execution_count": 32,
     "metadata": {},
     "output_type": "execute_result"
    }
   ],
   "source": [
    "log_loss(y_ts, y_ts_pred, eps = 1e-5)"
   ]
  },
  {
   "cell_type": "code",
   "execution_count": 33,
   "metadata": {},
   "outputs": [],
   "source": [
    "from sklearn.metrics import accuracy_score"
   ]
  },
  {
   "cell_type": "code",
   "execution_count": 34,
   "metadata": {},
   "outputs": [
    {
     "data": {
      "text/plain": [
       "0.9990366445588944"
      ]
     },
     "execution_count": 34,
     "metadata": {},
     "output_type": "execute_result"
    }
   ],
   "source": [
    "accuracy_score(y_ts, y_ts_pred>0.5)"
   ]
  },
  {
   "cell_type": "code",
   "execution_count": 40,
   "metadata": {},
   "outputs": [],
   "source": [
    "# get some samples to check outputs\n",
    "from itertools import izip\n",
    "\n",
    "base_dir = '/home/vaibhavpawar/codes/online/'\n",
    "infile = base_dir + 'pnb_mtts.csv'\n",
    "midfile = base_dir + 'mid.csv'\n",
    "tidfile = base_dir + 'tid.csv'\n",
    "tonfile = base_dir + 'ton.csv'\n",
    "fecomfile = base_dir + 'fecom.csv'\n",
    "infile1 = base_dir + 'mtts_test.csv'\n",
    "midfile1 = base_dir + 'mid1.csv'\n",
    "tidfile1 = base_dir + 'tid1.csv'\n",
    "tonfile1 = base_dir + 'ton1.csv'\n",
    "fecomfile1 = base_dir + 'fecom1.csv'\n",
    "\n",
    "n = 0\n",
    "with open(infile, 'rb') as file_buff,\\\n",
    "    open(midfile, 'rb') as midfile_buff,\\\n",
    "    open(tidfile, 'rb') as tidfile_buff,\\\n",
    "    open(tonfile, 'rb') as tonfile_buff,\\\n",
    "    open(fecomfile, 'rb') as fecomfile_buff,\\\n",
    "    open(infile1, 'ab') as file1_buff,\\\n",
    "    open(midfile1, 'ab') as midfile1_buff,\\\n",
    "    open(tidfile1, 'ab') as tidfile1_buff,\\\n",
    "    open(tonfile1, 'ab') as tonfile1_buff,\\\n",
    "    open(fecomfile1, 'ab') as fecomfile1_buff:\n",
    "    for mtt, midx, tidx, tonx, fecom in izip(file_buff, midfile_buff, tidfile_buff, tonfile_buff, fecomfile_buff):\n",
    "        if fecom[0] == '1':\n",
    "            n += 1\n",
    "            file1_buff.write(mtt)\n",
    "            midfile1_buff.write(midx)\n",
    "            tidfile1_buff.write(tidx)\n",
    "            tonfile1_buff.write(tonx)\n",
    "            fecomfile1_buff.write(fecom)\n",
    "        if n > 100:\n",
    "            break"
   ]
  },
  {
   "cell_type": "code",
   "execution_count": 41,
   "metadata": {
    "collapsed": true
   },
   "outputs": [],
   "source": [
    "#load data\n",
    "mid1 = np.loadtxt(base_dir + 'mid1.csv', dtype='int32', delimiter=',')\n",
    "tid1 = np.loadtxt(base_dir + 'tid1.csv', dtype='int32', delimiter=',')\n",
    "ton1 = np.loadtxt(base_dir + 'ton1.csv', dtype='int32', delimiter=',')\n",
    "fecom1 = np.loadtxt(base_dir + 'fecom1.csv', dtype='int32', delimiter=',')"
   ]
  },
  {
   "cell_type": "code",
   "execution_count": 42,
   "metadata": {
    "collapsed": true
   },
   "outputs": [],
   "source": [
    "y_check = model.predict([mid1, tid1, ton1])"
   ]
  },
  {
   "cell_type": "code",
   "execution_count": 111,
   "metadata": {},
   "outputs": [],
   "source": [
    "#np.set_printoptions(suppress=True)\n",
    "#print y_check"
   ]
  },
  {
   "cell_type": "code",
   "execution_count": 61,
   "metadata": {},
   "outputs": [],
   "source": [
    "# play with random combinations\n",
    "\n",
    "mid_chars = {'!': 481, ' ': 471156, '\"': 9, \"'\": 433, '&': 430, ')': 11, '(': 37, '+': 1, '*': 100, '-': 182, ',': 53352, '/': 11, '.': 77229, '1': 3516238, '0': 28041669, '3': 2509638, '2': 2964261, '5': 2324381, '4': 3212275, '7': 2501380, '6': 1945264, '9': 1916284, '8': 1825414, ';': 6, '?': 1, '@': 9, ']': 1, '_': 887, 'a': 718274, 'c': 144121, 'b': 102896, 'e': 503500, 'd': 149804, 'g': 81468, 'f': 65763, 'i': 352320, 'h': 194741, 'k': 102466, 'j': 52597, 'm': 644220, 'l': 473611, 'o': 291086, 'n': 335197, 'q': 3729, 'p': 364200, 's': 566473, 'r': 408651, 'u': 139320, 't': 286142, 'w': 45704, 'v': 59682, 'y': 73774, 'x': 18222, 'z': 72910}\n",
    "tid_chars = {'$': 23, '-': 22, ',': 19, '.': 28, '1': 3359486, '0': 4152293, '3': 2530035, '2': 2728388, '5': 2094379, '4': 3115013, '7': 2018844, '6': 1977548, '9': 2091190, '8': 2156015, '@': 64, '_': 2, 'a': 64839, 'c': 5326, 'b': 121011, 'e': 4416, 'd': 115988, 'g': 3195, 'f': 18839, 'i': 21859, 'h': 24897, 'k': 130680, 'j': 31559, 'm': 329392, 'l': 35521, 'o': 14227, 'n': 22144, 'q': 369, 'p': 89341, 's': 250389, 'r': 63081, 'u': 61879, 't': 48887, 'w': 4983, 'v': 648, 'y': 7285, 'x': 5354, 'z': 707}\n",
    "ton_chars = {'!': 1617, ' ': 5616268, '#': 2699, '\"': 521, '%': 16, '$': 8, \"'\": 3337, '&': 36125, ')': 3587, '(': 7754, '+': 138, '*': 87164, '-': 51463, ',': 148092, '/': 42524, '.': 272949, '1': 40667, '0': 24394, '3': 17442, '2': 28326, '5': 14422, '4': 16292, '7': 12486, '6': 11691, '9': 12970, '8': 11066, ';': 307, ':': 296, '=': 6, '?': 55, '>': 1, '@': 627, '[': 23, ']': 18, '\\\\': 7, '_': 17552, 'a': 6553741, '`': 533, 'c': 1607470, 'b': 842979, 'e': 4815680, 'd': 1571026, 'g': 882999, 'f': 596855, 'i': 3633032, 'h': 1973035, 'k': 844990, 'j': 440792, 'm': 1887134, 'l': 2774793, 'o': 2645765, 'n': 3120072, 'q': 34222, 'p': 1344131, 's': 3877147, 'r': 3919487, 'u': 1242518, 't': 3148072, 'w': 557788, 'v': 736777, 'y': 733954, 'x': 121981, '{': 2, 'z': 268576, '}': 1}\n",
    "\n",
    "mid_val_chars = \"&' ,.0123456789abcdefghijklmnopqrstuvwxyz\"\n",
    "tid_val_chars = \"0123456789abcdefghijklmnopqrstuvwxyz\"\n",
    "ton_val_chars = \"#')(@ &*-,/._0123456789abcdefghijklmnopqrstuvwxyz\"\n",
    "\n",
    "def get_char_mapping(inp, val_chars):\n",
    "    op = inp.copy()\n",
    "    n2 = 1 \n",
    "    for key in op:\n",
    "        if key in val_chars:\n",
    "            n2 += 1\n",
    "            op[key] = str(n2)\n",
    "        else:\n",
    "            op[key] = '1'\n",
    "        \n",
    "    op['^'] = '0'\n",
    "    return op\n",
    "\n",
    "mid_chars1 = get_char_mapping(mid_chars, mid_val_chars)\n",
    "tid_chars1 = get_char_mapping(tid_chars, tid_val_chars)\n",
    "ton_chars1 = get_char_mapping(ton_chars, ton_val_chars)\n",
    "\n",
    "def prepend_unk(instr, maxlen):\n",
    "    instr = instr.strip()\n",
    "    unk_str = ''.join(['^' for i in range(0, maxlen-len(instr))])\n",
    "    return unk_str + instr"
   ]
  },
  {
   "cell_type": "code",
   "execution_count": 115,
   "metadata": {},
   "outputs": [
    {
     "data": {
      "text/plain": [
       "array([[ 0.994]], dtype=float32)"
      ]
     },
     "execution_count": 115,
     "metadata": {},
     "output_type": "execute_result"
    }
   ],
   "source": [
    "#KAIR62924008692_VISA_VISA\n",
    "mid2s = 'KAIR62924008692'\n",
    "tid2s = 'VISA'\n",
    "ton2s = 'VISA'\n",
    "mid2 = np.fromstring(','.join(mid_chars1[midc] for midc in prepend_unk(mid2s.lower(), 19)), \n",
    "                     dtype='int32', sep=',').reshape((1,19))\n",
    "tid2 = np.fromstring(','.join(tid_chars1[tidc] for tidc in prepend_unk(tid2s.lower(), 16)),\n",
    "                     dtype='int32', sep=',').reshape((1,16))\n",
    "ton2 = np.fromstring(','.join(ton_chars1[tonc] for tonc in prepend_unk(ton2s.lower(), 22)),\n",
    "                     dtype='int32', sep=',').reshape((1,22))\n",
    "# print prob of online\n",
    "model.predict([mid2, tid2, ton2])"
   ]
  },
  {
   "cell_type": "code",
   "execution_count": 68,
   "metadata": {},
   "outputs": [
    {
     "data": {
      "text/plain": [
       "array([[ 0.082]], dtype=float32)"
      ]
     },
     "execution_count": 68,
     "metadata": {},
     "output_type": "execute_result"
    }
   ],
   "source": []
  },
  {
   "cell_type": "code",
   "execution_count": 58,
   "metadata": {
    "collapsed": true
   },
   "outputs": [],
   "source": [
    "mid2 = np.array([0,0,0,0,0,0,0,0,0,0,0,0,0,0,0,0,0,0,0]).reshape((1,19))\n",
    "#mid2 = np.array([0,0,0,0,0,0,0,0,0,0,0,0,14,11,7,8,10,14,13]).reshape((1,19))\n",
    "tid2 = np.array([0,0,0,0,0,0,0,0,0,0,0,0,0,0,0,0]).reshape((1,16))\n",
    "#ton2 = np.array([0,0,0,0,0,0,0,0,0,0,0,0,17,47,17,16,19,38,22,37,24,38]).reshape((1,22))\n",
    "#ton2 = np.array([0,0,0,0,0,0,0,0,0,0,0,0,0,0,0,0,0,0,0,0,0,0]).reshape((1,22))\n",
    "ton2 = np.array([0,0,0,0,0,0,44,38,17,40,47,17,2,19,48,20,39,17,2,17,45,44]).reshape((1,22))"
   ]
  },
  {
   "cell_type": "code",
   "execution_count": 59,
   "metadata": {},
   "outputs": [
    {
     "data": {
      "text/plain": [
       "array([[ 0.105]], dtype=float32)"
      ]
     },
     "execution_count": 59,
     "metadata": {},
     "output_type": "execute_result"
    }
   ],
   "source": [
    "model.predict([mid2, tid2, ton2])"
   ]
  },
  {
   "cell_type": "code",
   "execution_count": 116,
   "metadata": {
    "collapsed": true
   },
   "outputs": [],
   "source": [
    "from keras.models import load_model\n",
    "\n",
    "model1 = load_model(base_dir + 'lstm_epoch19.h5')"
   ]
  },
  {
   "cell_type": "code",
   "execution_count": 117,
   "metadata": {},
   "outputs": [
    {
     "data": {
      "text/plain": [
       "array([[ 0.994]], dtype=float32)"
      ]
     },
     "execution_count": 117,
     "metadata": {},
     "output_type": "execute_result"
    }
   ],
   "source": [
    "model1.predict([mid2, tid2, ton2])"
   ]
  }
 ],
 "metadata": {
  "kernelspec": {
   "display_name": "Python [conda env:tensorflow2]",
   "language": "python",
   "name": "conda-env-tensorflow2-py"
  },
  "language_info": {
   "codemirror_mode": {
    "name": "ipython",
    "version": 2
   },
   "file_extension": ".py",
   "mimetype": "text/x-python",
   "name": "python",
   "nbconvert_exporter": "python",
   "pygments_lexer": "ipython2",
   "version": "2.7.13"
  }
 },
 "nbformat": 4,
 "nbformat_minor": 2
}
