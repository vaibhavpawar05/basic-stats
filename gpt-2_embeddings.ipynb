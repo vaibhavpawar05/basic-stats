{
 "cells": [
  {
   "cell_type": "code",
   "execution_count": 1,
   "metadata": {
    "collapsed": false
   },
   "outputs": [],
   "source": [
    "import torch\n",
    "from pytorch_pretrained_bert import GPT2Tokenizer, GPT2Model, GPT2LMHeadModel"
   ]
  },
  {
   "cell_type": "code",
   "execution_count": 2,
   "metadata": {
    "collapsed": true
   },
   "outputs": [],
   "source": [
    "import numpy as np\n",
    "import pandas as pd"
   ]
  },
  {
   "cell_type": "code",
   "execution_count": 20,
   "metadata": {
    "collapsed": true
   },
   "outputs": [],
   "source": [
    "from sklearn.model_selection import train_test_split\n",
    "import pickle"
   ]
  },
  {
   "cell_type": "code",
   "execution_count": 14,
   "metadata": {
    "collapsed": true
   },
   "outputs": [],
   "source": [
    "base_dir = '/Users/vaibhav/MiscProjects/question-classification/'"
   ]
  },
  {
   "cell_type": "code",
   "execution_count": 15,
   "metadata": {
    "collapsed": true
   },
   "outputs": [],
   "source": [
    "data_file = base_dir + 'questions_top5cat.xlsx'\n",
    "data_df = pd.read_excel(data_file)"
   ]
  },
  {
   "cell_type": "code",
   "execution_count": 16,
   "metadata": {
    "collapsed": true
   },
   "outputs": [],
   "source": [
    "# add row id\n",
    "data_df['row_id'] = data_df.reset_index().index"
   ]
  },
  {
   "cell_type": "code",
   "execution_count": 17,
   "metadata": {
    "collapsed": true
   },
   "outputs": [],
   "source": [
    "# create binary flags\n",
    "data_df = pd.concat([data_df, pd.get_dummies(data_df['category'], prefix='f')], axis=1)"
   ]
  },
  {
   "cell_type": "code",
   "execution_count": 18,
   "metadata": {
    "collapsed": true
   },
   "outputs": [],
   "source": [
    "data_df2 = data_df"
   ]
  },
  {
   "cell_type": "code",
   "execution_count": 51,
   "metadata": {
    "collapsed": false
   },
   "outputs": [
    {
     "data": {
      "text/plain": [
       "(526, 9)"
      ]
     },
     "execution_count": 51,
     "metadata": {},
     "output_type": "execute_result"
    }
   ],
   "source": [
    "data_df2.shape"
   ]
  },
  {
   "cell_type": "code",
   "execution_count": 21,
   "metadata": {
    "collapsed": false
   },
   "outputs": [],
   "source": [
    "all_cats = data_df2['category'].unique()\n",
    "for i, cat in enumerate(all_cats):\n",
    "    data_df2_cat = data_df2[(data_df2['original'] == 1) & (data_df2['category'] == cat)]\n",
    "    data_df2_cat_tr, data_df2_cat_ts, _, _ = train_test_split(data_df2_cat, data_df2_cat, \n",
    "                                                              test_size=25, random_state=42)\n",
    "    if i == 0:\n",
    "        data_df2_tr = data_df2_cat_tr\n",
    "        data_df2_ts = data_df2_cat_ts\n",
    "    else:\n",
    "        data_df2_tr = pd.concat([data_df2_tr, data_df2_cat_tr], axis=0)\n",
    "        data_df2_ts = pd.concat([data_df2_ts, data_df2_cat_ts], axis=0)"
   ]
  },
  {
   "cell_type": "code",
   "execution_count": 53,
   "metadata": {
    "collapsed": false
   },
   "outputs": [],
   "source": [
    "# append other examples to train set\n",
    "data_df2_tr = pd.concat([data_df2_tr, data_df2[data_df2['original'] == 0]], axis=0)"
   ]
  },
  {
   "cell_type": "code",
   "execution_count": 3,
   "metadata": {
    "collapsed": false
   },
   "outputs": [],
   "source": [
    "tokenizer = GPT2Tokenizer.from_pretrained('/Users/vaibhav/MiscProjects/gpt-2/')"
   ]
  },
  {
   "cell_type": "code",
   "execution_count": 4,
   "metadata": {
    "collapsed": true
   },
   "outputs": [],
   "source": [
    "text_1 = \"Who was Jim Henson ?\"\n",
    "indexed_tokens_1 = tokenizer.encode(text_1)\n",
    "tokens_tensor_1 = torch.tensor([indexed_tokens_1])"
   ]
  },
  {
   "cell_type": "code",
   "execution_count": 5,
   "metadata": {
    "collapsed": false
   },
   "outputs": [
    {
     "data": {
      "text/plain": [
       "[8241, 373, 5395, 367, 19069, 5633]"
      ]
     },
     "execution_count": 5,
     "metadata": {},
     "output_type": "execute_result"
    }
   ],
   "source": [
    "indexed_tokens_1"
   ]
  },
  {
   "cell_type": "code",
   "execution_count": 6,
   "metadata": {
    "collapsed": true
   },
   "outputs": [
    {
     "data": {
      "text/plain": [
       "GPT2Model(\n",
       "  (wte): Embedding(50257, 768)\n",
       "  (wpe): Embedding(1024, 768)\n",
       "  (h): ModuleList(\n",
       "    (0): Block(\n",
       "      (ln_1): BertLayerNorm()\n",
       "      (attn): Attention(\n",
       "        (c_attn): Conv1D()\n",
       "        (c_proj): Conv1D()\n",
       "      )\n",
       "      (ln_2): BertLayerNorm()\n",
       "      (mlp): MLP(\n",
       "        (c_fc): Conv1D()\n",
       "        (c_proj): Conv1D()\n",
       "      )\n",
       "    )\n",
       "    (1): Block(\n",
       "      (ln_1): BertLayerNorm()\n",
       "      (attn): Attention(\n",
       "        (c_attn): Conv1D()\n",
       "        (c_proj): Conv1D()\n",
       "      )\n",
       "      (ln_2): BertLayerNorm()\n",
       "      (mlp): MLP(\n",
       "        (c_fc): Conv1D()\n",
       "        (c_proj): Conv1D()\n",
       "      )\n",
       "    )\n",
       "    (2): Block(\n",
       "      (ln_1): BertLayerNorm()\n",
       "      (attn): Attention(\n",
       "        (c_attn): Conv1D()\n",
       "        (c_proj): Conv1D()\n",
       "      )\n",
       "      (ln_2): BertLayerNorm()\n",
       "      (mlp): MLP(\n",
       "        (c_fc): Conv1D()\n",
       "        (c_proj): Conv1D()\n",
       "      )\n",
       "    )\n",
       "    (3): Block(\n",
       "      (ln_1): BertLayerNorm()\n",
       "      (attn): Attention(\n",
       "        (c_attn): Conv1D()\n",
       "        (c_proj): Conv1D()\n",
       "      )\n",
       "      (ln_2): BertLayerNorm()\n",
       "      (mlp): MLP(\n",
       "        (c_fc): Conv1D()\n",
       "        (c_proj): Conv1D()\n",
       "      )\n",
       "    )\n",
       "    (4): Block(\n",
       "      (ln_1): BertLayerNorm()\n",
       "      (attn): Attention(\n",
       "        (c_attn): Conv1D()\n",
       "        (c_proj): Conv1D()\n",
       "      )\n",
       "      (ln_2): BertLayerNorm()\n",
       "      (mlp): MLP(\n",
       "        (c_fc): Conv1D()\n",
       "        (c_proj): Conv1D()\n",
       "      )\n",
       "    )\n",
       "    (5): Block(\n",
       "      (ln_1): BertLayerNorm()\n",
       "      (attn): Attention(\n",
       "        (c_attn): Conv1D()\n",
       "        (c_proj): Conv1D()\n",
       "      )\n",
       "      (ln_2): BertLayerNorm()\n",
       "      (mlp): MLP(\n",
       "        (c_fc): Conv1D()\n",
       "        (c_proj): Conv1D()\n",
       "      )\n",
       "    )\n",
       "    (6): Block(\n",
       "      (ln_1): BertLayerNorm()\n",
       "      (attn): Attention(\n",
       "        (c_attn): Conv1D()\n",
       "        (c_proj): Conv1D()\n",
       "      )\n",
       "      (ln_2): BertLayerNorm()\n",
       "      (mlp): MLP(\n",
       "        (c_fc): Conv1D()\n",
       "        (c_proj): Conv1D()\n",
       "      )\n",
       "    )\n",
       "    (7): Block(\n",
       "      (ln_1): BertLayerNorm()\n",
       "      (attn): Attention(\n",
       "        (c_attn): Conv1D()\n",
       "        (c_proj): Conv1D()\n",
       "      )\n",
       "      (ln_2): BertLayerNorm()\n",
       "      (mlp): MLP(\n",
       "        (c_fc): Conv1D()\n",
       "        (c_proj): Conv1D()\n",
       "      )\n",
       "    )\n",
       "    (8): Block(\n",
       "      (ln_1): BertLayerNorm()\n",
       "      (attn): Attention(\n",
       "        (c_attn): Conv1D()\n",
       "        (c_proj): Conv1D()\n",
       "      )\n",
       "      (ln_2): BertLayerNorm()\n",
       "      (mlp): MLP(\n",
       "        (c_fc): Conv1D()\n",
       "        (c_proj): Conv1D()\n",
       "      )\n",
       "    )\n",
       "    (9): Block(\n",
       "      (ln_1): BertLayerNorm()\n",
       "      (attn): Attention(\n",
       "        (c_attn): Conv1D()\n",
       "        (c_proj): Conv1D()\n",
       "      )\n",
       "      (ln_2): BertLayerNorm()\n",
       "      (mlp): MLP(\n",
       "        (c_fc): Conv1D()\n",
       "        (c_proj): Conv1D()\n",
       "      )\n",
       "    )\n",
       "    (10): Block(\n",
       "      (ln_1): BertLayerNorm()\n",
       "      (attn): Attention(\n",
       "        (c_attn): Conv1D()\n",
       "        (c_proj): Conv1D()\n",
       "      )\n",
       "      (ln_2): BertLayerNorm()\n",
       "      (mlp): MLP(\n",
       "        (c_fc): Conv1D()\n",
       "        (c_proj): Conv1D()\n",
       "      )\n",
       "    )\n",
       "    (11): Block(\n",
       "      (ln_1): BertLayerNorm()\n",
       "      (attn): Attention(\n",
       "        (c_attn): Conv1D()\n",
       "        (c_proj): Conv1D()\n",
       "      )\n",
       "      (ln_2): BertLayerNorm()\n",
       "      (mlp): MLP(\n",
       "        (c_fc): Conv1D()\n",
       "        (c_proj): Conv1D()\n",
       "      )\n",
       "    )\n",
       "  )\n",
       "  (ln_f): BertLayerNorm()\n",
       ")"
      ]
     },
     "execution_count": 6,
     "metadata": {},
     "output_type": "execute_result"
    }
   ],
   "source": [
    "model = GPT2Model.from_pretrained('/Users/vaibhav/MiscProjects/gpt-2/')\n",
    "model.eval()"
   ]
  },
  {
   "cell_type": "code",
   "execution_count": 7,
   "metadata": {
    "collapsed": true
   },
   "outputs": [],
   "source": [
    "# Predict hidden states features for each layer\n",
    "with torch.no_grad():\n",
    "    hidden_states_1, past = model(tokens_tensor_1)"
   ]
  },
  {
   "cell_type": "code",
   "execution_count": 22,
   "metadata": {
    "collapsed": false
   },
   "outputs": [
    {
     "data": {
      "text/plain": [
       "(1, 6, 768)"
      ]
     },
     "execution_count": 22,
     "metadata": {},
     "output_type": "execute_result"
    }
   ],
   "source": [
    "hidden_states_1.numpy().shape"
   ]
  },
  {
   "cell_type": "code",
   "execution_count": 27,
   "metadata": {
    "collapsed": false
   },
   "outputs": [
    {
     "data": {
      "text/plain": [
       "(1, 768)"
      ]
     },
     "execution_count": 27,
     "metadata": {},
     "output_type": "execute_result"
    }
   ],
   "source": [
    "np.mean(hidden_states_1.numpy(), axis=1).shape"
   ]
  },
  {
   "cell_type": "code",
   "execution_count": 10,
   "metadata": {
    "collapsed": true
   },
   "outputs": [
    {
     "data": {
      "text/plain": [
       "['Will',\n",
       " 'Ġhardware',\n",
       " 'Ġproviders',\n",
       " 'Ġcapture',\n",
       " 'Ġa',\n",
       " 'Ġbigger',\n",
       " 'Ġshare',\n",
       " 'Ġof',\n",
       " 'Ġthe',\n",
       " 'Ġ$',\n",
       " '55',\n",
       " 'bn',\n",
       " 'ĠTAM',\n",
       " 'Ġthat',\n",
       " 'Ġyou',\n",
       " 'Ġclaim',\n",
       " 'Ġto',\n",
       " 'Ġhave',\n",
       " 'Ġaccess',\n",
       " 'Ġto',\n",
       " '?']"
      ]
     },
     "execution_count": 10,
     "metadata": {},
     "output_type": "execute_result"
    }
   ],
   "source": [
    "tokenizer.tokenize('Will hardware providers capture a bigger share of the $55bn TAM that you claim to have access to?')"
   ]
  },
  {
   "cell_type": "code",
   "execution_count": 48,
   "metadata": {
    "collapsed": true
   },
   "outputs": [],
   "source": [
    "def replace_oov(text):\n",
    "    text = text.replace(\"don’t\", \"do not\")\n",
    "    return text"
   ]
  },
  {
   "cell_type": "code",
   "execution_count": 66,
   "metadata": {
    "collapsed": false
   },
   "outputs": [
    {
     "name": "stdout",
     "output_type": "stream",
     "text": [
      "0\n",
      "100\n",
      "200\n",
      "300\n",
      "400\n",
      "500\n"
     ]
    }
   ],
   "source": [
    "# p-means for elmo embeddings\n",
    "gpt2_sent_emb_mean = np.zeros((data_df2.shape[0], 768))\n",
    "for row in data_df2.itertuples():\n",
    "    indexed_tokens = tokenizer.encode(replace_oov(row.question))\n",
    "    tokens_tensor = torch.tensor([indexed_tokens])\n",
    "    with torch.no_grad():\n",
    "        hidden_states, past = model(tokens_tensor)\n",
    "    gpt2_sent_emb_mean[row.Index] = np.mean(hidden_states.numpy(), axis=1)\n",
    "    if row.Index%100 == 0:\n",
    "        print(row.Index)"
   ]
  },
  {
   "cell_type": "code",
   "execution_count": 65,
   "metadata": {
    "collapsed": false
   },
   "outputs": [
    {
     "data": {
      "text/plain": [
       "(1, 768)"
      ]
     },
     "execution_count": 65,
     "metadata": {},
     "output_type": "execute_result"
    }
   ],
   "source": [
    "np.mean(hidden_states.numpy(), axis=1).shape"
   ]
  },
  {
   "cell_type": "code",
   "execution_count": 67,
   "metadata": {
    "collapsed": true
   },
   "outputs": [],
   "source": [
    "gpt2_sent_emb_mean_df = pd.DataFrame(data=gpt2_sent_emb_mean)\n",
    "gpt2_sent_emb_mean_df['row_id'] = gpt2_sent_emb_mean_df.reset_index().index\n",
    "\n",
    "data_df2_tr6 = pd.merge(data_df2_tr, gpt2_sent_emb_mean_df, \n",
    "                        left_on='row_id', right_on='row_id',\n",
    "                        how = 'left',\n",
    "                        suffixes=('_l', '_r'))\n",
    "\n",
    "data_df2_ts6 = pd.merge(data_df2_ts, gpt2_sent_emb_mean_df, \n",
    "                        left_on='row_id', right_on='row_id',\n",
    "                        how = 'left',\n",
    "                        suffixes=('_l', '_r'))\n",
    "\n",
    "pickle.dump(data_df2_tr6, open(base_dir + 'data_df2_tr6.pkl', 'wb'))\n",
    "pickle.dump(data_df2_ts6, open(base_dir + 'data_df2_ts6.pkl', 'wb'))"
   ]
  },
  {
   "cell_type": "code",
   "execution_count": null,
   "metadata": {
    "collapsed": true
   },
   "outputs": [],
   "source": []
  },
  {
   "cell_type": "code",
   "execution_count": null,
   "metadata": {
    "collapsed": true
   },
   "outputs": [],
   "source": []
  }
 ],
 "metadata": {
  "kernelspec": {
   "display_name": "Python3 (for_bert)",
   "language": "python",
   "name": "for_bert"
  },
  "language_info": {
   "codemirror_mode": {
    "name": "ipython",
    "version": 3
   },
   "file_extension": ".py",
   "mimetype": "text/x-python",
   "name": "python",
   "nbconvert_exporter": "python",
   "pygments_lexer": "ipython3",
   "version": "3.6.2"
  }
 },
 "nbformat": 4,
 "nbformat_minor": 2
}
