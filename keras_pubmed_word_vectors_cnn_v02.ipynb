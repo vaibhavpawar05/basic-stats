{
 "cells": [
  {
   "cell_type": "code",
   "execution_count": 1,
   "metadata": {
    "collapsed": true
   },
   "outputs": [],
   "source": [
    "# Set directories\n",
    "base_dir = '/home/vaibhavpawar/codes/kaggle/personalized_medicine/'\n",
    "raw_data_dir = base_dir + 'raw_data/'\n",
    "pro_data_dir = base_dir + 'processed_data/'"
   ]
  },
  {
   "cell_type": "code",
   "execution_count": 194,
   "metadata": {
    "collapsed": true
   },
   "outputs": [],
   "source": [
    "# imports\n",
    "import pandas as pd\n",
    "import numpy as np\n",
    "from keras.preprocessing.text import Tokenizer\n",
    "from keras.preprocessing.sequence import pad_sequences\n",
    "from gensim.models.keyedvectors import KeyedVectors\n",
    "from tqdm import tqdm\n",
    "from joblib import Parallel, delayed\n",
    "import multiprocessing\n",
    "from keras.preprocessing.text import Tokenizer\n",
    "from keras.preprocessing.sequence import pad_sequences\n",
    "from keras.utils import to_categorical\n",
    "from keras.layers import Dense, Input, Flatten, concatenate, Dropout, multiply\n",
    "from keras.layers import Conv1D, MaxPooling1D, Embedding, LSTM, GRU\n",
    "from keras.models import Model\n",
    "from keras import backend as K, initializers, activations, regularizers\n",
    "from keras.engine.topology import Layer\n",
    "import tensorflow as tf"
   ]
  },
  {
   "cell_type": "code",
   "execution_count": 43,
   "metadata": {
    "collapsed": true
   },
   "outputs": [],
   "source": [
    "MAX_SEQUENCE_LENGTH = 20000\n",
    "MAX_NB_WORDS = 50000\n",
    "EMBEDDING_DIM = 200\n",
    "VALIDATION_SPLIT = 0.2"
   ]
  },
  {
   "cell_type": "code",
   "execution_count": 3,
   "metadata": {
    "collapsed": true
   },
   "outputs": [],
   "source": [
    "train_variant = pd.read_csv(raw_data_dir + 'training_variants')\n",
    "test_variant = pd.read_csv(raw_data_dir + 'test_variants')\n",
    "train_text = pd.read_csv(raw_data_dir + 'training_text', sep='\\|\\|', engine='python', \n",
    "                         header=None, skiprows=1, names=['ID','Text'])\n",
    "test_text = pd.read_csv(raw_data_dir + 'test_text', sep='\\|\\|', engine='python', \n",
    "                        header=None, skiprows=1, names=[\"ID\",\"Text\"])"
   ]
  },
  {
   "cell_type": "code",
   "execution_count": 4,
   "metadata": {
    "collapsed": true
   },
   "outputs": [],
   "source": [
    "train = pd.merge(train_variant, train_text, how='left', on='ID')\n",
    "test = pd.merge(test_variant, test_text, how='left', on='ID')"
   ]
  },
  {
   "cell_type": "code",
   "execution_count": 5,
   "metadata": {
    "collapsed": true
   },
   "outputs": [],
   "source": [
    "texts = []\n",
    "\n",
    "for row in train.itertuples():\n",
    "    texts.append(row.Text)\n",
    "    \n",
    "for row in test.itertuples():\n",
    "    texts.append(row.Text)"
   ]
  },
  {
   "cell_type": "code",
   "execution_count": 6,
   "metadata": {},
   "outputs": [
    {
     "name": "stdout",
     "output_type": "stream",
     "text": [
      "Found 197077 unique tokens.\n"
     ]
    }
   ],
   "source": [
    "tokenizer = Tokenizer()\n",
    "tokenizer.fit_on_texts(texts)\n",
    "sequences = tokenizer.texts_to_sequences(texts)\n",
    "\n",
    "word_index = tokenizer.word_index\n",
    "print('Found %s unique tokens.' % len(word_index))"
   ]
  },
  {
   "cell_type": "code",
   "execution_count": 9,
   "metadata": {
    "collapsed": true
   },
   "outputs": [],
   "source": [
    "pubmed_wv_file = '/home/vaibhavpawar/Downloads/pubmed_wv/wikipedia-pubmed-and-PMC-w2v.bin'\n",
    "embeddings_index = KeyedVectors.load_word2vec_format(pubmed_wv_file, binary=True)"
   ]
  },
  {
   "cell_type": "code",
   "execution_count": 12,
   "metadata": {},
   "outputs": [
    {
     "name": "stdout",
     "output_type": "stream",
     "text": [
      "134919\n",
      "62158\n",
      "62158\n"
     ]
    }
   ],
   "source": [
    "embedding_matrix = np.zeros((len(word_index) + 1, EMBEDDING_DIM))\n",
    "count_not_found = 0\n",
    "count_found = 0\n",
    "found = []\n",
    "for word, i in word_index.items():\n",
    "    try:\n",
    "        embedding_vector = embeddings_index[word]\n",
    "        embedding_matrix[i] = embedding_vector\n",
    "        #if count_found < 10:\n",
    "        #    print 'Found    : ' + word\n",
    "        count_found = count_found + 1\n",
    "        found.append(i)\n",
    "    except:\n",
    "        #if count_not_found < 10:\n",
    "        #    print 'Not Found: ' + word\n",
    "        count_not_found = count_not_found + 1\n",
    "        \n",
    "print count_not_found\n",
    "print count_found\n",
    "print len(found)"
   ]
  },
  {
   "cell_type": "code",
   "execution_count": null,
   "metadata": {},
   "outputs": [
    {
     "name": "stdout",
     "output_type": "stream",
     "text": [
      "16\n"
     ]
    }
   ],
   "source": [
    "num_cores = multiprocessing.cpu_count()\n",
    "print num_cores\n",
    "\n",
    "def del_nf(s):\n",
    "    for i in s:\n",
    "        if i not in found:\n",
    "            s.remove(i)\n",
    "            \n",
    "Parallel(n_jobs=num_cores)(delayed(del_nf)(s) for s in sequences)"
   ]
  },
  {
   "cell_type": "code",
   "execution_count": 25,
   "metadata": {
    "collapsed": true
   },
   "outputs": [],
   "source": [
    "seq_len = [len(s) for s in sequences]"
   ]
  },
  {
   "cell_type": "code",
   "execution_count": 39,
   "metadata": {},
   "outputs": [
    {
     "data": {
      "text/plain": [
       "5945"
      ]
     },
     "execution_count": 39,
     "metadata": {},
     "output_type": "execute_result"
    }
   ],
   "source": [
    "sum([1 if sl <= 10000 else 0 for sl in seq_len])"
   ]
  },
  {
   "cell_type": "code",
   "execution_count": 37,
   "metadata": {
    "collapsed": true
   },
   "outputs": [],
   "source": [
    "import pickle\n",
    "with open(pro_data_dir + 'sequences.pkl', 'wb') as f:\n",
    "    pickle.dump(sequences, f)"
   ]
  },
  {
   "cell_type": "code",
   "execution_count": 59,
   "metadata": {},
   "outputs": [
    {
     "data": {
      "text/html": [
       "<div>\n",
       "<style>\n",
       "    .dataframe thead tr:only-child th {\n",
       "        text-align: right;\n",
       "    }\n",
       "\n",
       "    .dataframe thead th {\n",
       "        text-align: left;\n",
       "    }\n",
       "\n",
       "    .dataframe tbody tr th {\n",
       "        vertical-align: top;\n",
       "    }\n",
       "</style>\n",
       "<table border=\"1\" class=\"dataframe\">\n",
       "  <thead>\n",
       "    <tr style=\"text-align: right;\">\n",
       "      <th></th>\n",
       "      <th>ID</th>\n",
       "      <th>Gene</th>\n",
       "      <th>Variation</th>\n",
       "      <th>Class</th>\n",
       "    </tr>\n",
       "  </thead>\n",
       "  <tbody>\n",
       "    <tr>\n",
       "      <th>0</th>\n",
       "      <td>0</td>\n",
       "      <td>FAM58A</td>\n",
       "      <td>Truncating Mutations</td>\n",
       "      <td>1</td>\n",
       "    </tr>\n",
       "    <tr>\n",
       "      <th>1</th>\n",
       "      <td>1</td>\n",
       "      <td>CBL</td>\n",
       "      <td>W802*</td>\n",
       "      <td>2</td>\n",
       "    </tr>\n",
       "    <tr>\n",
       "      <th>2</th>\n",
       "      <td>2</td>\n",
       "      <td>CBL</td>\n",
       "      <td>Q249E</td>\n",
       "      <td>2</td>\n",
       "    </tr>\n",
       "    <tr>\n",
       "      <th>3</th>\n",
       "      <td>3</td>\n",
       "      <td>CBL</td>\n",
       "      <td>N454D</td>\n",
       "      <td>3</td>\n",
       "    </tr>\n",
       "    <tr>\n",
       "      <th>4</th>\n",
       "      <td>4</td>\n",
       "      <td>CBL</td>\n",
       "      <td>L399V</td>\n",
       "      <td>4</td>\n",
       "    </tr>\n",
       "  </tbody>\n",
       "</table>\n",
       "</div>"
      ],
      "text/plain": [
       "   ID    Gene             Variation  Class\n",
       "0   0  FAM58A  Truncating Mutations      1\n",
       "1   1     CBL                 W802*      2\n",
       "2   2     CBL                 Q249E      2\n",
       "3   3     CBL                 N454D      3\n",
       "4   4     CBL                 L399V      4"
      ]
     },
     "execution_count": 59,
     "metadata": {},
     "output_type": "execute_result"
    }
   ],
   "source": [
    "train_variant.head()"
   ]
  },
  {
   "cell_type": "code",
   "execution_count": 57,
   "metadata": {},
   "outputs": [
    {
     "name": "stdout",
     "output_type": "stream",
     "text": [
      "56\n",
      "8933\n"
     ]
    }
   ],
   "source": [
    "gene_embedding = np.zeros((8989, EMBEDDING_DIM))\n",
    "count_not_found = 0\n",
    "count_found = 0\n",
    "for i, row in enumerate(train_variant.itertuples()):\n",
    "    try:\n",
    "        embedding_vector = embeddings_index[row.Gene]\n",
    "        gene_embedding[i] = embedding_vector\n",
    "        #if count_found < 10:\n",
    "        #    print 'Found    : ' + word\n",
    "        count_found = count_found + 1\n",
    "    except:\n",
    "        #if count_not_found < 10:\n",
    "        #    print 'Not Found: ' + word\n",
    "        count_not_found = count_not_found + 1\n",
    "        \n",
    "for i, row in enumerate(test_variant.itertuples()):\n",
    "    try:\n",
    "        embedding_vector = embeddings_index[row.Gene]\n",
    "        gene_embedding[i] = embedding_vector\n",
    "        #if count_found < 10:\n",
    "        #    print 'Found    : ' + word\n",
    "        count_found = count_found + 1\n",
    "    except:\n",
    "        #if count_not_found < 10:\n",
    "        #    print 'Not Found: ' + word\n",
    "        count_not_found = count_not_found + 1\n",
    "        \n",
    "print count_not_found\n",
    "print count_found"
   ]
  },
  {
   "cell_type": "code",
   "execution_count": 60,
   "metadata": {},
   "outputs": [
    {
     "name": "stdout",
     "output_type": "stream",
     "text": [
      "5622\n",
      "3367\n"
     ]
    }
   ],
   "source": [
    "variation_embedding = np.zeros((8989, EMBEDDING_DIM))\n",
    "count_not_found = 0\n",
    "count_found = 0\n",
    "for i, row in enumerate(train_variant.itertuples()):\n",
    "    try:\n",
    "        embedding_vector = embeddings_index[row.Variation]\n",
    "        variation_embedding[i] = embedding_vector\n",
    "        #if count_found < 10:\n",
    "        #    print 'Found    : ' + word\n",
    "        count_found = count_found + 1\n",
    "    except:\n",
    "        #if count_not_found < 10:\n",
    "        #    print 'Not Found: ' + word\n",
    "        count_not_found = count_not_found + 1\n",
    "        \n",
    "for i, row in enumerate(test_variant.itertuples()):\n",
    "    try:\n",
    "        embedding_vector = embeddings_index[row.Variation]\n",
    "        variation_embedding[i] = embedding_vector\n",
    "        #if count_found < 10:\n",
    "        #    print 'Found    : ' + word\n",
    "        count_found = count_found + 1\n",
    "    except:\n",
    "        #if count_not_found < 10:\n",
    "        #    print 'Not Found: ' + word\n",
    "        count_not_found = count_not_found + 1\n",
    "        \n",
    "print count_not_found\n",
    "print count_found"
   ]
  },
  {
   "cell_type": "code",
   "execution_count": 177,
   "metadata": {
    "collapsed": true
   },
   "outputs": [],
   "source": [
    "class crossing(Layer):\n",
    "    def __init__(self,\n",
    "                 activation=None,\n",
    "                 use_bias=False,\n",
    "                 kernel_initializer='glorot_uniform',\n",
    "                 kernel_regularizer=None,\n",
    "                 **kwargs):\n",
    "        if 'input_shape' not in kwargs and 'input_dim' in kwargs:\n",
    "            kwargs['input_shape'] = (kwargs.pop('input_dim'),)\n",
    "        super(crossing, self).__init__(**kwargs)\n",
    "        self.activation = activations.get(activation)\n",
    "        self.use_bias = use_bias\n",
    "        self.kernel_initializer = initializers.get(kernel_initializer)\n",
    "        self.kernel_regularizer = regularizers.get(kernel_regularizer)\n",
    "\n",
    "    def build(self, input_shape):\n",
    "        assert len(input_shape) >= 2\n",
    "        input_dim = input_shape[-1]\n",
    "        \n",
    "        self.kernel = self.add_weight(shape=(input_dim, 1),\n",
    "                                      initializer=self.kernel_initializer,\n",
    "                                      name='kernel',\n",
    "                                      regularizer=self.kernel_regularizer)\n",
    "        \n",
    "        if self.use_bias:\n",
    "            self.bias = self.add_weight(shape=(1,),\n",
    "                                        initializer=self.bias_initializer,\n",
    "                                        name='bias',\n",
    "                                        regularizer=self.bias_regularizer)\n",
    "        else:\n",
    "            self.bias = None\n",
    "\n",
    "    def call(self, inputs):\n",
    "        \n",
    "        #output = K.dot(K.dot(K.transpose(inputs), inputs), self.kernel)\n",
    "        #shape1 = K.shape(inputs)\n",
    "        #shape1[-1] = shape1[-1]**2\n",
    "        #shape2 = K.shape(inputs)\n",
    "        #inp_dim = shape2[-1]\n",
    "        #shape2.append(inp_dim)\n",
    "        #output = K.dot(K.reshape(multiply([K.repeat_elements(inputs, inp_dim, axis=1), \n",
    "        #                             K.reshape(K.repeat(inputs,inp_dim), tuple(shape1))]),\n",
    "        #                   tuple(shape2)), self.kernel)\n",
    "        \n",
    "        shape = K.shape(inputs)\n",
    "        shape1 = tf.stack([shape[0],shape[1],1])\n",
    "        inputs_reshaped = K.reshape(inputs, shape1)        \n",
    "        inputs_reshaped2 = K.permute_dimensions(inputs_reshaped, (0, 2, 1))\n",
    "        \n",
    "        output = K.reshape(K.dot(K.batch_dot(inputs_reshaped2, inputs_reshaped, axes=[1,2]), self.kernel), shape)\n",
    "        \n",
    "        if self.use_bias:\n",
    "            output = K.bias_add(output, self.bias)\n",
    "\n",
    "        if self.activation is not None:\n",
    "            output = self.activation(output)\n",
    "            \n",
    "        return output\n",
    "\n",
    "    def compute_output_shape(self, input_shape):\n",
    "        assert input_shape and len(input_shape) >= 2\n",
    "        assert input_shape[-1]\n",
    "        output_shape = list(input_shape)\n",
    "        #output_shape[-1] = self.factors2\n",
    "        return tuple(output_shape)"
   ]
  },
  {
   "cell_type": "code",
   "execution_count": 181,
   "metadata": {
    "collapsed": true
   },
   "outputs": [],
   "source": [
    "init1 = initializers.he_normal()\n",
    "\n",
    "embedding_layer = Embedding(len(word_index) + 1,\n",
    "                            200,\n",
    "                            weights=[embedding_matrix],\n",
    "                            input_length=MAX_SEQUENCE_LENGTH,\n",
    "                            trainable=False)\n",
    "\n",
    "sequence_input = Input(shape=(MAX_SEQUENCE_LENGTH,), dtype='int32')\n",
    "embedded_sequences = embedding_layer(sequence_input)\n",
    "x = Dropout(0.3)(embedded_sequences)\n",
    "x = Conv1D(128, 5, activation='relu', kernel_initializer=init1)(x)\n",
    "x = MaxPooling1D(5)(x)\n",
    "x = Dropout(0.3)(x)\n",
    "x = Conv1D(128, 5, activation='relu', kernel_initializer=init1)(x)\n",
    "x = MaxPooling1D(5)(x)\n",
    "x = Dropout(0.3)(x)\n",
    "x = Conv1D(128, 5, activation='relu', kernel_initializer=init1)(x)\n",
    "x = MaxPooling1D(35)(x)  # global max pooling\n",
    "x = Flatten()(x)\n",
    "\n",
    "ge_input = Input(shape=(200,))\n",
    "ve_input = Input(shape=(200,))\n",
    "\n",
    "x1 = concatenate([x, ge_input, ve_input], axis=-1)\n",
    "x1 = Dropout(0.4)(x1)\n",
    "x1_cross = crossing(activation='relu', kernel_initializer=init1)(x1)\n",
    "\n",
    "x2 = concatenate([x1, x1_cross], axis=-1)\n",
    "\n",
    "x2 = Dropout(0.3)(x2)\n",
    "\n",
    "x2 = Dense(256, activation='relu', kernel_initializer=init1)(x2)\n",
    "x2 = Dropout(0.3)(x2)\n",
    "preds = Dense(9, activation='softmax', kernel_initializer=init1)(x2)\n",
    "\n",
    "model = Model([sequence_input, ge_input, ve_input], preds)\n",
    "model.compile(loss='categorical_crossentropy',\n",
    "              optimizer='adam',\n",
    "              metrics=['acc'])"
   ]
  },
  {
   "cell_type": "code",
   "execution_count": 157,
   "metadata": {},
   "outputs": [
    {
     "name": "stdout",
     "output_type": "stream",
     "text": [
      "(4, 3, 3)\n"
     ]
    },
    {
     "data": {
      "text/plain": [
       "array([[[ 0.01      ,  0.02      ,  0.03      ],\n",
       "        [ 0.02      ,  0.04      ,  0.06      ],\n",
       "        [ 0.03      ,  0.06      ,  0.09      ]],\n",
       "\n",
       "       [[ 0.16000001,  0.2       ,  0.24000001],\n",
       "        [ 0.2       ,  0.25      ,  0.30000001],\n",
       "        [ 0.24000001,  0.30000001,  0.36000001]],\n",
       "\n",
       "       [[ 0.0121    ,  0.0231    ,  0.0341    ],\n",
       "        [ 0.0231    ,  0.0441    ,  0.0651    ],\n",
       "        [ 0.0341    ,  0.0651    ,  0.0961    ]],\n",
       "\n",
       "       [[ 0.1681    ,  0.20909999,  0.25010002],\n",
       "        [ 0.20909999,  0.26009998,  0.31110001],\n",
       "        [ 0.25010002,  0.31110001,  0.37210003]]], dtype=float32)"
      ]
     },
     "execution_count": 157,
     "metadata": {},
     "output_type": "execute_result"
    }
   ],
   "source": [
    "x_batch = K.variable([[0.1, 0.2, 0.3], [0.4, 0.5, 0.6], [0.11, 0.21, 0.31], [0.41, 0.51, 0.61]])\n",
    "#xy_batch_dot = K.batch_dot(K.repeat(x_batch,2), x_batch, axes=1)\n",
    "#print K.int_shape(xy_batch_dot)\n",
    "#K.get_value(K.repeat_elements(x_batch, 3, axis=1))\n",
    "#K.get_value(K.reshape(K.repeat(x_batch,3),(4,9)))\n",
    "#xy_batch_dot = K.reshape(multiply([K.repeat_elements(x_batch, 3, axis=1), K.reshape(K.repeat(x_batch,3),(4,9))]),(4,3,3))\n",
    "#print K.int_shape(xy_batch_dot)\n",
    "#K.get_value(xy_batch_dot)"
   ]
  },
  {
   "cell_type": "code",
   "execution_count": 175,
   "metadata": {},
   "outputs": [
    {
     "data": {
      "image/svg+xml": [
       "<svg height=\"1568pt\" viewBox=\"0.00 0.00 918.00 1568.00\" width=\"918pt\" xmlns=\"http://www.w3.org/2000/svg\" xmlns:xlink=\"http://www.w3.org/1999/xlink\">\n",
       "<g class=\"graph\" id=\"graph0\" transform=\"scale(1 1) rotate(0) translate(4 1564)\">\n",
       "<title>G</title>\n",
       "<polygon fill=\"white\" points=\"-4,4 -4,-1564 914,-1564 914,4 -4,4\" stroke=\"none\"/>\n",
       "<!-- 139684646299024 -->\n",
       "<g class=\"node\" id=\"node1\"><title>139684646299024</title>\n",
       "<polygon fill=\"none\" points=\"54.5,-1513 54.5,-1559 337.5,-1559 337.5,-1513 54.5,-1513\" stroke=\"black\"/>\n",
       "<text font-family=\"Times,serif\" font-size=\"14.00\" text-anchor=\"middle\" x=\"120.5\" y=\"-1532.3\">input_69: InputLayer</text>\n",
       "<polyline fill=\"none\" points=\"186.5,-1513 186.5,-1559 \" stroke=\"black\"/>\n",
       "<text font-family=\"Times,serif\" font-size=\"14.00\" text-anchor=\"middle\" x=\"214\" y=\"-1543.8\">input:</text>\n",
       "<polyline fill=\"none\" points=\"186.5,-1536 241.5,-1536 \" stroke=\"black\"/>\n",
       "<text font-family=\"Times,serif\" font-size=\"14.00\" text-anchor=\"middle\" x=\"214\" y=\"-1520.8\">output:</text>\n",
       "<polyline fill=\"none\" points=\"241.5,-1513 241.5,-1559 \" stroke=\"black\"/>\n",
       "<text font-family=\"Times,serif\" font-size=\"14.00\" text-anchor=\"middle\" x=\"289.5\" y=\"-1543.8\">(None, 20000)</text>\n",
       "<polyline fill=\"none\" points=\"241.5,-1536 337.5,-1536 \" stroke=\"black\"/>\n",
       "<text font-family=\"Times,serif\" font-size=\"14.00\" text-anchor=\"middle\" x=\"289.5\" y=\"-1520.8\">(None, 20000)</text>\n",
       "</g>\n",
       "<!-- 139684646299984 -->\n",
       "<g class=\"node\" id=\"node2\"><title>139684646299984</title>\n",
       "<polygon fill=\"none\" points=\"22.5,-1429 22.5,-1475 369.5,-1475 369.5,-1429 22.5,-1429\" stroke=\"black\"/>\n",
       "<text font-family=\"Times,serif\" font-size=\"14.00\" text-anchor=\"middle\" x=\"106.5\" y=\"-1448.3\">embedding_25: Embedding</text>\n",
       "<polyline fill=\"none\" points=\"190.5,-1429 190.5,-1475 \" stroke=\"black\"/>\n",
       "<text font-family=\"Times,serif\" font-size=\"14.00\" text-anchor=\"middle\" x=\"218\" y=\"-1459.8\">input:</text>\n",
       "<polyline fill=\"none\" points=\"190.5,-1452 245.5,-1452 \" stroke=\"black\"/>\n",
       "<text font-family=\"Times,serif\" font-size=\"14.00\" text-anchor=\"middle\" x=\"218\" y=\"-1436.8\">output:</text>\n",
       "<polyline fill=\"none\" points=\"245.5,-1429 245.5,-1475 \" stroke=\"black\"/>\n",
       "<text font-family=\"Times,serif\" font-size=\"14.00\" text-anchor=\"middle\" x=\"307.5\" y=\"-1459.8\">(None, 20000)</text>\n",
       "<polyline fill=\"none\" points=\"245.5,-1452 369.5,-1452 \" stroke=\"black\"/>\n",
       "<text font-family=\"Times,serif\" font-size=\"14.00\" text-anchor=\"middle\" x=\"307.5\" y=\"-1436.8\">(None, 20000, 200)</text>\n",
       "</g>\n",
       "<!-- 139684646299024&#45;&gt;139684646299984 -->\n",
       "<g class=\"edge\" id=\"edge1\"><title>139684646299024-&gt;139684646299984</title>\n",
       "<path d=\"M196,-1512.59C196,-1504.12 196,-1494.3 196,-1485.1\" fill=\"none\" stroke=\"black\"/>\n",
       "<polygon fill=\"black\" points=\"199.5,-1485.1 196,-1475.1 192.5,-1485.1 199.5,-1485.1\" stroke=\"black\"/>\n",
       "</g>\n",
       "<!-- 139684646301584 -->\n",
       "<g class=\"node\" id=\"node3\"><title>139684646301584</title>\n",
       "<polygon fill=\"none\" points=\"41,-1345 41,-1391 351,-1391 351,-1345 41,-1345\" stroke=\"black\"/>\n",
       "<text font-family=\"Times,serif\" font-size=\"14.00\" text-anchor=\"middle\" x=\"106.5\" y=\"-1364.3\">dropout_63: Dropout</text>\n",
       "<polyline fill=\"none\" points=\"172,-1345 172,-1391 \" stroke=\"black\"/>\n",
       "<text font-family=\"Times,serif\" font-size=\"14.00\" text-anchor=\"middle\" x=\"199.5\" y=\"-1375.8\">input:</text>\n",
       "<polyline fill=\"none\" points=\"172,-1368 227,-1368 \" stroke=\"black\"/>\n",
       "<text font-family=\"Times,serif\" font-size=\"14.00\" text-anchor=\"middle\" x=\"199.5\" y=\"-1352.8\">output:</text>\n",
       "<polyline fill=\"none\" points=\"227,-1345 227,-1391 \" stroke=\"black\"/>\n",
       "<text font-family=\"Times,serif\" font-size=\"14.00\" text-anchor=\"middle\" x=\"289\" y=\"-1375.8\">(None, 20000, 200)</text>\n",
       "<polyline fill=\"none\" points=\"227,-1368 351,-1368 \" stroke=\"black\"/>\n",
       "<text font-family=\"Times,serif\" font-size=\"14.00\" text-anchor=\"middle\" x=\"289\" y=\"-1352.8\">(None, 20000, 200)</text>\n",
       "</g>\n",
       "<!-- 139684646299984&#45;&gt;139684646301584 -->\n",
       "<g class=\"edge\" id=\"edge2\"><title>139684646299984-&gt;139684646301584</title>\n",
       "<path d=\"M196,-1428.59C196,-1420.12 196,-1410.3 196,-1401.1\" fill=\"none\" stroke=\"black\"/>\n",
       "<polygon fill=\"black\" points=\"199.5,-1401.1 196,-1391.1 192.5,-1401.1 199.5,-1401.1\" stroke=\"black\"/>\n",
       "</g>\n",
       "<!-- 139684646203024 -->\n",
       "<g class=\"node\" id=\"node4\"><title>139684646203024</title>\n",
       "<polygon fill=\"none\" points=\"41.5,-1261 41.5,-1307 350.5,-1307 350.5,-1261 41.5,-1261\" stroke=\"black\"/>\n",
       "<text font-family=\"Times,serif\" font-size=\"14.00\" text-anchor=\"middle\" x=\"106.5\" y=\"-1280.3\">conv1d_70: Conv1D</text>\n",
       "<polyline fill=\"none\" points=\"171.5,-1261 171.5,-1307 \" stroke=\"black\"/>\n",
       "<text font-family=\"Times,serif\" font-size=\"14.00\" text-anchor=\"middle\" x=\"199\" y=\"-1291.8\">input:</text>\n",
       "<polyline fill=\"none\" points=\"171.5,-1284 226.5,-1284 \" stroke=\"black\"/>\n",
       "<text font-family=\"Times,serif\" font-size=\"14.00\" text-anchor=\"middle\" x=\"199\" y=\"-1268.8\">output:</text>\n",
       "<polyline fill=\"none\" points=\"226.5,-1261 226.5,-1307 \" stroke=\"black\"/>\n",
       "<text font-family=\"Times,serif\" font-size=\"14.00\" text-anchor=\"middle\" x=\"288.5\" y=\"-1291.8\">(None, 20000, 200)</text>\n",
       "<polyline fill=\"none\" points=\"226.5,-1284 350.5,-1284 \" stroke=\"black\"/>\n",
       "<text font-family=\"Times,serif\" font-size=\"14.00\" text-anchor=\"middle\" x=\"288.5\" y=\"-1268.8\">(None, 19996, 128)</text>\n",
       "</g>\n",
       "<!-- 139684646301584&#45;&gt;139684646203024 -->\n",
       "<g class=\"edge\" id=\"edge3\"><title>139684646301584-&gt;139684646203024</title>\n",
       "<path d=\"M196,-1344.59C196,-1336.12 196,-1326.3 196,-1317.1\" fill=\"none\" stroke=\"black\"/>\n",
       "<polygon fill=\"black\" points=\"199.5,-1317.1 196,-1307.1 192.5,-1317.1 199.5,-1317.1\" stroke=\"black\"/>\n",
       "</g>\n",
       "<!-- 139684646301520 -->\n",
       "<g class=\"node\" id=\"node5\"><title>139684646301520</title>\n",
       "<polygon fill=\"none\" points=\"-0.5,-1177 -0.5,-1223 392.5,-1223 392.5,-1177 -0.5,-1177\" stroke=\"black\"/>\n",
       "<text font-family=\"Times,serif\" font-size=\"14.00\" text-anchor=\"middle\" x=\"106.5\" y=\"-1196.3\">max_pooling1d_70: MaxPooling1D</text>\n",
       "<polyline fill=\"none\" points=\"213.5,-1177 213.5,-1223 \" stroke=\"black\"/>\n",
       "<text font-family=\"Times,serif\" font-size=\"14.00\" text-anchor=\"middle\" x=\"241\" y=\"-1207.8\">input:</text>\n",
       "<polyline fill=\"none\" points=\"213.5,-1200 268.5,-1200 \" stroke=\"black\"/>\n",
       "<text font-family=\"Times,serif\" font-size=\"14.00\" text-anchor=\"middle\" x=\"241\" y=\"-1184.8\">output:</text>\n",
       "<polyline fill=\"none\" points=\"268.5,-1177 268.5,-1223 \" stroke=\"black\"/>\n",
       "<text font-family=\"Times,serif\" font-size=\"14.00\" text-anchor=\"middle\" x=\"330.5\" y=\"-1207.8\">(None, 19996, 128)</text>\n",
       "<polyline fill=\"none\" points=\"268.5,-1200 392.5,-1200 \" stroke=\"black\"/>\n",
       "<text font-family=\"Times,serif\" font-size=\"14.00\" text-anchor=\"middle\" x=\"330.5\" y=\"-1184.8\">(None, 3999, 128)</text>\n",
       "</g>\n",
       "<!-- 139684646203024&#45;&gt;139684646301520 -->\n",
       "<g class=\"edge\" id=\"edge4\"><title>139684646203024-&gt;139684646301520</title>\n",
       "<path d=\"M196,-1260.59C196,-1252.12 196,-1242.3 196,-1233.1\" fill=\"none\" stroke=\"black\"/>\n",
       "<polygon fill=\"black\" points=\"199.5,-1233.1 196,-1223.1 192.5,-1233.1 199.5,-1233.1\" stroke=\"black\"/>\n",
       "</g>\n",
       "<!-- 139684637330640 -->\n",
       "<g class=\"node\" id=\"node6\"><title>139684637330640</title>\n",
       "<polygon fill=\"none\" points=\"44.5,-1093 44.5,-1139 347.5,-1139 347.5,-1093 44.5,-1093\" stroke=\"black\"/>\n",
       "<text font-family=\"Times,serif\" font-size=\"14.00\" text-anchor=\"middle\" x=\"110\" y=\"-1112.3\">dropout_64: Dropout</text>\n",
       "<polyline fill=\"none\" points=\"175.5,-1093 175.5,-1139 \" stroke=\"black\"/>\n",
       "<text font-family=\"Times,serif\" font-size=\"14.00\" text-anchor=\"middle\" x=\"203\" y=\"-1123.8\">input:</text>\n",
       "<polyline fill=\"none\" points=\"175.5,-1116 230.5,-1116 \" stroke=\"black\"/>\n",
       "<text font-family=\"Times,serif\" font-size=\"14.00\" text-anchor=\"middle\" x=\"203\" y=\"-1100.8\">output:</text>\n",
       "<polyline fill=\"none\" points=\"230.5,-1093 230.5,-1139 \" stroke=\"black\"/>\n",
       "<text font-family=\"Times,serif\" font-size=\"14.00\" text-anchor=\"middle\" x=\"289\" y=\"-1123.8\">(None, 3999, 128)</text>\n",
       "<polyline fill=\"none\" points=\"230.5,-1116 347.5,-1116 \" stroke=\"black\"/>\n",
       "<text font-family=\"Times,serif\" font-size=\"14.00\" text-anchor=\"middle\" x=\"289\" y=\"-1100.8\">(None, 3999, 128)</text>\n",
       "</g>\n",
       "<!-- 139684646301520&#45;&gt;139684637330640 -->\n",
       "<g class=\"edge\" id=\"edge5\"><title>139684646301520-&gt;139684637330640</title>\n",
       "<path d=\"M196,-1176.59C196,-1168.12 196,-1158.3 196,-1149.1\" fill=\"none\" stroke=\"black\"/>\n",
       "<polygon fill=\"black\" points=\"199.5,-1149.1 196,-1139.1 192.5,-1149.1 199.5,-1149.1\" stroke=\"black\"/>\n",
       "</g>\n",
       "<!-- 139684636567440 -->\n",
       "<g class=\"node\" id=\"node7\"><title>139684636567440</title>\n",
       "<polygon fill=\"none\" points=\"45,-1009 45,-1055 347,-1055 347,-1009 45,-1009\" stroke=\"black\"/>\n",
       "<text font-family=\"Times,serif\" font-size=\"14.00\" text-anchor=\"middle\" x=\"110\" y=\"-1028.3\">conv1d_71: Conv1D</text>\n",
       "<polyline fill=\"none\" points=\"175,-1009 175,-1055 \" stroke=\"black\"/>\n",
       "<text font-family=\"Times,serif\" font-size=\"14.00\" text-anchor=\"middle\" x=\"202.5\" y=\"-1039.8\">input:</text>\n",
       "<polyline fill=\"none\" points=\"175,-1032 230,-1032 \" stroke=\"black\"/>\n",
       "<text font-family=\"Times,serif\" font-size=\"14.00\" text-anchor=\"middle\" x=\"202.5\" y=\"-1016.8\">output:</text>\n",
       "<polyline fill=\"none\" points=\"230,-1009 230,-1055 \" stroke=\"black\"/>\n",
       "<text font-family=\"Times,serif\" font-size=\"14.00\" text-anchor=\"middle\" x=\"288.5\" y=\"-1039.8\">(None, 3999, 128)</text>\n",
       "<polyline fill=\"none\" points=\"230,-1032 347,-1032 \" stroke=\"black\"/>\n",
       "<text font-family=\"Times,serif\" font-size=\"14.00\" text-anchor=\"middle\" x=\"288.5\" y=\"-1016.8\">(None, 3995, 128)</text>\n",
       "</g>\n",
       "<!-- 139684637330640&#45;&gt;139684636567440 -->\n",
       "<g class=\"edge\" id=\"edge6\"><title>139684637330640-&gt;139684636567440</title>\n",
       "<path d=\"M196,-1092.59C196,-1084.12 196,-1074.3 196,-1065.1\" fill=\"none\" stroke=\"black\"/>\n",
       "<polygon fill=\"black\" points=\"199.5,-1065.1 196,-1055.1 192.5,-1065.1 199.5,-1065.1\" stroke=\"black\"/>\n",
       "</g>\n",
       "<!-- 139684646301072 -->\n",
       "<g class=\"node\" id=\"node8\"><title>139684646301072</title>\n",
       "<polygon fill=\"none\" points=\"3,-925 3,-971 389,-971 389,-925 3,-925\" stroke=\"black\"/>\n",
       "<text font-family=\"Times,serif\" font-size=\"14.00\" text-anchor=\"middle\" x=\"110\" y=\"-944.3\">max_pooling1d_71: MaxPooling1D</text>\n",
       "<polyline fill=\"none\" points=\"217,-925 217,-971 \" stroke=\"black\"/>\n",
       "<text font-family=\"Times,serif\" font-size=\"14.00\" text-anchor=\"middle\" x=\"244.5\" y=\"-955.8\">input:</text>\n",
       "<polyline fill=\"none\" points=\"217,-948 272,-948 \" stroke=\"black\"/>\n",
       "<text font-family=\"Times,serif\" font-size=\"14.00\" text-anchor=\"middle\" x=\"244.5\" y=\"-932.8\">output:</text>\n",
       "<polyline fill=\"none\" points=\"272,-925 272,-971 \" stroke=\"black\"/>\n",
       "<text font-family=\"Times,serif\" font-size=\"14.00\" text-anchor=\"middle\" x=\"330.5\" y=\"-955.8\">(None, 3995, 128)</text>\n",
       "<polyline fill=\"none\" points=\"272,-948 389,-948 \" stroke=\"black\"/>\n",
       "<text font-family=\"Times,serif\" font-size=\"14.00\" text-anchor=\"middle\" x=\"330.5\" y=\"-932.8\">(None, 799, 128)</text>\n",
       "</g>\n",
       "<!-- 139684636567440&#45;&gt;139684646301072 -->\n",
       "<g class=\"edge\" id=\"edge7\"><title>139684636567440-&gt;139684646301072</title>\n",
       "<path d=\"M196,-1008.59C196,-1000.12 196,-990.297 196,-981.104\" fill=\"none\" stroke=\"black\"/>\n",
       "<polygon fill=\"black\" points=\"199.5,-981.096 196,-971.096 192.5,-981.096 199.5,-981.096\" stroke=\"black\"/>\n",
       "</g>\n",
       "<!-- 139684636645200 -->\n",
       "<g class=\"node\" id=\"node9\"><title>139684636645200</title>\n",
       "<polygon fill=\"none\" points=\"48,-841 48,-887 344,-887 344,-841 48,-841\" stroke=\"black\"/>\n",
       "<text font-family=\"Times,serif\" font-size=\"14.00\" text-anchor=\"middle\" x=\"113.5\" y=\"-860.3\">dropout_65: Dropout</text>\n",
       "<polyline fill=\"none\" points=\"179,-841 179,-887 \" stroke=\"black\"/>\n",
       "<text font-family=\"Times,serif\" font-size=\"14.00\" text-anchor=\"middle\" x=\"206.5\" y=\"-871.8\">input:</text>\n",
       "<polyline fill=\"none\" points=\"179,-864 234,-864 \" stroke=\"black\"/>\n",
       "<text font-family=\"Times,serif\" font-size=\"14.00\" text-anchor=\"middle\" x=\"206.5\" y=\"-848.8\">output:</text>\n",
       "<polyline fill=\"none\" points=\"234,-841 234,-887 \" stroke=\"black\"/>\n",
       "<text font-family=\"Times,serif\" font-size=\"14.00\" text-anchor=\"middle\" x=\"289\" y=\"-871.8\">(None, 799, 128)</text>\n",
       "<polyline fill=\"none\" points=\"234,-864 344,-864 \" stroke=\"black\"/>\n",
       "<text font-family=\"Times,serif\" font-size=\"14.00\" text-anchor=\"middle\" x=\"289\" y=\"-848.8\">(None, 799, 128)</text>\n",
       "</g>\n",
       "<!-- 139684646301072&#45;&gt;139684636645200 -->\n",
       "<g class=\"edge\" id=\"edge8\"><title>139684646301072-&gt;139684636645200</title>\n",
       "<path d=\"M196,-924.593C196,-916.118 196,-906.297 196,-897.104\" fill=\"none\" stroke=\"black\"/>\n",
       "<polygon fill=\"black\" points=\"199.5,-897.096 196,-887.096 192.5,-897.096 199.5,-897.096\" stroke=\"black\"/>\n",
       "</g>\n",
       "<!-- 139684637142608 -->\n",
       "<g class=\"node\" id=\"node10\"><title>139684637142608</title>\n",
       "<polygon fill=\"none\" points=\"48.5,-757 48.5,-803 343.5,-803 343.5,-757 48.5,-757\" stroke=\"black\"/>\n",
       "<text font-family=\"Times,serif\" font-size=\"14.00\" text-anchor=\"middle\" x=\"113.5\" y=\"-776.3\">conv1d_72: Conv1D</text>\n",
       "<polyline fill=\"none\" points=\"178.5,-757 178.5,-803 \" stroke=\"black\"/>\n",
       "<text font-family=\"Times,serif\" font-size=\"14.00\" text-anchor=\"middle\" x=\"206\" y=\"-787.8\">input:</text>\n",
       "<polyline fill=\"none\" points=\"178.5,-780 233.5,-780 \" stroke=\"black\"/>\n",
       "<text font-family=\"Times,serif\" font-size=\"14.00\" text-anchor=\"middle\" x=\"206\" y=\"-764.8\">output:</text>\n",
       "<polyline fill=\"none\" points=\"233.5,-757 233.5,-803 \" stroke=\"black\"/>\n",
       "<text font-family=\"Times,serif\" font-size=\"14.00\" text-anchor=\"middle\" x=\"288.5\" y=\"-787.8\">(None, 799, 128)</text>\n",
       "<polyline fill=\"none\" points=\"233.5,-780 343.5,-780 \" stroke=\"black\"/>\n",
       "<text font-family=\"Times,serif\" font-size=\"14.00\" text-anchor=\"middle\" x=\"288.5\" y=\"-764.8\">(None, 795, 128)</text>\n",
       "</g>\n",
       "<!-- 139684636645200&#45;&gt;139684637142608 -->\n",
       "<g class=\"edge\" id=\"edge9\"><title>139684636645200-&gt;139684637142608</title>\n",
       "<path d=\"M196,-840.593C196,-832.118 196,-822.297 196,-813.104\" fill=\"none\" stroke=\"black\"/>\n",
       "<polygon fill=\"black\" points=\"199.5,-813.096 196,-803.096 192.5,-813.096 199.5,-813.096\" stroke=\"black\"/>\n",
       "</g>\n",
       "<!-- 139684636566800 -->\n",
       "<g class=\"node\" id=\"node11\"><title>139684636566800</title>\n",
       "<polygon fill=\"none\" points=\"6.5,-673 6.5,-719 385.5,-719 385.5,-673 6.5,-673\" stroke=\"black\"/>\n",
       "<text font-family=\"Times,serif\" font-size=\"14.00\" text-anchor=\"middle\" x=\"113.5\" y=\"-692.3\">max_pooling1d_72: MaxPooling1D</text>\n",
       "<polyline fill=\"none\" points=\"220.5,-673 220.5,-719 \" stroke=\"black\"/>\n",
       "<text font-family=\"Times,serif\" font-size=\"14.00\" text-anchor=\"middle\" x=\"248\" y=\"-703.8\">input:</text>\n",
       "<polyline fill=\"none\" points=\"220.5,-696 275.5,-696 \" stroke=\"black\"/>\n",
       "<text font-family=\"Times,serif\" font-size=\"14.00\" text-anchor=\"middle\" x=\"248\" y=\"-680.8\">output:</text>\n",
       "<polyline fill=\"none\" points=\"275.5,-673 275.5,-719 \" stroke=\"black\"/>\n",
       "<text font-family=\"Times,serif\" font-size=\"14.00\" text-anchor=\"middle\" x=\"330.5\" y=\"-703.8\">(None, 795, 128)</text>\n",
       "<polyline fill=\"none\" points=\"275.5,-696 385.5,-696 \" stroke=\"black\"/>\n",
       "<text font-family=\"Times,serif\" font-size=\"14.00\" text-anchor=\"middle\" x=\"330.5\" y=\"-680.8\">(None, 22, 128)</text>\n",
       "</g>\n",
       "<!-- 139684637142608&#45;&gt;139684636566800 -->\n",
       "<g class=\"edge\" id=\"edge10\"><title>139684637142608-&gt;139684636566800</title>\n",
       "<path d=\"M196,-756.593C196,-748.118 196,-738.297 196,-729.104\" fill=\"none\" stroke=\"black\"/>\n",
       "<polygon fill=\"black\" points=\"199.5,-729.096 196,-719.096 192.5,-729.096 199.5,-729.096\" stroke=\"black\"/>\n",
       "</g>\n",
       "<!-- 139684636704208 -->\n",
       "<g class=\"node\" id=\"node12\"><title>139684636704208</title>\n",
       "<polygon fill=\"none\" points=\"58.5,-589 58.5,-635 333.5,-635 333.5,-589 58.5,-589\" stroke=\"black\"/>\n",
       "<text font-family=\"Times,serif\" font-size=\"14.00\" text-anchor=\"middle\" x=\"116.5\" y=\"-608.3\">flatten_24: Flatten</text>\n",
       "<polyline fill=\"none\" points=\"174.5,-589 174.5,-635 \" stroke=\"black\"/>\n",
       "<text font-family=\"Times,serif\" font-size=\"14.00\" text-anchor=\"middle\" x=\"202\" y=\"-619.8\">input:</text>\n",
       "<polyline fill=\"none\" points=\"174.5,-612 229.5,-612 \" stroke=\"black\"/>\n",
       "<text font-family=\"Times,serif\" font-size=\"14.00\" text-anchor=\"middle\" x=\"202\" y=\"-596.8\">output:</text>\n",
       "<polyline fill=\"none\" points=\"229.5,-589 229.5,-635 \" stroke=\"black\"/>\n",
       "<text font-family=\"Times,serif\" font-size=\"14.00\" text-anchor=\"middle\" x=\"281.5\" y=\"-619.8\">(None, 22, 128)</text>\n",
       "<polyline fill=\"none\" points=\"229.5,-612 333.5,-612 \" stroke=\"black\"/>\n",
       "<text font-family=\"Times,serif\" font-size=\"14.00\" text-anchor=\"middle\" x=\"281.5\" y=\"-596.8\">(None, 2816)</text>\n",
       "</g>\n",
       "<!-- 139684636566800&#45;&gt;139684636704208 -->\n",
       "<g class=\"edge\" id=\"edge11\"><title>139684636566800-&gt;139684636704208</title>\n",
       "<path d=\"M196,-672.593C196,-664.118 196,-654.297 196,-645.104\" fill=\"none\" stroke=\"black\"/>\n",
       "<polygon fill=\"black\" points=\"199.5,-645.096 196,-635.096 192.5,-645.096 199.5,-645.096\" stroke=\"black\"/>\n",
       "</g>\n",
       "<!-- 139684635881040 -->\n",
       "<g class=\"node\" id=\"node15\"><title>139684635881040</title>\n",
       "<polygon fill=\"none\" points=\"249.5,-505 249.5,-551 724.5,-551 724.5,-505 249.5,-505\" stroke=\"black\"/>\n",
       "<text font-family=\"Times,serif\" font-size=\"14.00\" text-anchor=\"middle\" x=\"337\" y=\"-524.3\">concatenate_25: Concatenate</text>\n",
       "<polyline fill=\"none\" points=\"424.5,-505 424.5,-551 \" stroke=\"black\"/>\n",
       "<text font-family=\"Times,serif\" font-size=\"14.00\" text-anchor=\"middle\" x=\"452\" y=\"-535.8\">input:</text>\n",
       "<polyline fill=\"none\" points=\"424.5,-528 479.5,-528 \" stroke=\"black\"/>\n",
       "<text font-family=\"Times,serif\" font-size=\"14.00\" text-anchor=\"middle\" x=\"452\" y=\"-512.8\">output:</text>\n",
       "<polyline fill=\"none\" points=\"479.5,-505 479.5,-551 \" stroke=\"black\"/>\n",
       "<text font-family=\"Times,serif\" font-size=\"14.00\" text-anchor=\"middle\" x=\"602\" y=\"-535.8\">[(None, 2816), (None, 200), (None, 200)]</text>\n",
       "<polyline fill=\"none\" points=\"479.5,-528 724.5,-528 \" stroke=\"black\"/>\n",
       "<text font-family=\"Times,serif\" font-size=\"14.00\" text-anchor=\"middle\" x=\"602\" y=\"-512.8\">(None, 3216)</text>\n",
       "</g>\n",
       "<!-- 139684636704208&#45;&gt;139684635881040 -->\n",
       "<g class=\"edge\" id=\"edge12\"><title>139684636704208-&gt;139684635881040</title>\n",
       "<path d=\"M274.365,-588.918C312.856,-578.072 359.374,-564.963 399.074,-553.776\" fill=\"none\" stroke=\"black\"/>\n",
       "<polygon fill=\"black\" points=\"400.071,-557.132 408.747,-551.051 398.173,-550.394 400.071,-557.132\" stroke=\"black\"/>\n",
       "</g>\n",
       "<!-- 139684636179408 -->\n",
       "<g class=\"node\" id=\"node13\"><title>139684636179408</title>\n",
       "<polygon fill=\"none\" points=\"352,-589 352,-635 622,-635 622,-589 352,-589\" stroke=\"black\"/>\n",
       "<text font-family=\"Times,serif\" font-size=\"14.00\" text-anchor=\"middle\" x=\"418\" y=\"-608.3\">input_70: InputLayer</text>\n",
       "<polyline fill=\"none\" points=\"484,-589 484,-635 \" stroke=\"black\"/>\n",
       "<text font-family=\"Times,serif\" font-size=\"14.00\" text-anchor=\"middle\" x=\"511.5\" y=\"-619.8\">input:</text>\n",
       "<polyline fill=\"none\" points=\"484,-612 539,-612 \" stroke=\"black\"/>\n",
       "<text font-family=\"Times,serif\" font-size=\"14.00\" text-anchor=\"middle\" x=\"511.5\" y=\"-596.8\">output:</text>\n",
       "<polyline fill=\"none\" points=\"539,-589 539,-635 \" stroke=\"black\"/>\n",
       "<text font-family=\"Times,serif\" font-size=\"14.00\" text-anchor=\"middle\" x=\"580.5\" y=\"-619.8\">(None, 200)</text>\n",
       "<polyline fill=\"none\" points=\"539,-612 622,-612 \" stroke=\"black\"/>\n",
       "<text font-family=\"Times,serif\" font-size=\"14.00\" text-anchor=\"middle\" x=\"580.5\" y=\"-596.8\">(None, 200)</text>\n",
       "</g>\n",
       "<!-- 139684636179408&#45;&gt;139684635881040 -->\n",
       "<g class=\"edge\" id=\"edge13\"><title>139684636179408-&gt;139684635881040</title>\n",
       "<path d=\"M487,-588.593C487,-580.118 487,-570.297 487,-561.104\" fill=\"none\" stroke=\"black\"/>\n",
       "<polygon fill=\"black\" points=\"490.5,-561.096 487,-551.096 483.5,-561.096 490.5,-561.096\" stroke=\"black\"/>\n",
       "</g>\n",
       "<!-- 139684636179472 -->\n",
       "<g class=\"node\" id=\"node14\"><title>139684636179472</title>\n",
       "<polygon fill=\"none\" points=\"640,-589 640,-635 910,-635 910,-589 640,-589\" stroke=\"black\"/>\n",
       "<text font-family=\"Times,serif\" font-size=\"14.00\" text-anchor=\"middle\" x=\"706\" y=\"-608.3\">input_71: InputLayer</text>\n",
       "<polyline fill=\"none\" points=\"772,-589 772,-635 \" stroke=\"black\"/>\n",
       "<text font-family=\"Times,serif\" font-size=\"14.00\" text-anchor=\"middle\" x=\"799.5\" y=\"-619.8\">input:</text>\n",
       "<polyline fill=\"none\" points=\"772,-612 827,-612 \" stroke=\"black\"/>\n",
       "<text font-family=\"Times,serif\" font-size=\"14.00\" text-anchor=\"middle\" x=\"799.5\" y=\"-596.8\">output:</text>\n",
       "<polyline fill=\"none\" points=\"827,-589 827,-635 \" stroke=\"black\"/>\n",
       "<text font-family=\"Times,serif\" font-size=\"14.00\" text-anchor=\"middle\" x=\"868.5\" y=\"-619.8\">(None, 200)</text>\n",
       "<polyline fill=\"none\" points=\"827,-612 910,-612 \" stroke=\"black\"/>\n",
       "<text font-family=\"Times,serif\" font-size=\"14.00\" text-anchor=\"middle\" x=\"868.5\" y=\"-596.8\">(None, 200)</text>\n",
       "</g>\n",
       "<!-- 139684636179472&#45;&gt;139684635881040 -->\n",
       "<g class=\"edge\" id=\"edge14\"><title>139684636179472-&gt;139684635881040</title>\n",
       "<path d=\"M697.442,-588.918C659.429,-578.094 613.505,-565.019 574.268,-553.847\" fill=\"none\" stroke=\"black\"/>\n",
       "<polygon fill=\"black\" points=\"575.022,-550.423 564.446,-551.051 573.105,-557.155 575.022,-550.423\" stroke=\"black\"/>\n",
       "</g>\n",
       "<!-- 139684635881232 -->\n",
       "<g class=\"node\" id=\"node16\"><title>139684635881232</title>\n",
       "<polygon fill=\"none\" points=\"265,-421 265,-467 543,-467 543,-421 265,-421\" stroke=\"black\"/>\n",
       "<text font-family=\"Times,serif\" font-size=\"14.00\" text-anchor=\"middle\" x=\"332\" y=\"-440.3\">crossing_15: crossing</text>\n",
       "<polyline fill=\"none\" points=\"399,-421 399,-467 \" stroke=\"black\"/>\n",
       "<text font-family=\"Times,serif\" font-size=\"14.00\" text-anchor=\"middle\" x=\"426.5\" y=\"-451.8\">input:</text>\n",
       "<polyline fill=\"none\" points=\"399,-444 454,-444 \" stroke=\"black\"/>\n",
       "<text font-family=\"Times,serif\" font-size=\"14.00\" text-anchor=\"middle\" x=\"426.5\" y=\"-428.8\">output:</text>\n",
       "<polyline fill=\"none\" points=\"454,-421 454,-467 \" stroke=\"black\"/>\n",
       "<text font-family=\"Times,serif\" font-size=\"14.00\" text-anchor=\"middle\" x=\"498.5\" y=\"-451.8\">(None, 3216)</text>\n",
       "<polyline fill=\"none\" points=\"454,-444 543,-444 \" stroke=\"black\"/>\n",
       "<text font-family=\"Times,serif\" font-size=\"14.00\" text-anchor=\"middle\" x=\"498.5\" y=\"-428.8\">(None, 3216)</text>\n",
       "</g>\n",
       "<!-- 139684635881040&#45;&gt;139684635881232 -->\n",
       "<g class=\"edge\" id=\"edge15\"><title>139684635881040-&gt;139684635881232</title>\n",
       "<path d=\"M464.32,-504.593C454.819,-495.206 443.648,-484.17 433.518,-474.163\" fill=\"none\" stroke=\"black\"/>\n",
       "<polygon fill=\"black\" points=\"435.939,-471.634 426.365,-467.096 431.019,-476.614 435.939,-471.634\" stroke=\"black\"/>\n",
       "</g>\n",
       "<!-- 139684635881296 -->\n",
       "<g class=\"node\" id=\"node17\"><title>139684635881296</title>\n",
       "<polygon fill=\"none\" points=\"282.5,-337 282.5,-383 691.5,-383 691.5,-337 282.5,-337\" stroke=\"black\"/>\n",
       "<text font-family=\"Times,serif\" font-size=\"14.00\" text-anchor=\"middle\" x=\"370\" y=\"-356.3\">concatenate_26: Concatenate</text>\n",
       "<polyline fill=\"none\" points=\"457.5,-337 457.5,-383 \" stroke=\"black\"/>\n",
       "<text font-family=\"Times,serif\" font-size=\"14.00\" text-anchor=\"middle\" x=\"485\" y=\"-367.8\">input:</text>\n",
       "<polyline fill=\"none\" points=\"457.5,-360 512.5,-360 \" stroke=\"black\"/>\n",
       "<text font-family=\"Times,serif\" font-size=\"14.00\" text-anchor=\"middle\" x=\"485\" y=\"-344.8\">output:</text>\n",
       "<polyline fill=\"none\" points=\"512.5,-337 512.5,-383 \" stroke=\"black\"/>\n",
       "<text font-family=\"Times,serif\" font-size=\"14.00\" text-anchor=\"middle\" x=\"602\" y=\"-367.8\">[(None, 3216), (None, 3216)]</text>\n",
       "<polyline fill=\"none\" points=\"512.5,-360 691.5,-360 \" stroke=\"black\"/>\n",
       "<text font-family=\"Times,serif\" font-size=\"14.00\" text-anchor=\"middle\" x=\"602\" y=\"-344.8\">(None, 6432)</text>\n",
       "</g>\n",
       "<!-- 139684635881040&#45;&gt;139684635881296 -->\n",
       "<g class=\"edge\" id=\"edge16\"><title>139684635881040-&gt;139684635881296</title>\n",
       "<path d=\"M521.403,-504.906C533.422,-495.186 545.521,-482.632 552,-468 560.638,-448.494 560.638,-439.506 552,-420 546.938,-408.569 538.446,-398.406 529.242,-389.871\" fill=\"none\" stroke=\"black\"/>\n",
       "<polygon fill=\"black\" points=\"531.256,-386.986 521.403,-383.094 526.678,-392.282 531.256,-386.986\" stroke=\"black\"/>\n",
       "</g>\n",
       "<!-- 139684635881232&#45;&gt;139684635881296 -->\n",
       "<g class=\"edge\" id=\"edge17\"><title>139684635881232-&gt;139684635881296</title>\n",
       "<path d=\"M426.68,-420.593C436.181,-411.206 447.352,-400.17 457.482,-390.163\" fill=\"none\" stroke=\"black\"/>\n",
       "<polygon fill=\"black\" points=\"459.981,-392.614 464.635,-383.096 455.061,-387.634 459.981,-392.614\" stroke=\"black\"/>\n",
       "</g>\n",
       "<!-- 139684635968208 -->\n",
       "<g class=\"node\" id=\"node18\"><title>139684635968208</title>\n",
       "<polygon fill=\"none\" points=\"349.5,-253 349.5,-299 624.5,-299 624.5,-253 349.5,-253\" stroke=\"black\"/>\n",
       "<text font-family=\"Times,serif\" font-size=\"14.00\" text-anchor=\"middle\" x=\"415\" y=\"-272.3\">dropout_66: Dropout</text>\n",
       "<polyline fill=\"none\" points=\"480.5,-253 480.5,-299 \" stroke=\"black\"/>\n",
       "<text font-family=\"Times,serif\" font-size=\"14.00\" text-anchor=\"middle\" x=\"508\" y=\"-283.8\">input:</text>\n",
       "<polyline fill=\"none\" points=\"480.5,-276 535.5,-276 \" stroke=\"black\"/>\n",
       "<text font-family=\"Times,serif\" font-size=\"14.00\" text-anchor=\"middle\" x=\"508\" y=\"-260.8\">output:</text>\n",
       "<polyline fill=\"none\" points=\"535.5,-253 535.5,-299 \" stroke=\"black\"/>\n",
       "<text font-family=\"Times,serif\" font-size=\"14.00\" text-anchor=\"middle\" x=\"580\" y=\"-283.8\">(None, 6432)</text>\n",
       "<polyline fill=\"none\" points=\"535.5,-276 624.5,-276 \" stroke=\"black\"/>\n",
       "<text font-family=\"Times,serif\" font-size=\"14.00\" text-anchor=\"middle\" x=\"580\" y=\"-260.8\">(None, 6432)</text>\n",
       "</g>\n",
       "<!-- 139684635881296&#45;&gt;139684635968208 -->\n",
       "<g class=\"edge\" id=\"edge18\"><title>139684635881296-&gt;139684635968208</title>\n",
       "<path d=\"M487,-336.593C487,-328.118 487,-318.297 487,-309.104\" fill=\"none\" stroke=\"black\"/>\n",
       "<polygon fill=\"black\" points=\"490.5,-309.096 487,-299.096 483.5,-309.096 490.5,-309.096\" stroke=\"black\"/>\n",
       "</g>\n",
       "<!-- 139684635968080 -->\n",
       "<g class=\"node\" id=\"node19\"><title>139684635968080</title>\n",
       "<polygon fill=\"none\" points=\"360.5,-169 360.5,-215 613.5,-215 613.5,-169 360.5,-169\" stroke=\"black\"/>\n",
       "<text font-family=\"Times,serif\" font-size=\"14.00\" text-anchor=\"middle\" x=\"415\" y=\"-188.3\">dense_13: Dense</text>\n",
       "<polyline fill=\"none\" points=\"469.5,-169 469.5,-215 \" stroke=\"black\"/>\n",
       "<text font-family=\"Times,serif\" font-size=\"14.00\" text-anchor=\"middle\" x=\"497\" y=\"-199.8\">input:</text>\n",
       "<polyline fill=\"none\" points=\"469.5,-192 524.5,-192 \" stroke=\"black\"/>\n",
       "<text font-family=\"Times,serif\" font-size=\"14.00\" text-anchor=\"middle\" x=\"497\" y=\"-176.8\">output:</text>\n",
       "<polyline fill=\"none\" points=\"524.5,-169 524.5,-215 \" stroke=\"black\"/>\n",
       "<text font-family=\"Times,serif\" font-size=\"14.00\" text-anchor=\"middle\" x=\"569\" y=\"-199.8\">(None, 6432)</text>\n",
       "<polyline fill=\"none\" points=\"524.5,-192 613.5,-192 \" stroke=\"black\"/>\n",
       "<text font-family=\"Times,serif\" font-size=\"14.00\" text-anchor=\"middle\" x=\"569\" y=\"-176.8\">(None, 256)</text>\n",
       "</g>\n",
       "<!-- 139684635968208&#45;&gt;139684635968080 -->\n",
       "<g class=\"edge\" id=\"edge19\"><title>139684635968208-&gt;139684635968080</title>\n",
       "<path d=\"M487,-252.593C487,-244.118 487,-234.297 487,-225.104\" fill=\"none\" stroke=\"black\"/>\n",
       "<polygon fill=\"black\" points=\"490.5,-225.096 487,-215.096 483.5,-225.096 490.5,-225.096\" stroke=\"black\"/>\n",
       "</g>\n",
       "<!-- 139684635967888 -->\n",
       "<g class=\"node\" id=\"node20\"><title>139684635967888</title>\n",
       "<polygon fill=\"none\" points=\"352.5,-85 352.5,-131 621.5,-131 621.5,-85 352.5,-85\" stroke=\"black\"/>\n",
       "<text font-family=\"Times,serif\" font-size=\"14.00\" text-anchor=\"middle\" x=\"418\" y=\"-104.3\">dropout_67: Dropout</text>\n",
       "<polyline fill=\"none\" points=\"483.5,-85 483.5,-131 \" stroke=\"black\"/>\n",
       "<text font-family=\"Times,serif\" font-size=\"14.00\" text-anchor=\"middle\" x=\"511\" y=\"-115.8\">input:</text>\n",
       "<polyline fill=\"none\" points=\"483.5,-108 538.5,-108 \" stroke=\"black\"/>\n",
       "<text font-family=\"Times,serif\" font-size=\"14.00\" text-anchor=\"middle\" x=\"511\" y=\"-92.8\">output:</text>\n",
       "<polyline fill=\"none\" points=\"538.5,-85 538.5,-131 \" stroke=\"black\"/>\n",
       "<text font-family=\"Times,serif\" font-size=\"14.00\" text-anchor=\"middle\" x=\"580\" y=\"-115.8\">(None, 256)</text>\n",
       "<polyline fill=\"none\" points=\"538.5,-108 621.5,-108 \" stroke=\"black\"/>\n",
       "<text font-family=\"Times,serif\" font-size=\"14.00\" text-anchor=\"middle\" x=\"580\" y=\"-92.8\">(None, 256)</text>\n",
       "</g>\n",
       "<!-- 139684635968080&#45;&gt;139684635967888 -->\n",
       "<g class=\"edge\" id=\"edge20\"><title>139684635968080-&gt;139684635967888</title>\n",
       "<path d=\"M487,-168.593C487,-160.118 487,-150.297 487,-141.104\" fill=\"none\" stroke=\"black\"/>\n",
       "<polygon fill=\"black\" points=\"490.5,-141.096 487,-131.096 483.5,-141.096 490.5,-141.096\" stroke=\"black\"/>\n",
       "</g>\n",
       "<!-- 139684635698128 -->\n",
       "<g class=\"node\" id=\"node21\"><title>139684635698128</title>\n",
       "<polygon fill=\"none\" points=\"363.5,-1 363.5,-47 610.5,-47 610.5,-1 363.5,-1\" stroke=\"black\"/>\n",
       "<text font-family=\"Times,serif\" font-size=\"14.00\" text-anchor=\"middle\" x=\"418\" y=\"-20.3\">dense_14: Dense</text>\n",
       "<polyline fill=\"none\" points=\"472.5,-1 472.5,-47 \" stroke=\"black\"/>\n",
       "<text font-family=\"Times,serif\" font-size=\"14.00\" text-anchor=\"middle\" x=\"500\" y=\"-31.8\">input:</text>\n",
       "<polyline fill=\"none\" points=\"472.5,-24 527.5,-24 \" stroke=\"black\"/>\n",
       "<text font-family=\"Times,serif\" font-size=\"14.00\" text-anchor=\"middle\" x=\"500\" y=\"-8.8\">output:</text>\n",
       "<polyline fill=\"none\" points=\"527.5,-1 527.5,-47 \" stroke=\"black\"/>\n",
       "<text font-family=\"Times,serif\" font-size=\"14.00\" text-anchor=\"middle\" x=\"569\" y=\"-31.8\">(None, 256)</text>\n",
       "<polyline fill=\"none\" points=\"527.5,-24 610.5,-24 \" stroke=\"black\"/>\n",
       "<text font-family=\"Times,serif\" font-size=\"14.00\" text-anchor=\"middle\" x=\"569\" y=\"-8.8\">(None, 9)</text>\n",
       "</g>\n",
       "<!-- 139684635967888&#45;&gt;139684635698128 -->\n",
       "<g class=\"edge\" id=\"edge21\"><title>139684635967888-&gt;139684635698128</title>\n",
       "<path d=\"M487,-84.5931C487,-76.1177 487,-66.2974 487,-57.104\" fill=\"none\" stroke=\"black\"/>\n",
       "<polygon fill=\"black\" points=\"490.5,-57.0958 487,-47.0959 483.5,-57.0959 490.5,-57.0958\" stroke=\"black\"/>\n",
       "</g>\n",
       "</g>\n",
       "</svg>"
      ],
      "text/plain": [
       "<IPython.core.display.SVG object>"
      ]
     },
     "execution_count": 175,
     "metadata": {},
     "output_type": "execute_result"
    }
   ],
   "source": [
    "from keras.utils import plot_model\n",
    "import pydot\n",
    "pydot.find_graphviz = lambda: True\n",
    "\n",
    "from IPython.display import SVG\n",
    "from keras.utils.vis_utils import model_to_dot\n",
    "SVG(model_to_dot(model, show_shapes=True).create(prog='dot', format='svg'))"
   ]
  },
  {
   "cell_type": "code",
   "execution_count": 44,
   "metadata": {},
   "outputs": [
    {
     "name": "stdout",
     "output_type": "stream",
     "text": [
      "('Shape of data tensor:', (8989, 20000))\n"
     ]
    }
   ],
   "source": [
    "data = pad_sequences(sequences, maxlen=MAX_SEQUENCE_LENGTH)\n",
    "print('Shape of data tensor:', data.shape)"
   ]
  },
  {
   "cell_type": "code",
   "execution_count": 61,
   "metadata": {
    "collapsed": true
   },
   "outputs": [],
   "source": [
    "# split data into train and test\n",
    "data_tr = data[0:3321,:]\n",
    "data_ts = data[3321:,:]\n",
    "\n",
    "gene_embedding_tr = gene_embedding[0:3321,:]\n",
    "gene_embedding_ts = gene_embedding[3321:,:]\n",
    "\n",
    "variation_embedding_tr = variation_embedding[0:3321,:]\n",
    "variation_embedding_ts = variation_embedding[3321:,:]\n",
    "\n",
    "# split the data into a training set and a validation set\n",
    "indices = np.arange(data_tr.shape[0])\n",
    "np.random.shuffle(indices)\n",
    "data_tr = data_tr[indices]\n",
    "labels = train[['Class']].values\n",
    "labels = to_categorical(np.asarray(labels)-1)\n",
    "labels = labels[indices]\n",
    "num_validation_samples = int(VALIDATION_SPLIT * data_tr.shape[0])"
   ]
  },
  {
   "cell_type": "code",
   "execution_count": 62,
   "metadata": {},
   "outputs": [
    {
     "name": "stdout",
     "output_type": "stream",
     "text": [
      "664\n",
      "(2657, 20000)\n",
      "(2657, 9)\n",
      "(664, 20000)\n",
      "(664, 9)\n",
      "(2657, 200)\n",
      "(664, 200)\n",
      "(2657, 200)\n",
      "(664, 200)\n"
     ]
    }
   ],
   "source": [
    "x_tr = data_tr[:-num_validation_samples]\n",
    "y_tr = labels[:-num_validation_samples]\n",
    "x_vl = data_tr[-num_validation_samples:]\n",
    "y_vl = labels[-num_validation_samples:]\n",
    "\n",
    "ge_tr = gene_embedding_tr[:-num_validation_samples]\n",
    "ge_vl = gene_embedding_tr[-num_validation_samples:]\n",
    "\n",
    "ve_tr = variation_embedding_tr[:-num_validation_samples]\n",
    "ve_vl = variation_embedding_tr[-num_validation_samples:]\n",
    "\n",
    "print num_validation_samples\n",
    "print x_tr.shape\n",
    "print y_tr.shape\n",
    "print x_vl.shape\n",
    "print y_vl.shape\n",
    "print ge_tr.shape\n",
    "print ge_vl.shape\n",
    "print ve_tr.shape\n",
    "print ve_vl.shape"
   ]
  },
  {
   "cell_type": "code",
   "execution_count": 182,
   "metadata": {},
   "outputs": [
    {
     "name": "stdout",
     "output_type": "stream",
     "text": [
      "Train on 2657 samples, validate on 664 samples\n",
      "Epoch 1/1\n",
      "2657/2657 [==============================] - 500s - loss: 1.9835 - acc: 0.2484 - val_loss: 1.9425 - val_acc: 0.2440\n"
     ]
    },
    {
     "data": {
      "text/plain": [
       "<keras.callbacks.History at 0x7f0adbb18c90>"
      ]
     },
     "execution_count": 182,
     "metadata": {},
     "output_type": "execute_result"
    }
   ],
   "source": [
    "K.set_value(model.optimizer.lr, 0.001)\n",
    "model.fit([x_tr, ge_tr, ve_tr], y_tr,\n",
    "          batch_size=64,\n",
    "          epochs=1,\n",
    "          validation_data=([x_vl, ge_vl, ve_vl], y_vl))"
   ]
  },
  {
   "cell_type": "code",
   "execution_count": 183,
   "metadata": {},
   "outputs": [
    {
     "name": "stdout",
     "output_type": "stream",
     "text": [
      "Train on 2657 samples, validate on 664 samples\n",
      "Epoch 1/1\n",
      "2657/2657 [==============================] - 499s - loss: 1.8095 - acc: 0.2875 - val_loss: 1.8901 - val_acc: 0.2786\n"
     ]
    },
    {
     "data": {
      "text/plain": [
       "<keras.callbacks.History at 0x7f0adc17e950>"
      ]
     },
     "execution_count": 183,
     "metadata": {},
     "output_type": "execute_result"
    }
   ],
   "source": [
    "K.set_value(model.optimizer.lr, 0.001)\n",
    "model.fit([x_tr, ge_tr, ve_tr], y_tr,\n",
    "          batch_size=64,\n",
    "          epochs=1,\n",
    "          validation_data=([x_vl, ge_vl, ve_vl], y_vl))"
   ]
  },
  {
   "cell_type": "code",
   "execution_count": 184,
   "metadata": {},
   "outputs": [
    {
     "name": "stdout",
     "output_type": "stream",
     "text": [
      "Train on 2657 samples, validate on 664 samples\n",
      "Epoch 1/10\n",
      "2657/2657 [==============================] - 504s - loss: 1.7720 - acc: 0.3116 - val_loss: 1.8140 - val_acc: 0.3072\n",
      "Epoch 2/10\n",
      "2657/2657 [==============================] - 505s - loss: 1.6382 - acc: 0.3824 - val_loss: 1.7519 - val_acc: 0.3343\n",
      "Epoch 3/10\n",
      "2657/2657 [==============================] - 501s - loss: 1.5639 - acc: 0.4163 - val_loss: 1.6103 - val_acc: 0.3886\n",
      "Epoch 4/10\n",
      "2657/2657 [==============================] - 503s - loss: 1.4443 - acc: 0.4618 - val_loss: 1.4979 - val_acc: 0.4428\n",
      "Epoch 5/10\n",
      "2657/2657 [==============================] - 506s - loss: 1.4079 - acc: 0.4810 - val_loss: 1.4979 - val_acc: 0.4307\n",
      "Epoch 6/10\n",
      "2657/2657 [==============================] - 508s - loss: 1.3364 - acc: 0.5186 - val_loss: 1.4037 - val_acc: 0.4910\n",
      "Epoch 7/10\n",
      "2657/2657 [==============================] - 511s - loss: 1.2675 - acc: 0.5314 - val_loss: 1.4868 - val_acc: 0.4593\n",
      "Epoch 8/10\n",
      "2657/2657 [==============================] - 509s - loss: 1.2334 - acc: 0.5469 - val_loss: 1.3609 - val_acc: 0.5045\n",
      "Epoch 9/10\n",
      "2657/2657 [==============================] - 548s - loss: 1.1693 - acc: 0.5755 - val_loss: 1.3348 - val_acc: 0.5301\n",
      "Epoch 10/10\n",
      "2657/2657 [==============================] - 532s - loss: 1.1100 - acc: 0.6007 - val_loss: 1.3384 - val_acc: 0.5136\n"
     ]
    },
    {
     "data": {
      "text/plain": [
       "<keras.callbacks.History at 0x7f0adc17e810>"
      ]
     },
     "execution_count": 184,
     "metadata": {},
     "output_type": "execute_result"
    }
   ],
   "source": [
    "K.set_value(model.optimizer.lr, 0.001)\n",
    "model.fit([x_tr, ge_tr, ve_tr], y_tr,\n",
    "          batch_size=64,\n",
    "          epochs=10,\n",
    "          validation_data=([x_vl, ge_vl, ve_vl], y_vl))"
   ]
  },
  {
   "cell_type": "code",
   "execution_count": 185,
   "metadata": {},
   "outputs": [
    {
     "name": "stdout",
     "output_type": "stream",
     "text": [
      "Train on 2657 samples, validate on 664 samples\n",
      "Epoch 1/10\n",
      "2657/2657 [==============================] - 606s - loss: 1.0194 - acc: 0.6221 - val_loss: 1.2884 - val_acc: 0.5256\n",
      "Epoch 2/10\n",
      "2657/2657 [==============================] - 506s - loss: 0.9971 - acc: 0.6251 - val_loss: 1.2726 - val_acc: 0.5301\n",
      "Epoch 3/10\n",
      "2657/2657 [==============================] - 549s - loss: 1.0012 - acc: 0.6346 - val_loss: 1.2814 - val_acc: 0.5286\n",
      "Epoch 4/10\n",
      "2657/2657 [==============================] - 623s - loss: 0.9786 - acc: 0.6353 - val_loss: 1.2701 - val_acc: 0.5346\n",
      "Epoch 5/10\n",
      "2657/2657 [==============================] - 624s - loss: 0.9735 - acc: 0.6443 - val_loss: 1.2702 - val_acc: 0.5286\n",
      "Epoch 6/10\n",
      "2657/2657 [==============================] - 624s - loss: 0.9656 - acc: 0.6425 - val_loss: 1.2712 - val_acc: 0.5256\n",
      "Epoch 7/10\n",
      "2657/2657 [==============================] - 550s - loss: 0.9610 - acc: 0.6470 - val_loss: 1.2700 - val_acc: 0.5241\n",
      "Epoch 8/10\n",
      "2657/2657 [==============================] - 509s - loss: 0.9483 - acc: 0.6575 - val_loss: 1.2758 - val_acc: 0.5211\n",
      "Epoch 9/10\n",
      "2657/2657 [==============================] - 625s - loss: 0.9418 - acc: 0.6534 - val_loss: 1.2685 - val_acc: 0.5241\n",
      "Epoch 10/10\n",
      "2657/2657 [==============================] - 621s - loss: 0.9381 - acc: 0.6511 - val_loss: 1.2678 - val_acc: 0.5271\n"
     ]
    },
    {
     "data": {
      "text/plain": [
       "<keras.callbacks.History at 0x7f0adc19e790>"
      ]
     },
     "execution_count": 185,
     "metadata": {},
     "output_type": "execute_result"
    }
   ],
   "source": [
    "K.set_value(model.optimizer.lr, 0.0001)\n",
    "model.fit([x_tr, ge_tr, ve_tr], y_tr,\n",
    "          batch_size=64,\n",
    "          epochs=10,\n",
    "          validation_data=([x_vl, ge_vl, ve_vl], y_vl))"
   ]
  },
  {
   "cell_type": "code",
   "execution_count": 186,
   "metadata": {},
   "outputs": [
    {
     "name": "stdout",
     "output_type": "stream",
     "text": [
      "Train on 2657 samples, validate on 664 samples\n",
      "Epoch 1/10\n",
      "2657/2657 [==============================] - 626s - loss: 0.9400 - acc: 0.6507 - val_loss: 1.2546 - val_acc: 0.5301\n",
      "Epoch 2/10\n",
      "2657/2657 [==============================] - 594s - loss: 0.9357 - acc: 0.6534 - val_loss: 1.2477 - val_acc: 0.5286\n",
      "Epoch 3/10\n",
      "2657/2657 [==============================] - 654s - loss: 0.9104 - acc: 0.6741 - val_loss: 1.2468 - val_acc: 0.5407\n",
      "Epoch 4/10\n",
      "2657/2657 [==============================] - 627s - loss: 0.9105 - acc: 0.6654 - val_loss: 1.2433 - val_acc: 0.5392\n",
      "Epoch 5/10\n",
      "2657/2657 [==============================] - 560s - loss: 0.9008 - acc: 0.6729 - val_loss: 1.2416 - val_acc: 0.5301\n",
      "Epoch 6/10\n",
      "2657/2657 [==============================] - 516s - loss: 0.8879 - acc: 0.6726 - val_loss: 1.2458 - val_acc: 0.5361\n",
      "Epoch 7/10\n",
      "2657/2657 [==============================] - 524s - loss: 0.8755 - acc: 0.6835 - val_loss: 1.2516 - val_acc: 0.5241\n",
      "Epoch 8/10\n",
      "2657/2657 [==============================] - 623s - loss: 0.8866 - acc: 0.6741 - val_loss: 1.2490 - val_acc: 0.5331\n",
      "Epoch 9/10\n",
      "2657/2657 [==============================] - 573s - loss: 0.8718 - acc: 0.6801 - val_loss: 1.2438 - val_acc: 0.5286\n",
      "Epoch 10/10\n",
      "2657/2657 [==============================] - 551s - loss: 0.8690 - acc: 0.6801 - val_loss: 1.2494 - val_acc: 0.5316\n"
     ]
    },
    {
     "data": {
      "text/plain": [
       "<keras.callbacks.History at 0x7f0addc8a0d0>"
      ]
     },
     "execution_count": 186,
     "metadata": {},
     "output_type": "execute_result"
    }
   ],
   "source": [
    "K.set_value(model.optimizer.lr, 0.0001)\n",
    "model.fit([x_tr, ge_tr, ve_tr], y_tr,\n",
    "          batch_size=64,\n",
    "          epochs=10,\n",
    "          validation_data=([x_vl, ge_vl, ve_vl], y_vl))"
   ]
  },
  {
   "cell_type": "code",
   "execution_count": 187,
   "metadata": {},
   "outputs": [
    {
     "name": "stdout",
     "output_type": "stream",
     "text": [
      "Train on 2657 samples, validate on 664 samples\n",
      "Epoch 1/10\n",
      "2657/2657 [==============================] - 585s - loss: 0.8595 - acc: 0.6955 - val_loss: 1.2380 - val_acc: 0.5392\n",
      "Epoch 2/10\n",
      "2657/2657 [==============================] - 530s - loss: 0.8644 - acc: 0.6737 - val_loss: 1.2318 - val_acc: 0.5497\n",
      "Epoch 3/10\n",
      "2657/2657 [==============================] - 513s - loss: 0.8590 - acc: 0.6835 - val_loss: 1.2451 - val_acc: 0.5392\n",
      "Epoch 4/10\n",
      "2657/2657 [==============================] - 505s - loss: 0.8384 - acc: 0.6955 - val_loss: 1.2324 - val_acc: 0.5361\n",
      "Epoch 5/10\n",
      "2657/2657 [==============================] - 515s - loss: 0.8468 - acc: 0.6967 - val_loss: 1.2286 - val_acc: 0.5467\n",
      "Epoch 6/10\n",
      "2657/2657 [==============================] - 530s - loss: 0.8361 - acc: 0.6925 - val_loss: 1.2257 - val_acc: 0.5512\n",
      "Epoch 7/10\n",
      "2657/2657 [==============================] - 595s - loss: 0.8156 - acc: 0.6982 - val_loss: 1.2269 - val_acc: 0.5557\n",
      "Epoch 8/10\n",
      "2657/2657 [==============================] - 598s - loss: 0.8174 - acc: 0.6876 - val_loss: 1.2231 - val_acc: 0.5452\n",
      "Epoch 9/10\n",
      "2657/2657 [==============================] - 598s - loss: 0.8118 - acc: 0.7034 - val_loss: 1.2213 - val_acc: 0.5557\n",
      "Epoch 10/10\n",
      "2657/2657 [==============================] - 547s - loss: 0.7989 - acc: 0.7027 - val_loss: 1.2269 - val_acc: 0.5452\n"
     ]
    },
    {
     "data": {
      "text/plain": [
       "<keras.callbacks.History at 0x7f0adb994bd0>"
      ]
     },
     "execution_count": 187,
     "metadata": {},
     "output_type": "execute_result"
    }
   ],
   "source": [
    "K.set_value(model.optimizer.lr, 0.0001)\n",
    "model.fit([x_tr, ge_tr, ve_tr], y_tr,\n",
    "          batch_size=64,\n",
    "          epochs=10,\n",
    "          validation_data=([x_vl, ge_vl, ve_vl], y_vl))"
   ]
  },
  {
   "cell_type": "code",
   "execution_count": 92,
   "metadata": {},
   "outputs": [
    {
     "name": "stdout",
     "output_type": "stream",
     "text": [
      "Train on 2657 samples, validate on 664 samples\n",
      "Epoch 1/5\n",
      "2657/2657 [==============================] - 431s - loss: 1.1107 - acc: 0.5939 - val_loss: 1.3203 - val_acc: 0.5181\n",
      "Epoch 2/5\n",
      "2657/2657 [==============================] - 432s - loss: 1.0217 - acc: 0.6368 - val_loss: 1.2422 - val_acc: 0.5346\n",
      "Epoch 3/5\n",
      "2657/2657 [==============================] - 430s - loss: 1.0065 - acc: 0.6357 - val_loss: 1.2459 - val_acc: 0.5422\n",
      "Epoch 4/5\n",
      "2657/2657 [==============================] - 430s - loss: 0.9439 - acc: 0.6489 - val_loss: 1.2826 - val_acc: 0.5361\n",
      "Epoch 5/5\n",
      "2657/2657 [==============================] - 432s - loss: 0.9204 - acc: 0.6699 - val_loss: 1.2556 - val_acc: 0.5407\n"
     ]
    },
    {
     "data": {
      "text/plain": [
       "<keras.callbacks.History at 0x7f185c7afb50>"
      ]
     },
     "execution_count": 92,
     "metadata": {},
     "output_type": "execute_result"
    }
   ],
   "source": [
    "K.set_value(model.optimizer.lr, 0.001)\n",
    "model.fit([x_tr, ge_tr, ve_tr], y_tr,\n",
    "          batch_size=64,\n",
    "          epochs=5,\n",
    "          validation_data=([x_vl, ge_vl, ve_vl], y_vl))"
   ]
  },
  {
   "cell_type": "code",
   "execution_count": 77,
   "metadata": {},
   "outputs": [
    {
     "name": "stdout",
     "output_type": "stream",
     "text": [
      "Train on 2657 samples, validate on 664 samples\n",
      "Epoch 1/1\n",
      "2657/2657 [==============================] - 409s - loss: 0.6903 - acc: 0.7817 - val_loss: 1.1790 - val_acc: 0.5693\n"
     ]
    },
    {
     "data": {
      "text/plain": [
       "<keras.callbacks.History at 0x7f1838059290>"
      ]
     },
     "execution_count": 77,
     "metadata": {},
     "output_type": "execute_result"
    }
   ],
   "source": [
    "K.set_value(model.optimizer.lr, 0.0001)\n",
    "model.fit([x_tr, ge_tr, ve_tr], y_tr,\n",
    "          batch_size=64,\n",
    "          epochs=1,\n",
    "          validation_data=([x_vl, ge_vl, ve_vl], y_vl))"
   ]
  },
  {
   "cell_type": "code",
   "execution_count": 78,
   "metadata": {},
   "outputs": [
    {
     "name": "stdout",
     "output_type": "stream",
     "text": [
      "Train on 2657 samples, validate on 664 samples\n",
      "Epoch 1/1\n",
      "2657/2657 [==============================] - 412s - loss: 0.6576 - acc: 0.7941 - val_loss: 1.1790 - val_acc: 0.5678\n"
     ]
    },
    {
     "data": {
      "text/plain": [
       "<keras.callbacks.History at 0x7f18a9f92fd0>"
      ]
     },
     "execution_count": 78,
     "metadata": {},
     "output_type": "execute_result"
    }
   ],
   "source": [
    "K.set_value(model.optimizer.lr, 0.00001)\n",
    "model.fit([x_tr, ge_tr, ve_tr], y_tr,\n",
    "          batch_size=64,\n",
    "          epochs=1,\n",
    "          validation_data=([x_vl, ge_vl, ve_vl], y_vl))"
   ]
  },
  {
   "cell_type": "code",
   "execution_count": 79,
   "metadata": {},
   "outputs": [
    {
     "name": "stdout",
     "output_type": "stream",
     "text": [
      "Train on 2657 samples, validate on 664 samples\n",
      "Epoch 1/1\n",
      "2657/2657 [==============================] - 410s - loss: 0.6546 - acc: 0.7971 - val_loss: 1.1779 - val_acc: 0.5723\n"
     ]
    },
    {
     "data": {
      "text/plain": [
       "<keras.callbacks.History at 0x7f1838059910>"
      ]
     },
     "execution_count": 79,
     "metadata": {},
     "output_type": "execute_result"
    }
   ],
   "source": [
    "K.set_value(model.optimizer.lr, 0.00001)\n",
    "model.fit([x_tr, ge_tr, ve_tr], y_tr,\n",
    "          batch_size=64,\n",
    "          epochs=1,\n",
    "          validation_data=([x_vl, ge_vl, ve_vl], y_vl))"
   ]
  },
  {
   "cell_type": "code",
   "execution_count": 80,
   "metadata": {},
   "outputs": [
    {
     "name": "stdout",
     "output_type": "stream",
     "text": [
      "Train on 2657 samples, validate on 664 samples\n",
      "Epoch 1/1\n",
      "2657/2657 [==============================] - 409s - loss: 0.6511 - acc: 0.7953 - val_loss: 1.1779 - val_acc: 0.5693\n"
     ]
    },
    {
     "data": {
      "text/plain": [
       "<keras.callbacks.History at 0x7f1838059810>"
      ]
     },
     "execution_count": 80,
     "metadata": {},
     "output_type": "execute_result"
    }
   ],
   "source": [
    "K.set_value(model.optimizer.lr, 0.000001)\n",
    "model.fit([x_tr, ge_tr, ve_tr], y_tr,\n",
    "          batch_size=64,\n",
    "          epochs=1,\n",
    "          validation_data=([x_vl, ge_vl, ve_vl], y_vl))"
   ]
  },
  {
   "cell_type": "code",
   "execution_count": 81,
   "metadata": {},
   "outputs": [
    {
     "name": "stdout",
     "output_type": "stream",
     "text": [
      "Train on 2657 samples, validate on 664 samples\n",
      "Epoch 1/1\n",
      "2657/2657 [==============================] - 411s - loss: 0.6508 - acc: 0.7960 - val_loss: 1.1777 - val_acc: 0.5708\n"
     ]
    },
    {
     "data": {
      "text/plain": [
       "<keras.callbacks.History at 0x7f1838059790>"
      ]
     },
     "execution_count": 81,
     "metadata": {},
     "output_type": "execute_result"
    }
   ],
   "source": [
    "K.set_value(model.optimizer.lr, 0.000001)\n",
    "model.fit([x_tr, ge_tr, ve_tr], y_tr,\n",
    "          batch_size=64,\n",
    "          epochs=1,\n",
    "          validation_data=([x_vl, ge_vl, ve_vl], y_vl))"
   ]
  },
  {
   "cell_type": "code",
   "execution_count": 189,
   "metadata": {
    "collapsed": true
   },
   "outputs": [],
   "source": [
    "embedding_layer1 = Embedding(len(word_index) + 1,\n",
    "                            200,\n",
    "                            weights=[embedding_matrix],\n",
    "                            input_length=MAX_SEQUENCE_LENGTH,\n",
    "                            trainable=False)\n",
    "\n",
    "sequence_input1 = Input(shape=(MAX_SEQUENCE_LENGTH,), dtype='int32')\n",
    "embedded_sequences1 = embedding_layer1(sequence_input1)\n",
    "x1 = Dropout(0.3)(embedded_sequences1)\n",
    "x1 = LSTM(128, dropout=0.2, recurrent_dropout=0.2)(x1)\n",
    "preds1 = Dense(9, activation='softmax')(x1)\n",
    "\n",
    "model1 = Model(sequence_input1, preds1)\n",
    "model1.compile(loss='categorical_crossentropy',\n",
    "              optimizer='adam',\n",
    "              metrics=['categorical_accuracy'])"
   ]
  },
  {
   "cell_type": "code",
   "execution_count": 190,
   "metadata": {},
   "outputs": [
    {
     "data": {
      "image/svg+xml": [
       "<svg height=\"392pt\" viewBox=\"0.00 0.00 354.00 392.00\" width=\"354pt\" xmlns=\"http://www.w3.org/2000/svg\" xmlns:xlink=\"http://www.w3.org/1999/xlink\">\n",
       "<g class=\"graph\" id=\"graph0\" transform=\"scale(1 1) rotate(0) translate(4 388)\">\n",
       "<title>G</title>\n",
       "<polygon fill=\"white\" points=\"-4,4 -4,-388 350,-388 350,4 -4,4\" stroke=\"none\"/>\n",
       "<!-- 139684610339856 -->\n",
       "<g class=\"node\" id=\"node1\"><title>139684610339856</title>\n",
       "<polygon fill=\"none\" points=\"31.5,-337 31.5,-383 314.5,-383 314.5,-337 31.5,-337\" stroke=\"black\"/>\n",
       "<text font-family=\"Times,serif\" font-size=\"14.00\" text-anchor=\"middle\" x=\"97.5\" y=\"-356.3\">input_78: InputLayer</text>\n",
       "<polyline fill=\"none\" points=\"163.5,-337 163.5,-383 \" stroke=\"black\"/>\n",
       "<text font-family=\"Times,serif\" font-size=\"14.00\" text-anchor=\"middle\" x=\"191\" y=\"-367.8\">input:</text>\n",
       "<polyline fill=\"none\" points=\"163.5,-360 218.5,-360 \" stroke=\"black\"/>\n",
       "<text font-family=\"Times,serif\" font-size=\"14.00\" text-anchor=\"middle\" x=\"191\" y=\"-344.8\">output:</text>\n",
       "<polyline fill=\"none\" points=\"218.5,-337 218.5,-383 \" stroke=\"black\"/>\n",
       "<text font-family=\"Times,serif\" font-size=\"14.00\" text-anchor=\"middle\" x=\"266.5\" y=\"-367.8\">(None, 20000)</text>\n",
       "<polyline fill=\"none\" points=\"218.5,-360 314.5,-360 \" stroke=\"black\"/>\n",
       "<text font-family=\"Times,serif\" font-size=\"14.00\" text-anchor=\"middle\" x=\"266.5\" y=\"-344.8\">(None, 20000)</text>\n",
       "</g>\n",
       "<!-- 139684610339920 -->\n",
       "<g class=\"node\" id=\"node2\"><title>139684610339920</title>\n",
       "<polygon fill=\"none\" points=\"-0.5,-253 -0.5,-299 346.5,-299 346.5,-253 -0.5,-253\" stroke=\"black\"/>\n",
       "<text font-family=\"Times,serif\" font-size=\"14.00\" text-anchor=\"middle\" x=\"83.5\" y=\"-272.3\">embedding_28: Embedding</text>\n",
       "<polyline fill=\"none\" points=\"167.5,-253 167.5,-299 \" stroke=\"black\"/>\n",
       "<text font-family=\"Times,serif\" font-size=\"14.00\" text-anchor=\"middle\" x=\"195\" y=\"-283.8\">input:</text>\n",
       "<polyline fill=\"none\" points=\"167.5,-276 222.5,-276 \" stroke=\"black\"/>\n",
       "<text font-family=\"Times,serif\" font-size=\"14.00\" text-anchor=\"middle\" x=\"195\" y=\"-260.8\">output:</text>\n",
       "<polyline fill=\"none\" points=\"222.5,-253 222.5,-299 \" stroke=\"black\"/>\n",
       "<text font-family=\"Times,serif\" font-size=\"14.00\" text-anchor=\"middle\" x=\"284.5\" y=\"-283.8\">(None, 20000)</text>\n",
       "<polyline fill=\"none\" points=\"222.5,-276 346.5,-276 \" stroke=\"black\"/>\n",
       "<text font-family=\"Times,serif\" font-size=\"14.00\" text-anchor=\"middle\" x=\"284.5\" y=\"-260.8\">(None, 20000, 200)</text>\n",
       "</g>\n",
       "<!-- 139684610339856&#45;&gt;139684610339920 -->\n",
       "<g class=\"edge\" id=\"edge1\"><title>139684610339856-&gt;139684610339920</title>\n",
       "<path d=\"M173,-336.593C173,-328.118 173,-318.297 173,-309.104\" fill=\"none\" stroke=\"black\"/>\n",
       "<polygon fill=\"black\" points=\"176.5,-309.096 173,-299.096 169.5,-309.096 176.5,-309.096\" stroke=\"black\"/>\n",
       "</g>\n",
       "<!-- 139684610340176 -->\n",
       "<g class=\"node\" id=\"node3\"><title>139684610340176</title>\n",
       "<polygon fill=\"none\" points=\"18,-169 18,-215 328,-215 328,-169 18,-169\" stroke=\"black\"/>\n",
       "<text font-family=\"Times,serif\" font-size=\"14.00\" text-anchor=\"middle\" x=\"83.5\" y=\"-188.3\">dropout_79: Dropout</text>\n",
       "<polyline fill=\"none\" points=\"149,-169 149,-215 \" stroke=\"black\"/>\n",
       "<text font-family=\"Times,serif\" font-size=\"14.00\" text-anchor=\"middle\" x=\"176.5\" y=\"-199.8\">input:</text>\n",
       "<polyline fill=\"none\" points=\"149,-192 204,-192 \" stroke=\"black\"/>\n",
       "<text font-family=\"Times,serif\" font-size=\"14.00\" text-anchor=\"middle\" x=\"176.5\" y=\"-176.8\">output:</text>\n",
       "<polyline fill=\"none\" points=\"204,-169 204,-215 \" stroke=\"black\"/>\n",
       "<text font-family=\"Times,serif\" font-size=\"14.00\" text-anchor=\"middle\" x=\"266\" y=\"-199.8\">(None, 20000, 200)</text>\n",
       "<polyline fill=\"none\" points=\"204,-192 328,-192 \" stroke=\"black\"/>\n",
       "<text font-family=\"Times,serif\" font-size=\"14.00\" text-anchor=\"middle\" x=\"266\" y=\"-176.8\">(None, 20000, 200)</text>\n",
       "</g>\n",
       "<!-- 139684610339920&#45;&gt;139684610340176 -->\n",
       "<g class=\"edge\" id=\"edge2\"><title>139684610339920-&gt;139684610340176</title>\n",
       "<path d=\"M173,-252.593C173,-244.118 173,-234.297 173,-225.104\" fill=\"none\" stroke=\"black\"/>\n",
       "<polygon fill=\"black\" points=\"176.5,-225.096 173,-215.096 169.5,-225.096 176.5,-225.096\" stroke=\"black\"/>\n",
       "</g>\n",
       "<!-- 139684648735120 -->\n",
       "<g class=\"node\" id=\"node4\"><title>139684648735120</title>\n",
       "<polygon fill=\"none\" points=\"34.5,-85 34.5,-131 311.5,-131 311.5,-85 34.5,-85\" stroke=\"black\"/>\n",
       "<text font-family=\"Times,serif\" font-size=\"14.00\" text-anchor=\"middle\" x=\"83.5\" y=\"-104.3\">lstm_1: LSTM</text>\n",
       "<polyline fill=\"none\" points=\"132.5,-85 132.5,-131 \" stroke=\"black\"/>\n",
       "<text font-family=\"Times,serif\" font-size=\"14.00\" text-anchor=\"middle\" x=\"160\" y=\"-115.8\">input:</text>\n",
       "<polyline fill=\"none\" points=\"132.5,-108 187.5,-108 \" stroke=\"black\"/>\n",
       "<text font-family=\"Times,serif\" font-size=\"14.00\" text-anchor=\"middle\" x=\"160\" y=\"-92.8\">output:</text>\n",
       "<polyline fill=\"none\" points=\"187.5,-85 187.5,-131 \" stroke=\"black\"/>\n",
       "<text font-family=\"Times,serif\" font-size=\"14.00\" text-anchor=\"middle\" x=\"249.5\" y=\"-115.8\">(None, 20000, 200)</text>\n",
       "<polyline fill=\"none\" points=\"187.5,-108 311.5,-108 \" stroke=\"black\"/>\n",
       "<text font-family=\"Times,serif\" font-size=\"14.00\" text-anchor=\"middle\" x=\"249.5\" y=\"-92.8\">(None, 128)</text>\n",
       "</g>\n",
       "<!-- 139684610340176&#45;&gt;139684648735120 -->\n",
       "<g class=\"edge\" id=\"edge3\"><title>139684610340176-&gt;139684648735120</title>\n",
       "<path d=\"M173,-168.593C173,-160.118 173,-150.297 173,-141.104\" fill=\"none\" stroke=\"black\"/>\n",
       "<polygon fill=\"black\" points=\"176.5,-141.096 173,-131.096 169.5,-141.096 176.5,-141.096\" stroke=\"black\"/>\n",
       "</g>\n",
       "<!-- 139684610340432 -->\n",
       "<g class=\"node\" id=\"node5\"><title>139684610340432</title>\n",
       "<polygon fill=\"none\" points=\"49.5,-1 49.5,-47 296.5,-47 296.5,-1 49.5,-1\" stroke=\"black\"/>\n",
       "<text font-family=\"Times,serif\" font-size=\"14.00\" text-anchor=\"middle\" x=\"104\" y=\"-20.3\">dense_19: Dense</text>\n",
       "<polyline fill=\"none\" points=\"158.5,-1 158.5,-47 \" stroke=\"black\"/>\n",
       "<text font-family=\"Times,serif\" font-size=\"14.00\" text-anchor=\"middle\" x=\"186\" y=\"-31.8\">input:</text>\n",
       "<polyline fill=\"none\" points=\"158.5,-24 213.5,-24 \" stroke=\"black\"/>\n",
       "<text font-family=\"Times,serif\" font-size=\"14.00\" text-anchor=\"middle\" x=\"186\" y=\"-8.8\">output:</text>\n",
       "<polyline fill=\"none\" points=\"213.5,-1 213.5,-47 \" stroke=\"black\"/>\n",
       "<text font-family=\"Times,serif\" font-size=\"14.00\" text-anchor=\"middle\" x=\"255\" y=\"-31.8\">(None, 128)</text>\n",
       "<polyline fill=\"none\" points=\"213.5,-24 296.5,-24 \" stroke=\"black\"/>\n",
       "<text font-family=\"Times,serif\" font-size=\"14.00\" text-anchor=\"middle\" x=\"255\" y=\"-8.8\">(None, 9)</text>\n",
       "</g>\n",
       "<!-- 139684648735120&#45;&gt;139684610340432 -->\n",
       "<g class=\"edge\" id=\"edge4\"><title>139684648735120-&gt;139684610340432</title>\n",
       "<path d=\"M173,-84.5931C173,-76.1177 173,-66.2974 173,-57.104\" fill=\"none\" stroke=\"black\"/>\n",
       "<polygon fill=\"black\" points=\"176.5,-57.0958 173,-47.0959 169.5,-57.0959 176.5,-57.0958\" stroke=\"black\"/>\n",
       "</g>\n",
       "</g>\n",
       "</svg>"
      ],
      "text/plain": [
       "<IPython.core.display.SVG object>"
      ]
     },
     "execution_count": 190,
     "metadata": {},
     "output_type": "execute_result"
    }
   ],
   "source": [
    "SVG(model_to_dot(model1, show_shapes=True).create(prog='dot', format='svg'))"
   ]
  },
  {
   "cell_type": "code",
   "execution_count": 192,
   "metadata": {},
   "outputs": [
    {
     "name": "stdout",
     "output_type": "stream",
     "text": [
      "Train on 2657 samples, validate on 664 samples\n",
      "Epoch 1/5\n",
      "2657/2657 [==============================] - 2822s - loss: 1.8631 - categorical_accuracy: 0.3000 - val_loss: 1.7805 - val_categorical_accuracy: 0.3193\n",
      "Epoch 2/5\n",
      "2657/2657 [==============================] - 2858s - loss: 1.6853 - categorical_accuracy: 0.3703 - val_loss: 1.6996 - val_categorical_accuracy: 0.4051\n",
      "Epoch 3/5\n",
      "2657/2657 [==============================] - 2858s - loss: 1.6158 - categorical_accuracy: 0.3971 - val_loss: 1.6389 - val_categorical_accuracy: 0.4187\n",
      "Epoch 4/5\n",
      "2657/2657 [==============================] - 2874s - loss: 1.5479 - categorical_accuracy: 0.4313 - val_loss: 1.6053 - val_categorical_accuracy: 0.4292\n",
      "Epoch 5/5\n",
      "2657/2657 [==============================] - 2857s - loss: 1.5067 - categorical_accuracy: 0.4430 - val_loss: 1.5729 - val_categorical_accuracy: 0.4518\n"
     ]
    },
    {
     "data": {
      "text/plain": [
       "<keras.callbacks.History at 0x7f0adb0aaed0>"
      ]
     },
     "execution_count": 192,
     "metadata": {},
     "output_type": "execute_result"
    }
   ],
   "source": [
    "K.set_value(model1.optimizer.lr, 0.001)\n",
    "model1.fit(x_tr, y_tr,\n",
    "          batch_size=64,\n",
    "          epochs=5,\n",
    "          validation_data=(x_vl, y_vl))"
   ]
  },
  {
   "cell_type": "code",
   "execution_count": 193,
   "metadata": {},
   "outputs": [
    {
     "name": "stdout",
     "output_type": "stream",
     "text": [
      "Train on 2657 samples, validate on 664 samples\n",
      "Epoch 1/5\n",
      "2657/2657 [==============================] - 2859s - loss: 1.4709 - categorical_accuracy: 0.4509 - val_loss: 1.5709 - val_categorical_accuracy: 0.4127\n",
      "Epoch 2/5\n",
      "1152/2657 [============>.................] - ETA: 1480s - loss: 1.4807 - categorical_accuracy: 0.4332"
     ]
    },
    {
     "ename": "KeyboardInterrupt",
     "evalue": "",
     "output_type": "error",
     "traceback": [
      "\u001b[0;31m---------------------------------------------------------------------------\u001b[0m",
      "\u001b[0;31mKeyboardInterrupt\u001b[0m                         Traceback (most recent call last)",
      "\u001b[0;32m<ipython-input-193-9aadb9938190>\u001b[0m in \u001b[0;36m<module>\u001b[0;34m()\u001b[0m\n\u001b[1;32m      3\u001b[0m           \u001b[0mbatch_size\u001b[0m\u001b[0;34m=\u001b[0m\u001b[0;36m64\u001b[0m\u001b[0;34m,\u001b[0m\u001b[0;34m\u001b[0m\u001b[0m\n\u001b[1;32m      4\u001b[0m           \u001b[0mepochs\u001b[0m\u001b[0;34m=\u001b[0m\u001b[0;36m5\u001b[0m\u001b[0;34m,\u001b[0m\u001b[0;34m\u001b[0m\u001b[0m\n\u001b[0;32m----> 5\u001b[0;31m           validation_data=(x_vl, y_vl))\n\u001b[0m",
      "\u001b[0;32m/home/vaibhavpawar/anaconda2/envs/tensorflow2/lib/python2.7/site-packages/keras/engine/training.pyc\u001b[0m in \u001b[0;36mfit\u001b[0;34m(self, x, y, batch_size, epochs, verbose, callbacks, validation_split, validation_data, shuffle, class_weight, sample_weight, initial_epoch, **kwargs)\u001b[0m\n\u001b[1;32m   1428\u001b[0m                               \u001b[0mval_f\u001b[0m\u001b[0;34m=\u001b[0m\u001b[0mval_f\u001b[0m\u001b[0;34m,\u001b[0m \u001b[0mval_ins\u001b[0m\u001b[0;34m=\u001b[0m\u001b[0mval_ins\u001b[0m\u001b[0;34m,\u001b[0m \u001b[0mshuffle\u001b[0m\u001b[0;34m=\u001b[0m\u001b[0mshuffle\u001b[0m\u001b[0;34m,\u001b[0m\u001b[0;34m\u001b[0m\u001b[0m\n\u001b[1;32m   1429\u001b[0m                               \u001b[0mcallback_metrics\u001b[0m\u001b[0;34m=\u001b[0m\u001b[0mcallback_metrics\u001b[0m\u001b[0;34m,\u001b[0m\u001b[0;34m\u001b[0m\u001b[0m\n\u001b[0;32m-> 1430\u001b[0;31m                               initial_epoch=initial_epoch)\n\u001b[0m\u001b[1;32m   1431\u001b[0m \u001b[0;34m\u001b[0m\u001b[0m\n\u001b[1;32m   1432\u001b[0m     \u001b[0;32mdef\u001b[0m \u001b[0mevaluate\u001b[0m\u001b[0;34m(\u001b[0m\u001b[0mself\u001b[0m\u001b[0;34m,\u001b[0m \u001b[0mx\u001b[0m\u001b[0;34m,\u001b[0m \u001b[0my\u001b[0m\u001b[0;34m,\u001b[0m \u001b[0mbatch_size\u001b[0m\u001b[0;34m=\u001b[0m\u001b[0;36m32\u001b[0m\u001b[0;34m,\u001b[0m \u001b[0mverbose\u001b[0m\u001b[0;34m=\u001b[0m\u001b[0;36m1\u001b[0m\u001b[0;34m,\u001b[0m \u001b[0msample_weight\u001b[0m\u001b[0;34m=\u001b[0m\u001b[0mNone\u001b[0m\u001b[0;34m)\u001b[0m\u001b[0;34m:\u001b[0m\u001b[0;34m\u001b[0m\u001b[0m\n",
      "\u001b[0;32m/home/vaibhavpawar/anaconda2/envs/tensorflow2/lib/python2.7/site-packages/keras/engine/training.pyc\u001b[0m in \u001b[0;36m_fit_loop\u001b[0;34m(self, f, ins, out_labels, batch_size, epochs, verbose, callbacks, val_f, val_ins, shuffle, callback_metrics, initial_epoch)\u001b[0m\n\u001b[1;32m   1077\u001b[0m                 \u001b[0mbatch_logs\u001b[0m\u001b[0;34m[\u001b[0m\u001b[0;34m'size'\u001b[0m\u001b[0;34m]\u001b[0m \u001b[0;34m=\u001b[0m \u001b[0mlen\u001b[0m\u001b[0;34m(\u001b[0m\u001b[0mbatch_ids\u001b[0m\u001b[0;34m)\u001b[0m\u001b[0;34m\u001b[0m\u001b[0m\n\u001b[1;32m   1078\u001b[0m                 \u001b[0mcallbacks\u001b[0m\u001b[0;34m.\u001b[0m\u001b[0mon_batch_begin\u001b[0m\u001b[0;34m(\u001b[0m\u001b[0mbatch_index\u001b[0m\u001b[0;34m,\u001b[0m \u001b[0mbatch_logs\u001b[0m\u001b[0;34m)\u001b[0m\u001b[0;34m\u001b[0m\u001b[0m\n\u001b[0;32m-> 1079\u001b[0;31m                 \u001b[0mouts\u001b[0m \u001b[0;34m=\u001b[0m \u001b[0mf\u001b[0m\u001b[0;34m(\u001b[0m\u001b[0mins_batch\u001b[0m\u001b[0;34m)\u001b[0m\u001b[0;34m\u001b[0m\u001b[0m\n\u001b[0m\u001b[1;32m   1080\u001b[0m                 \u001b[0;32mif\u001b[0m \u001b[0;32mnot\u001b[0m \u001b[0misinstance\u001b[0m\u001b[0;34m(\u001b[0m\u001b[0mouts\u001b[0m\u001b[0;34m,\u001b[0m \u001b[0mlist\u001b[0m\u001b[0;34m)\u001b[0m\u001b[0;34m:\u001b[0m\u001b[0;34m\u001b[0m\u001b[0m\n\u001b[1;32m   1081\u001b[0m                     \u001b[0mouts\u001b[0m \u001b[0;34m=\u001b[0m \u001b[0;34m[\u001b[0m\u001b[0mouts\u001b[0m\u001b[0;34m]\u001b[0m\u001b[0;34m\u001b[0m\u001b[0m\n",
      "\u001b[0;32m/home/vaibhavpawar/anaconda2/envs/tensorflow2/lib/python2.7/site-packages/keras/backend/tensorflow_backend.pyc\u001b[0m in \u001b[0;36m__call__\u001b[0;34m(self, inputs)\u001b[0m\n\u001b[1;32m   2266\u001b[0m         updated = session.run(self.outputs + [self.updates_op],\n\u001b[1;32m   2267\u001b[0m                               \u001b[0mfeed_dict\u001b[0m\u001b[0;34m=\u001b[0m\u001b[0mfeed_dict\u001b[0m\u001b[0;34m,\u001b[0m\u001b[0;34m\u001b[0m\u001b[0m\n\u001b[0;32m-> 2268\u001b[0;31m                               **self.session_kwargs)\n\u001b[0m\u001b[1;32m   2269\u001b[0m         \u001b[0;32mreturn\u001b[0m \u001b[0mupdated\u001b[0m\u001b[0;34m[\u001b[0m\u001b[0;34m:\u001b[0m\u001b[0mlen\u001b[0m\u001b[0;34m(\u001b[0m\u001b[0mself\u001b[0m\u001b[0;34m.\u001b[0m\u001b[0moutputs\u001b[0m\u001b[0;34m)\u001b[0m\u001b[0;34m]\u001b[0m\u001b[0;34m\u001b[0m\u001b[0m\n\u001b[1;32m   2270\u001b[0m \u001b[0;34m\u001b[0m\u001b[0m\n",
      "\u001b[0;32m/home/vaibhavpawar/anaconda2/envs/tensorflow2/lib/python2.7/site-packages/tensorflow/python/client/session.pyc\u001b[0m in \u001b[0;36mrun\u001b[0;34m(self, fetches, feed_dict, options, run_metadata)\u001b[0m\n\u001b[1;32m    784\u001b[0m     \u001b[0;32mtry\u001b[0m\u001b[0;34m:\u001b[0m\u001b[0;34m\u001b[0m\u001b[0m\n\u001b[1;32m    785\u001b[0m       result = self._run(None, fetches, feed_dict, options_ptr,\n\u001b[0;32m--> 786\u001b[0;31m                          run_metadata_ptr)\n\u001b[0m\u001b[1;32m    787\u001b[0m       \u001b[0;32mif\u001b[0m \u001b[0mrun_metadata\u001b[0m\u001b[0;34m:\u001b[0m\u001b[0;34m\u001b[0m\u001b[0m\n\u001b[1;32m    788\u001b[0m         \u001b[0mproto_data\u001b[0m \u001b[0;34m=\u001b[0m \u001b[0mtf_session\u001b[0m\u001b[0;34m.\u001b[0m\u001b[0mTF_GetBuffer\u001b[0m\u001b[0;34m(\u001b[0m\u001b[0mrun_metadata_ptr\u001b[0m\u001b[0;34m)\u001b[0m\u001b[0;34m\u001b[0m\u001b[0m\n",
      "\u001b[0;32m/home/vaibhavpawar/anaconda2/envs/tensorflow2/lib/python2.7/site-packages/tensorflow/python/client/session.pyc\u001b[0m in \u001b[0;36m_run\u001b[0;34m(self, handle, fetches, feed_dict, options, run_metadata)\u001b[0m\n\u001b[1;32m    992\u001b[0m     \u001b[0;32mif\u001b[0m \u001b[0mfinal_fetches\u001b[0m \u001b[0;32mor\u001b[0m \u001b[0mfinal_targets\u001b[0m\u001b[0;34m:\u001b[0m\u001b[0;34m\u001b[0m\u001b[0m\n\u001b[1;32m    993\u001b[0m       results = self._do_run(handle, final_targets, final_fetches,\n\u001b[0;32m--> 994\u001b[0;31m                              feed_dict_string, options, run_metadata)\n\u001b[0m\u001b[1;32m    995\u001b[0m     \u001b[0;32melse\u001b[0m\u001b[0;34m:\u001b[0m\u001b[0;34m\u001b[0m\u001b[0m\n\u001b[1;32m    996\u001b[0m       \u001b[0mresults\u001b[0m \u001b[0;34m=\u001b[0m \u001b[0;34m[\u001b[0m\u001b[0;34m]\u001b[0m\u001b[0;34m\u001b[0m\u001b[0m\n",
      "\u001b[0;32m/home/vaibhavpawar/anaconda2/envs/tensorflow2/lib/python2.7/site-packages/tensorflow/python/client/session.pyc\u001b[0m in \u001b[0;36m_do_run\u001b[0;34m(self, handle, target_list, fetch_list, feed_dict, options, run_metadata)\u001b[0m\n\u001b[1;32m   1042\u001b[0m     \u001b[0;32mif\u001b[0m \u001b[0mhandle\u001b[0m \u001b[0;32mis\u001b[0m \u001b[0mNone\u001b[0m\u001b[0;34m:\u001b[0m\u001b[0;34m\u001b[0m\u001b[0m\n\u001b[1;32m   1043\u001b[0m       return self._do_call(_run_fn, self._session, feed_dict, fetch_list,\n\u001b[0;32m-> 1044\u001b[0;31m                            target_list, options, run_metadata)\n\u001b[0m\u001b[1;32m   1045\u001b[0m     \u001b[0;32melse\u001b[0m\u001b[0;34m:\u001b[0m\u001b[0;34m\u001b[0m\u001b[0m\n\u001b[1;32m   1046\u001b[0m       return self._do_call(_prun_fn, self._session, handle, feed_dict,\n",
      "\u001b[0;32m/home/vaibhavpawar/anaconda2/envs/tensorflow2/lib/python2.7/site-packages/tensorflow/python/client/session.pyc\u001b[0m in \u001b[0;36m_do_call\u001b[0;34m(self, fn, *args)\u001b[0m\n\u001b[1;32m   1049\u001b[0m   \u001b[0;32mdef\u001b[0m \u001b[0m_do_call\u001b[0m\u001b[0;34m(\u001b[0m\u001b[0mself\u001b[0m\u001b[0;34m,\u001b[0m \u001b[0mfn\u001b[0m\u001b[0;34m,\u001b[0m \u001b[0;34m*\u001b[0m\u001b[0margs\u001b[0m\u001b[0;34m)\u001b[0m\u001b[0;34m:\u001b[0m\u001b[0;34m\u001b[0m\u001b[0m\n\u001b[1;32m   1050\u001b[0m     \u001b[0;32mtry\u001b[0m\u001b[0;34m:\u001b[0m\u001b[0;34m\u001b[0m\u001b[0m\n\u001b[0;32m-> 1051\u001b[0;31m       \u001b[0;32mreturn\u001b[0m \u001b[0mfn\u001b[0m\u001b[0;34m(\u001b[0m\u001b[0;34m*\u001b[0m\u001b[0margs\u001b[0m\u001b[0;34m)\u001b[0m\u001b[0;34m\u001b[0m\u001b[0m\n\u001b[0m\u001b[1;32m   1052\u001b[0m     \u001b[0;32mexcept\u001b[0m \u001b[0merrors\u001b[0m\u001b[0;34m.\u001b[0m\u001b[0mOpError\u001b[0m \u001b[0;32mas\u001b[0m \u001b[0me\u001b[0m\u001b[0;34m:\u001b[0m\u001b[0;34m\u001b[0m\u001b[0m\n\u001b[1;32m   1053\u001b[0m       \u001b[0mmessage\u001b[0m \u001b[0;34m=\u001b[0m \u001b[0mcompat\u001b[0m\u001b[0;34m.\u001b[0m\u001b[0mas_text\u001b[0m\u001b[0;34m(\u001b[0m\u001b[0me\u001b[0m\u001b[0;34m.\u001b[0m\u001b[0mmessage\u001b[0m\u001b[0;34m)\u001b[0m\u001b[0;34m\u001b[0m\u001b[0m\n",
      "\u001b[0;32m/home/vaibhavpawar/anaconda2/envs/tensorflow2/lib/python2.7/site-packages/tensorflow/python/client/session.pyc\u001b[0m in \u001b[0;36m_run_fn\u001b[0;34m(session, feed_dict, fetch_list, target_list, options, run_metadata)\u001b[0m\n\u001b[1;32m   1031\u001b[0m         return tf_session.TF_Run(session, options,\n\u001b[1;32m   1032\u001b[0m                                  \u001b[0mfeed_dict\u001b[0m\u001b[0;34m,\u001b[0m \u001b[0mfetch_list\u001b[0m\u001b[0;34m,\u001b[0m \u001b[0mtarget_list\u001b[0m\u001b[0;34m,\u001b[0m\u001b[0;34m\u001b[0m\u001b[0m\n\u001b[0;32m-> 1033\u001b[0;31m                                  status, run_metadata)\n\u001b[0m\u001b[1;32m   1034\u001b[0m \u001b[0;34m\u001b[0m\u001b[0m\n\u001b[1;32m   1035\u001b[0m     \u001b[0;32mdef\u001b[0m \u001b[0m_prun_fn\u001b[0m\u001b[0;34m(\u001b[0m\u001b[0msession\u001b[0m\u001b[0;34m,\u001b[0m \u001b[0mhandle\u001b[0m\u001b[0;34m,\u001b[0m \u001b[0mfeed_dict\u001b[0m\u001b[0;34m,\u001b[0m \u001b[0mfetch_list\u001b[0m\u001b[0;34m)\u001b[0m\u001b[0;34m:\u001b[0m\u001b[0;34m\u001b[0m\u001b[0m\n",
      "\u001b[0;31mKeyboardInterrupt\u001b[0m: "
     ]
    }
   ],
   "source": [
    "K.set_value(model1.optimizer.lr, 0.001)\n",
    "model1.fit(x_tr, y_tr,\n",
    "          batch_size=64,\n",
    "          epochs=5,\n",
    "          validation_data=(x_vl, y_vl))"
   ]
  },
  {
   "cell_type": "code",
   "execution_count": 195,
   "metadata": {
    "collapsed": true
   },
   "outputs": [],
   "source": [
    "embedding_layer2 = Embedding(len(word_index) + 1,\n",
    "                            200,\n",
    "                            weights=[embedding_matrix],\n",
    "                            input_length=MAX_SEQUENCE_LENGTH,\n",
    "                            trainable=False)\n",
    "\n",
    "sequence_input2 = Input(shape=(MAX_SEQUENCE_LENGTH,), dtype='int32')\n",
    "embedded_sequences2 = embedding_layer2(sequence_input2)\n",
    "x2 = Dropout(0.3)(embedded_sequences2)\n",
    "x2 = GRU(256, dropout=0.3, recurrent_dropout=0.3)(x2)\n",
    "preds2 = Dense(9, activation='softmax')(x2)\n",
    "\n",
    "model2 = Model(sequence_input2, preds2)\n",
    "model2.compile(loss='categorical_crossentropy',\n",
    "              optimizer='adam',\n",
    "              metrics=['acc'])"
   ]
  },
  {
   "cell_type": "code",
   "execution_count": 196,
   "metadata": {},
   "outputs": [
    {
     "data": {
      "image/svg+xml": [
       "<svg height=\"392pt\" viewBox=\"0.00 0.00 354.00 392.00\" width=\"354pt\" xmlns=\"http://www.w3.org/2000/svg\" xmlns:xlink=\"http://www.w3.org/1999/xlink\">\n",
       "<g class=\"graph\" id=\"graph0\" transform=\"scale(1 1) rotate(0) translate(4 388)\">\n",
       "<title>G</title>\n",
       "<polygon fill=\"white\" points=\"-4,4 -4,-388 350,-388 350,4 -4,4\" stroke=\"none\"/>\n",
       "<!-- 139684610339856 -->\n",
       "<g class=\"node\" id=\"node1\"><title>139684610339856</title>\n",
       "<polygon fill=\"none\" points=\"31.5,-337 31.5,-383 314.5,-383 314.5,-337 31.5,-337\" stroke=\"black\"/>\n",
       "<text font-family=\"Times,serif\" font-size=\"14.00\" text-anchor=\"middle\" x=\"97.5\" y=\"-356.3\">input_78: InputLayer</text>\n",
       "<polyline fill=\"none\" points=\"163.5,-337 163.5,-383 \" stroke=\"black\"/>\n",
       "<text font-family=\"Times,serif\" font-size=\"14.00\" text-anchor=\"middle\" x=\"191\" y=\"-367.8\">input:</text>\n",
       "<polyline fill=\"none\" points=\"163.5,-360 218.5,-360 \" stroke=\"black\"/>\n",
       "<text font-family=\"Times,serif\" font-size=\"14.00\" text-anchor=\"middle\" x=\"191\" y=\"-344.8\">output:</text>\n",
       "<polyline fill=\"none\" points=\"218.5,-337 218.5,-383 \" stroke=\"black\"/>\n",
       "<text font-family=\"Times,serif\" font-size=\"14.00\" text-anchor=\"middle\" x=\"266.5\" y=\"-367.8\">(None, 20000)</text>\n",
       "<polyline fill=\"none\" points=\"218.5,-360 314.5,-360 \" stroke=\"black\"/>\n",
       "<text font-family=\"Times,serif\" font-size=\"14.00\" text-anchor=\"middle\" x=\"266.5\" y=\"-344.8\">(None, 20000)</text>\n",
       "</g>\n",
       "<!-- 139684610339920 -->\n",
       "<g class=\"node\" id=\"node2\"><title>139684610339920</title>\n",
       "<polygon fill=\"none\" points=\"-0.5,-253 -0.5,-299 346.5,-299 346.5,-253 -0.5,-253\" stroke=\"black\"/>\n",
       "<text font-family=\"Times,serif\" font-size=\"14.00\" text-anchor=\"middle\" x=\"83.5\" y=\"-272.3\">embedding_28: Embedding</text>\n",
       "<polyline fill=\"none\" points=\"167.5,-253 167.5,-299 \" stroke=\"black\"/>\n",
       "<text font-family=\"Times,serif\" font-size=\"14.00\" text-anchor=\"middle\" x=\"195\" y=\"-283.8\">input:</text>\n",
       "<polyline fill=\"none\" points=\"167.5,-276 222.5,-276 \" stroke=\"black\"/>\n",
       "<text font-family=\"Times,serif\" font-size=\"14.00\" text-anchor=\"middle\" x=\"195\" y=\"-260.8\">output:</text>\n",
       "<polyline fill=\"none\" points=\"222.5,-253 222.5,-299 \" stroke=\"black\"/>\n",
       "<text font-family=\"Times,serif\" font-size=\"14.00\" text-anchor=\"middle\" x=\"284.5\" y=\"-283.8\">(None, 20000)</text>\n",
       "<polyline fill=\"none\" points=\"222.5,-276 346.5,-276 \" stroke=\"black\"/>\n",
       "<text font-family=\"Times,serif\" font-size=\"14.00\" text-anchor=\"middle\" x=\"284.5\" y=\"-260.8\">(None, 20000, 200)</text>\n",
       "</g>\n",
       "<!-- 139684610339856&#45;&gt;139684610339920 -->\n",
       "<g class=\"edge\" id=\"edge1\"><title>139684610339856-&gt;139684610339920</title>\n",
       "<path d=\"M173,-336.593C173,-328.118 173,-318.297 173,-309.104\" fill=\"none\" stroke=\"black\"/>\n",
       "<polygon fill=\"black\" points=\"176.5,-309.096 173,-299.096 169.5,-309.096 176.5,-309.096\" stroke=\"black\"/>\n",
       "</g>\n",
       "<!-- 139684610340176 -->\n",
       "<g class=\"node\" id=\"node3\"><title>139684610340176</title>\n",
       "<polygon fill=\"none\" points=\"18,-169 18,-215 328,-215 328,-169 18,-169\" stroke=\"black\"/>\n",
       "<text font-family=\"Times,serif\" font-size=\"14.00\" text-anchor=\"middle\" x=\"83.5\" y=\"-188.3\">dropout_79: Dropout</text>\n",
       "<polyline fill=\"none\" points=\"149,-169 149,-215 \" stroke=\"black\"/>\n",
       "<text font-family=\"Times,serif\" font-size=\"14.00\" text-anchor=\"middle\" x=\"176.5\" y=\"-199.8\">input:</text>\n",
       "<polyline fill=\"none\" points=\"149,-192 204,-192 \" stroke=\"black\"/>\n",
       "<text font-family=\"Times,serif\" font-size=\"14.00\" text-anchor=\"middle\" x=\"176.5\" y=\"-176.8\">output:</text>\n",
       "<polyline fill=\"none\" points=\"204,-169 204,-215 \" stroke=\"black\"/>\n",
       "<text font-family=\"Times,serif\" font-size=\"14.00\" text-anchor=\"middle\" x=\"266\" y=\"-199.8\">(None, 20000, 200)</text>\n",
       "<polyline fill=\"none\" points=\"204,-192 328,-192 \" stroke=\"black\"/>\n",
       "<text font-family=\"Times,serif\" font-size=\"14.00\" text-anchor=\"middle\" x=\"266\" y=\"-176.8\">(None, 20000, 200)</text>\n",
       "</g>\n",
       "<!-- 139684610339920&#45;&gt;139684610340176 -->\n",
       "<g class=\"edge\" id=\"edge2\"><title>139684610339920-&gt;139684610340176</title>\n",
       "<path d=\"M173,-252.593C173,-244.118 173,-234.297 173,-225.104\" fill=\"none\" stroke=\"black\"/>\n",
       "<polygon fill=\"black\" points=\"176.5,-225.096 173,-215.096 169.5,-225.096 176.5,-225.096\" stroke=\"black\"/>\n",
       "</g>\n",
       "<!-- 139684648735120 -->\n",
       "<g class=\"node\" id=\"node4\"><title>139684648735120</title>\n",
       "<polygon fill=\"none\" points=\"34.5,-85 34.5,-131 311.5,-131 311.5,-85 34.5,-85\" stroke=\"black\"/>\n",
       "<text font-family=\"Times,serif\" font-size=\"14.00\" text-anchor=\"middle\" x=\"83.5\" y=\"-104.3\">lstm_1: LSTM</text>\n",
       "<polyline fill=\"none\" points=\"132.5,-85 132.5,-131 \" stroke=\"black\"/>\n",
       "<text font-family=\"Times,serif\" font-size=\"14.00\" text-anchor=\"middle\" x=\"160\" y=\"-115.8\">input:</text>\n",
       "<polyline fill=\"none\" points=\"132.5,-108 187.5,-108 \" stroke=\"black\"/>\n",
       "<text font-family=\"Times,serif\" font-size=\"14.00\" text-anchor=\"middle\" x=\"160\" y=\"-92.8\">output:</text>\n",
       "<polyline fill=\"none\" points=\"187.5,-85 187.5,-131 \" stroke=\"black\"/>\n",
       "<text font-family=\"Times,serif\" font-size=\"14.00\" text-anchor=\"middle\" x=\"249.5\" y=\"-115.8\">(None, 20000, 200)</text>\n",
       "<polyline fill=\"none\" points=\"187.5,-108 311.5,-108 \" stroke=\"black\"/>\n",
       "<text font-family=\"Times,serif\" font-size=\"14.00\" text-anchor=\"middle\" x=\"249.5\" y=\"-92.8\">(None, 128)</text>\n",
       "</g>\n",
       "<!-- 139684610340176&#45;&gt;139684648735120 -->\n",
       "<g class=\"edge\" id=\"edge3\"><title>139684610340176-&gt;139684648735120</title>\n",
       "<path d=\"M173,-168.593C173,-160.118 173,-150.297 173,-141.104\" fill=\"none\" stroke=\"black\"/>\n",
       "<polygon fill=\"black\" points=\"176.5,-141.096 173,-131.096 169.5,-141.096 176.5,-141.096\" stroke=\"black\"/>\n",
       "</g>\n",
       "<!-- 139684610340432 -->\n",
       "<g class=\"node\" id=\"node5\"><title>139684610340432</title>\n",
       "<polygon fill=\"none\" points=\"49.5,-1 49.5,-47 296.5,-47 296.5,-1 49.5,-1\" stroke=\"black\"/>\n",
       "<text font-family=\"Times,serif\" font-size=\"14.00\" text-anchor=\"middle\" x=\"104\" y=\"-20.3\">dense_19: Dense</text>\n",
       "<polyline fill=\"none\" points=\"158.5,-1 158.5,-47 \" stroke=\"black\"/>\n",
       "<text font-family=\"Times,serif\" font-size=\"14.00\" text-anchor=\"middle\" x=\"186\" y=\"-31.8\">input:</text>\n",
       "<polyline fill=\"none\" points=\"158.5,-24 213.5,-24 \" stroke=\"black\"/>\n",
       "<text font-family=\"Times,serif\" font-size=\"14.00\" text-anchor=\"middle\" x=\"186\" y=\"-8.8\">output:</text>\n",
       "<polyline fill=\"none\" points=\"213.5,-1 213.5,-47 \" stroke=\"black\"/>\n",
       "<text font-family=\"Times,serif\" font-size=\"14.00\" text-anchor=\"middle\" x=\"255\" y=\"-31.8\">(None, 128)</text>\n",
       "<polyline fill=\"none\" points=\"213.5,-24 296.5,-24 \" stroke=\"black\"/>\n",
       "<text font-family=\"Times,serif\" font-size=\"14.00\" text-anchor=\"middle\" x=\"255\" y=\"-8.8\">(None, 9)</text>\n",
       "</g>\n",
       "<!-- 139684648735120&#45;&gt;139684610340432 -->\n",
       "<g class=\"edge\" id=\"edge4\"><title>139684648735120-&gt;139684610340432</title>\n",
       "<path d=\"M173,-84.5931C173,-76.1177 173,-66.2974 173,-57.104\" fill=\"none\" stroke=\"black\"/>\n",
       "<polygon fill=\"black\" points=\"176.5,-57.0958 173,-47.0959 169.5,-57.0959 176.5,-57.0958\" stroke=\"black\"/>\n",
       "</g>\n",
       "</g>\n",
       "</svg>"
      ],
      "text/plain": [
       "<IPython.core.display.SVG object>"
      ]
     },
     "execution_count": 196,
     "metadata": {},
     "output_type": "execute_result"
    }
   ],
   "source": [
    "SVG(model_to_dot(model1, show_shapes=True).create(prog='dot', format='svg'))"
   ]
  },
  {
   "cell_type": "code",
   "execution_count": 197,
   "metadata": {},
   "outputs": [
    {
     "name": "stdout",
     "output_type": "stream",
     "text": [
      "Train on 2657 samples, validate on 664 samples\n",
      "Epoch 1/2\n",
      "2657/2657 [==============================] - 5123s - loss: 1.8228 - acc: 0.3109 - val_loss: 1.7315 - val_acc: 0.3524\n",
      "Epoch 2/2\n",
      "2657/2657 [==============================] - 5511s - loss: 1.6309 - acc: 0.3869 - val_loss: 1.6399 - val_acc: 0.4202\n"
     ]
    },
    {
     "data": {
      "text/plain": [
       "<keras.callbacks.History at 0x7f0ada5f6610>"
      ]
     },
     "execution_count": 197,
     "metadata": {},
     "output_type": "execute_result"
    }
   ],
   "source": [
    "K.set_value(model2.optimizer.lr, 0.001)\n",
    "model2.fit(x_tr, y_tr,\n",
    "          batch_size=64,\n",
    "          epochs=2,\n",
    "          validation_data=(x_vl, y_vl)) "
   ]
  },
  {
   "cell_type": "code",
   "execution_count": 198,
   "metadata": {},
   "outputs": [
    {
     "name": "stdout",
     "output_type": "stream",
     "text": [
      "Train on 2657 samples, validate on 664 samples\n",
      "Epoch 1/1\n",
      "2657/2657 [==============================] - 5403s - loss: 1.5690 - acc: 0.4170 - val_loss: 1.5792 - val_acc: 0.4292\n"
     ]
    },
    {
     "data": {
      "text/plain": [
       "<keras.callbacks.History at 0x7f0adabc3490>"
      ]
     },
     "execution_count": 198,
     "metadata": {},
     "output_type": "execute_result"
    }
   ],
   "source": [
    "K.set_value(model2.optimizer.lr, 0.001)\n",
    "model2.fit(x_tr, y_tr,\n",
    "          batch_size=64,\n",
    "          epochs=1,\n",
    "          validation_data=(x_vl, y_vl))"
   ]
  },
  {
   "cell_type": "code",
   "execution_count": 199,
   "metadata": {},
   "outputs": [
    {
     "name": "stdout",
     "output_type": "stream",
     "text": [
      "Train on 2657 samples, validate on 664 samples\n",
      "Epoch 1/1\n",
      "2657/2657 [==============================] - 5181s - loss: 1.5143 - acc: 0.4403 - val_loss: 1.5412 - val_acc: 0.4639\n"
     ]
    },
    {
     "data": {
      "text/plain": [
       "<keras.callbacks.History at 0x7f0adabc34d0>"
      ]
     },
     "execution_count": 199,
     "metadata": {},
     "output_type": "execute_result"
    }
   ],
   "source": [
    "K.set_value(model2.optimizer.lr, 0.001)\n",
    "model2.fit(x_tr, y_tr,\n",
    "          batch_size=64,\n",
    "          epochs=1,\n",
    "          validation_data=(x_vl, y_vl))"
   ]
  },
  {
   "cell_type": "code",
   "execution_count": 200,
   "metadata": {},
   "outputs": [
    {
     "name": "stdout",
     "output_type": "stream",
     "text": [
      "Train on 2657 samples, validate on 664 samples\n",
      "Epoch 1/1\n",
      "2657/2657 [==============================] - 5502s - loss: 1.4856 - acc: 0.4505 - val_loss: 1.5186 - val_acc: 0.4623\n"
     ]
    },
    {
     "data": {
      "text/plain": [
       "<keras.callbacks.History at 0x7f0adabc3210>"
      ]
     },
     "execution_count": 200,
     "metadata": {},
     "output_type": "execute_result"
    }
   ],
   "source": [
    "K.set_value(model2.optimizer.lr, 0.001)\n",
    "model2.fit(x_tr, y_tr,\n",
    "          batch_size=64,\n",
    "          epochs=1,\n",
    "          validation_data=(x_vl, y_vl))"
   ]
  },
  {
   "cell_type": "code",
   "execution_count": 201,
   "metadata": {},
   "outputs": [
    {
     "name": "stdout",
     "output_type": "stream",
     "text": [
      "Train on 2657 samples, validate on 664 samples\n",
      "Epoch 1/1\n",
      "2657/2657 [==============================] - 6181s - loss: 1.4443 - acc: 0.4674 - val_loss: 1.4670 - val_acc: 0.4774\n"
     ]
    },
    {
     "data": {
      "text/plain": [
       "<keras.callbacks.History at 0x7f0ada522c10>"
      ]
     },
     "execution_count": 201,
     "metadata": {},
     "output_type": "execute_result"
    }
   ],
   "source": [
    "K.set_value(model2.optimizer.lr, 0.001)\n",
    "model2.fit(x_tr, y_tr,\n",
    "          batch_size=64,\n",
    "          epochs=1,\n",
    "          validation_data=(x_vl, y_vl))"
   ]
  },
  {
   "cell_type": "code",
   "execution_count": 202,
   "metadata": {},
   "outputs": [
    {
     "name": "stdout",
     "output_type": "stream",
     "text": [
      "Train on 2657 samples, validate on 664 samples\n",
      "Epoch 1/1\n",
      "2657/2657 [==============================] - 5878s - loss: 1.4063 - acc: 0.4765 - val_loss: 1.4187 - val_acc: 0.4940\n"
     ]
    },
    {
     "data": {
      "text/plain": [
       "<keras.callbacks.History at 0x7f0adabc3410>"
      ]
     },
     "execution_count": 202,
     "metadata": {},
     "output_type": "execute_result"
    }
   ],
   "source": [
    "K.set_value(model2.optimizer.lr, 0.001)\n",
    "model2.fit(x_tr, y_tr,\n",
    "          batch_size=64,\n",
    "          epochs=1,\n",
    "          validation_data=(x_vl, y_vl))"
   ]
  },
  {
   "cell_type": "code",
   "execution_count": 203,
   "metadata": {},
   "outputs": [
    {
     "name": "stdout",
     "output_type": "stream",
     "text": [
      "Train on 2657 samples, validate on 664 samples\n",
      "Epoch 1/1\n",
      "2657/2657 [==============================] - 5882s - loss: 1.3342 - acc: 0.5119 - val_loss: 1.3734 - val_acc: 0.5105\n"
     ]
    },
    {
     "data": {
      "text/plain": [
       "<keras.callbacks.History at 0x7f0ada522d50>"
      ]
     },
     "execution_count": 203,
     "metadata": {},
     "output_type": "execute_result"
    }
   ],
   "source": [
    "K.set_value(model2.optimizer.lr, 0.001)\n",
    "model2.fit(x_tr, y_tr,\n",
    "          batch_size=64,\n",
    "          epochs=1,\n",
    "          validation_data=(x_vl, y_vl))"
   ]
  },
  {
   "cell_type": "code",
   "execution_count": 204,
   "metadata": {},
   "outputs": [
    {
     "name": "stdout",
     "output_type": "stream",
     "text": [
      "Train on 2657 samples, validate on 664 samples\n",
      "Epoch 1/1\n",
      "2657/2657 [==============================] - 5658s - loss: 1.2923 - acc: 0.5303 - val_loss: 1.2919 - val_acc: 0.5527\n"
     ]
    },
    {
     "data": {
      "text/plain": [
       "<keras.callbacks.History at 0x7f0ada522e50>"
      ]
     },
     "execution_count": 204,
     "metadata": {},
     "output_type": "execute_result"
    }
   ],
   "source": [
    "K.set_value(model2.optimizer.lr, 0.001)\n",
    "model2.fit(x_tr, y_tr,\n",
    "          batch_size=64,\n",
    "          epochs=1,\n",
    "          validation_data=(x_vl, y_vl))"
   ]
  },
  {
   "cell_type": "code",
   "execution_count": 205,
   "metadata": {},
   "outputs": [
    {
     "name": "stdout",
     "output_type": "stream",
     "text": [
      "Train on 2657 samples, validate on 664 samples\n",
      "Epoch 1/1\n",
      "2657/2657 [==============================] - 8559s - loss: 1.2172 - acc: 0.5491 - val_loss: 1.2723 - val_acc: 0.5422\n"
     ]
    },
    {
     "data": {
      "text/plain": [
       "<keras.callbacks.History at 0x7f0ada522d10>"
      ]
     },
     "execution_count": 205,
     "metadata": {},
     "output_type": "execute_result"
    }
   ],
   "source": [
    "K.set_value(model2.optimizer.lr, 0.001)\n",
    "model2.fit(x_tr, y_tr,\n",
    "          batch_size=64,\n",
    "          epochs=1,\n",
    "          validation_data=(x_vl, y_vl))"
   ]
  },
  {
   "cell_type": "code",
   "execution_count": 206,
   "metadata": {},
   "outputs": [
    {
     "name": "stdout",
     "output_type": "stream",
     "text": [
      "Train on 2657 samples, validate on 664 samples\n",
      "Epoch 1/1\n",
      "2657/2657 [==============================] - 7020s - loss: 1.1996 - acc: 0.5450 - val_loss: 1.2518 - val_acc: 0.5678\n"
     ]
    },
    {
     "data": {
      "text/plain": [
       "<keras.callbacks.History at 0x7f0ada5f6650>"
      ]
     },
     "execution_count": 206,
     "metadata": {},
     "output_type": "execute_result"
    }
   ],
   "source": [
    "K.set_value(model2.optimizer.lr, 0.001)\n",
    "model2.fit(x_tr, y_tr,\n",
    "          batch_size=64,\n",
    "          epochs=1,\n",
    "          validation_data=(x_vl, y_vl))"
   ]
  },
  {
   "cell_type": "code",
   "execution_count": 207,
   "metadata": {},
   "outputs": [
    {
     "name": "stdout",
     "output_type": "stream",
     "text": [
      "Train on 2657 samples, validate on 664 samples\n",
      "Epoch 1/1\n",
      "2657/2657 [==============================] - 6904s - loss: 1.1385 - acc: 0.5807 - val_loss: 1.2287 - val_acc: 0.5617\n"
     ]
    },
    {
     "data": {
      "text/plain": [
       "<keras.callbacks.History at 0x7f0ada522e90>"
      ]
     },
     "execution_count": 207,
     "metadata": {},
     "output_type": "execute_result"
    }
   ],
   "source": [
    "K.set_value(model2.optimizer.lr, 0.0001)\n",
    "model2.fit(x_tr, y_tr,\n",
    "          batch_size=64,\n",
    "          epochs=1,\n",
    "          validation_data=(x_vl, y_vl))"
   ]
  },
  {
   "cell_type": "code",
   "execution_count": 208,
   "metadata": {},
   "outputs": [
    {
     "name": "stdout",
     "output_type": "stream",
     "text": [
      "Train on 2657 samples, validate on 664 samples\n",
      "Epoch 1/1\n",
      "2657/2657 [==============================] - 6679s - loss: 1.1377 - acc: 0.5804 - val_loss: 1.2214 - val_acc: 0.5678\n"
     ]
    },
    {
     "data": {
      "text/plain": [
       "<keras.callbacks.History at 0x7f0ada522990>"
      ]
     },
     "execution_count": 208,
     "metadata": {},
     "output_type": "execute_result"
    }
   ],
   "source": [
    "K.set_value(model2.optimizer.lr, 0.0001)\n",
    "model2.fit(x_tr, y_tr,\n",
    "          batch_size=64,\n",
    "          epochs=1,\n",
    "          validation_data=(x_vl, y_vl))"
   ]
  },
  {
   "cell_type": "code",
   "execution_count": 209,
   "metadata": {},
   "outputs": [
    {
     "name": "stdout",
     "output_type": "stream",
     "text": [
      "Train on 2657 samples, validate on 664 samples\n",
      "Epoch 1/5\n",
      "2657/2657 [==============================] - 7053s - loss: 1.1279 - acc: 0.5837 - val_loss: 1.2141 - val_acc: 0.5663\n",
      "Epoch 2/5\n",
      "2657/2657 [==============================] - 5889s - loss: 1.1221 - acc: 0.5973 - val_loss: 1.2095 - val_acc: 0.5723\n",
      "Epoch 3/5\n",
      "2657/2657 [==============================] - 5178s - loss: 1.1215 - acc: 0.5898 - val_loss: 1.2036 - val_acc: 0.5753\n",
      "Epoch 4/5\n",
      "2657/2657 [==============================] - 5272s - loss: 1.0912 - acc: 0.5943 - val_loss: 1.1979 - val_acc: 0.5753\n",
      "Epoch 5/5\n",
      "2657/2657 [==============================] - 6295s - loss: 1.1197 - acc: 0.5883 - val_loss: 1.1983 - val_acc: 0.5768\n"
     ]
    },
    {
     "data": {
      "text/plain": [
       "<keras.callbacks.History at 0x7f0ada522e10>"
      ]
     },
     "execution_count": 209,
     "metadata": {},
     "output_type": "execute_result"
    }
   ],
   "source": [
    "K.set_value(model2.optimizer.lr, 0.0001)\n",
    "model2.fit(x_tr, y_tr,\n",
    "          batch_size=64,\n",
    "          epochs=5,\n",
    "          validation_data=(x_vl, y_vl))"
   ]
  },
  {
   "cell_type": "code",
   "execution_count": 210,
   "metadata": {},
   "outputs": [
    {
     "name": "stdout",
     "output_type": "stream",
     "text": [
      "Train on 2657 samples, validate on 664 samples\n",
      "Epoch 1/5\n",
      "2657/2657 [==============================] - 6788s - loss: 1.0829 - acc: 0.6041 - val_loss: 1.1942 - val_acc: 0.5813\n",
      "Epoch 2/5\n",
      "2657/2657 [==============================] - 5360s - loss: 1.1042 - acc: 0.5954 - val_loss: 1.2046 - val_acc: 0.5527\n",
      "Epoch 3/5\n",
      "2657/2657 [==============================] - 5202s - loss: 1.1100 - acc: 0.5935 - val_loss: 1.1924 - val_acc: 0.5828\n",
      "Epoch 4/5\n",
      "2657/2657 [==============================] - 5199s - loss: 1.0777 - acc: 0.6067 - val_loss: 1.1926 - val_acc: 0.5768\n",
      "Epoch 5/5\n",
      "2657/2657 [==============================] - 5194s - loss: 1.0851 - acc: 0.6067 - val_loss: 1.1849 - val_acc: 0.5828\n"
     ]
    },
    {
     "data": {
      "text/plain": [
       "<keras.callbacks.History at 0x7f0ada522150>"
      ]
     },
     "execution_count": 210,
     "metadata": {},
     "output_type": "execute_result"
    }
   ],
   "source": [
    "K.set_value(model2.optimizer.lr, 0.0001)\n",
    "model2.fit(x_tr, y_tr,\n",
    "          batch_size=64,\n",
    "          epochs=5,\n",
    "          validation_data=(x_vl, y_vl))"
   ]
  },
  {
   "cell_type": "code",
   "execution_count": 211,
   "metadata": {},
   "outputs": [
    {
     "name": "stdout",
     "output_type": "stream",
     "text": [
      "Train on 2657 samples, validate on 664 samples\n",
      "Epoch 1/5\n",
      "2657/2657 [==============================] - 6274s - loss: 1.0624 - acc: 0.6112 - val_loss: 1.1844 - val_acc: 0.5828\n",
      "Epoch 2/5\n",
      "2657/2657 [==============================] - 6584s - loss: 1.0757 - acc: 0.5977 - val_loss: 1.1843 - val_acc: 0.5873\n",
      "Epoch 3/5\n",
      "2657/2657 [==============================] - 7605s - loss: 1.0897 - acc: 0.5920 - val_loss: 1.1833 - val_acc: 0.5828\n",
      "Epoch 4/5\n",
      "2657/2657 [==============================] - 7778s - loss: 1.0757 - acc: 0.6003 - val_loss: 1.1827 - val_acc: 0.5843\n",
      "Epoch 5/5\n",
      "2657/2657 [==============================] - 7610s - loss: 1.0782 - acc: 0.6037 - val_loss: 1.1821 - val_acc: 0.5828\n"
     ]
    },
    {
     "data": {
      "text/plain": [
       "<keras.callbacks.History at 0x7f0ada522f90>"
      ]
     },
     "execution_count": 211,
     "metadata": {},
     "output_type": "execute_result"
    }
   ],
   "source": [
    "K.set_value(model2.optimizer.lr, 0.00001)\n",
    "model2.fit(x_tr, y_tr,\n",
    "          batch_size=64,\n",
    "          epochs=5,\n",
    "          validation_data=(x_vl, y_vl))"
   ]
  },
  {
   "cell_type": "code",
   "execution_count": 212,
   "metadata": {},
   "outputs": [
    {
     "name": "stdout",
     "output_type": "stream",
     "text": [
      "Train on 2657 samples, validate on 664 samples\n",
      "Epoch 1/5\n",
      "2657/2657 [==============================] - 6765s - loss: 1.1014 - acc: 0.5890 - val_loss: 1.1843 - val_acc: 0.5873\n",
      "Epoch 2/5\n",
      "2657/2657 [==============================] - 5667s - loss: 1.0850 - acc: 0.5962 - val_loss: 1.1844 - val_acc: 0.5873\n",
      "Epoch 3/5\n",
      "2657/2657 [==============================] - 5740s - loss: 1.0833 - acc: 0.6048 - val_loss: 1.1843 - val_acc: 0.5873\n",
      "Epoch 4/5\n",
      "2657/2657 [==============================] - 5277s - loss: 1.0788 - acc: 0.6014 - val_loss: 1.1846 - val_acc: 0.5873\n",
      "Epoch 5/5\n",
      "2657/2657 [==============================] - 5595s - loss: 1.0892 - acc: 0.6018 - val_loss: 1.1846 - val_acc: 0.5858\n"
     ]
    },
    {
     "data": {
      "text/plain": [
       "<keras.callbacks.History at 0x7f0ada4c6110>"
      ]
     },
     "execution_count": 212,
     "metadata": {},
     "output_type": "execute_result"
    }
   ],
   "source": [
    "K.set_value(model2.optimizer.lr, 0.00001)\n",
    "model2.fit(x_tr, y_tr,\n",
    "          batch_size=64,\n",
    "          epochs=5,\n",
    "          validation_data=(x_vl, y_vl))"
   ]
  },
  {
   "cell_type": "code",
   "execution_count": 213,
   "metadata": {},
   "outputs": [
    {
     "name": "stdout",
     "output_type": "stream",
     "text": [
      "____________________________________________________________________________________________________\n",
      "Layer (type)                     Output Shape          Param #     Connected to                     \n",
      "====================================================================================================\n",
      "input_80 (InputLayer)            (None, 20000)         0                                            \n",
      "____________________________________________________________________________________________________\n",
      "embedding_29 (Embedding)         (None, 20000, 200)    39415600    input_80[0][0]                   \n",
      "____________________________________________________________________________________________________\n",
      "dropout_81 (Dropout)             (None, 20000, 200)    0           embedding_29[1][0]               \n",
      "____________________________________________________________________________________________________\n",
      "gru_2 (GRU)                      (None, 256)           350976      dropout_81[0][0]                 \n",
      "____________________________________________________________________________________________________\n",
      "input_81 (InputLayer)            (None, 200)           0                                            \n",
      "____________________________________________________________________________________________________\n",
      "input_82 (InputLayer)            (None, 200)           0                                            \n",
      "____________________________________________________________________________________________________\n",
      "concatenate_31 (Concatenate)     (None, 656)           0           gru_2[0][0]                      \n",
      "                                                                   input_81[0][0]                   \n",
      "                                                                   input_82[0][0]                   \n",
      "____________________________________________________________________________________________________\n",
      "dropout_82 (Dropout)             (None, 656)           0           concatenate_31[0][0]             \n",
      "____________________________________________________________________________________________________\n",
      "dense_21 (Dense)                 (None, 9)             5913        dropout_82[0][0]                 \n",
      "====================================================================================================\n",
      "Total params: 39,772,489\n",
      "Trainable params: 356,889\n",
      "Non-trainable params: 39,415,600\n",
      "____________________________________________________________________________________________________\n",
      "None\n"
     ]
    }
   ],
   "source": [
    "init1 = initializers.he_normal()\n",
    "\n",
    "embedding_layer4 = Embedding(len(word_index) + 1,\n",
    "                            200,\n",
    "                            weights=[embedding_matrix],\n",
    "                            input_length=MAX_SEQUENCE_LENGTH,\n",
    "                            trainable=False)\n",
    "\n",
    "sequence_input4 = Input(shape=(MAX_SEQUENCE_LENGTH,), dtype='int32')\n",
    "embedded_sequences4 = embedding_layer2(sequence_input4)\n",
    "x4 = Dropout(0.3)(embedded_sequences4)\n",
    "x4 = GRU(256, dropout=0.3, recurrent_dropout=0.3)(x4)\n",
    "\n",
    "ge_input = Input(shape=(200,))\n",
    "ve_input = Input(shape=(200,))\n",
    "\n",
    "x5 = concatenate([x4, ge_input, ve_input], axis=-1)\n",
    "x5 = Dropout(0.3)(x5)\n",
    "\n",
    "preds4 = Dense(9, activation='softmax', kernel_initializer=init1)(x5)\n",
    "\n",
    "model4 = Model([sequence_input4, ge_input, ve_input], preds4)\n",
    "model4.compile(loss='categorical_crossentropy',\n",
    "              optimizer='adam',\n",
    "              metrics=['acc'])\n",
    "\n",
    "print model4.summary()"
   ]
  },
  {
   "cell_type": "code",
   "execution_count": 214,
   "metadata": {},
   "outputs": [
    {
     "data": {
      "image/svg+xml": [
       "<svg height=\"560pt\" viewBox=\"0.00 0.00 889.00 560.00\" width=\"889pt\" xmlns=\"http://www.w3.org/2000/svg\" xmlns:xlink=\"http://www.w3.org/1999/xlink\">\n",
       "<g class=\"graph\" id=\"graph0\" transform=\"scale(1 1) rotate(0) translate(4 556)\">\n",
       "<title>G</title>\n",
       "<polygon fill=\"white\" points=\"-4,4 -4,-556 885,-556 885,4 -4,4\" stroke=\"none\"/>\n",
       "<!-- 139684588894992 -->\n",
       "<g class=\"node\" id=\"node1\"><title>139684588894992</title>\n",
       "<polygon fill=\"none\" points=\"31.5,-505 31.5,-551 314.5,-551 314.5,-505 31.5,-505\" stroke=\"black\"/>\n",
       "<text font-family=\"Times,serif\" font-size=\"14.00\" text-anchor=\"middle\" x=\"97.5\" y=\"-524.3\">input_80: InputLayer</text>\n",
       "<polyline fill=\"none\" points=\"163.5,-505 163.5,-551 \" stroke=\"black\"/>\n",
       "<text font-family=\"Times,serif\" font-size=\"14.00\" text-anchor=\"middle\" x=\"191\" y=\"-535.8\">input:</text>\n",
       "<polyline fill=\"none\" points=\"163.5,-528 218.5,-528 \" stroke=\"black\"/>\n",
       "<text font-family=\"Times,serif\" font-size=\"14.00\" text-anchor=\"middle\" x=\"191\" y=\"-512.8\">output:</text>\n",
       "<polyline fill=\"none\" points=\"218.5,-505 218.5,-551 \" stroke=\"black\"/>\n",
       "<text font-family=\"Times,serif\" font-size=\"14.00\" text-anchor=\"middle\" x=\"266.5\" y=\"-535.8\">(None, 20000)</text>\n",
       "<polyline fill=\"none\" points=\"218.5,-528 314.5,-528 \" stroke=\"black\"/>\n",
       "<text font-family=\"Times,serif\" font-size=\"14.00\" text-anchor=\"middle\" x=\"266.5\" y=\"-512.8\">(None, 20000)</text>\n",
       "</g>\n",
       "<!-- 139684600732880 -->\n",
       "<g class=\"node\" id=\"node2\"><title>139684600732880</title>\n",
       "<polygon fill=\"none\" points=\"-0.5,-421 -0.5,-467 346.5,-467 346.5,-421 -0.5,-421\" stroke=\"black\"/>\n",
       "<text font-family=\"Times,serif\" font-size=\"14.00\" text-anchor=\"middle\" x=\"83.5\" y=\"-440.3\">embedding_29: Embedding</text>\n",
       "<polyline fill=\"none\" points=\"167.5,-421 167.5,-467 \" stroke=\"black\"/>\n",
       "<text font-family=\"Times,serif\" font-size=\"14.00\" text-anchor=\"middle\" x=\"195\" y=\"-451.8\">input:</text>\n",
       "<polyline fill=\"none\" points=\"167.5,-444 222.5,-444 \" stroke=\"black\"/>\n",
       "<text font-family=\"Times,serif\" font-size=\"14.00\" text-anchor=\"middle\" x=\"195\" y=\"-428.8\">output:</text>\n",
       "<polyline fill=\"none\" points=\"222.5,-421 222.5,-467 \" stroke=\"black\"/>\n",
       "<text font-family=\"Times,serif\" font-size=\"14.00\" text-anchor=\"middle\" x=\"284.5\" y=\"-451.8\">(None, 20000)</text>\n",
       "<polyline fill=\"none\" points=\"222.5,-444 346.5,-444 \" stroke=\"black\"/>\n",
       "<text font-family=\"Times,serif\" font-size=\"14.00\" text-anchor=\"middle\" x=\"284.5\" y=\"-428.8\">(None, 20000, 200)</text>\n",
       "</g>\n",
       "<!-- 139684588894992&#45;&gt;139684600732880 -->\n",
       "<g class=\"edge\" id=\"edge1\"><title>139684588894992-&gt;139684600732880</title>\n",
       "<path d=\"M173,-504.593C173,-496.118 173,-486.297 173,-477.104\" fill=\"none\" stroke=\"black\"/>\n",
       "<polygon fill=\"black\" points=\"176.5,-477.096 173,-467.096 169.5,-477.096 176.5,-477.096\" stroke=\"black\"/>\n",
       "</g>\n",
       "<!-- 139684588896016 -->\n",
       "<g class=\"node\" id=\"node3\"><title>139684588896016</title>\n",
       "<polygon fill=\"none\" points=\"18,-337 18,-383 328,-383 328,-337 18,-337\" stroke=\"black\"/>\n",
       "<text font-family=\"Times,serif\" font-size=\"14.00\" text-anchor=\"middle\" x=\"83.5\" y=\"-356.3\">dropout_81: Dropout</text>\n",
       "<polyline fill=\"none\" points=\"149,-337 149,-383 \" stroke=\"black\"/>\n",
       "<text font-family=\"Times,serif\" font-size=\"14.00\" text-anchor=\"middle\" x=\"176.5\" y=\"-367.8\">input:</text>\n",
       "<polyline fill=\"none\" points=\"149,-360 204,-360 \" stroke=\"black\"/>\n",
       "<text font-family=\"Times,serif\" font-size=\"14.00\" text-anchor=\"middle\" x=\"176.5\" y=\"-344.8\">output:</text>\n",
       "<polyline fill=\"none\" points=\"204,-337 204,-383 \" stroke=\"black\"/>\n",
       "<text font-family=\"Times,serif\" font-size=\"14.00\" text-anchor=\"middle\" x=\"266\" y=\"-367.8\">(None, 20000, 200)</text>\n",
       "<polyline fill=\"none\" points=\"204,-360 328,-360 \" stroke=\"black\"/>\n",
       "<text font-family=\"Times,serif\" font-size=\"14.00\" text-anchor=\"middle\" x=\"266\" y=\"-344.8\">(None, 20000, 200)</text>\n",
       "</g>\n",
       "<!-- 139684600732880&#45;&gt;139684588896016 -->\n",
       "<g class=\"edge\" id=\"edge2\"><title>139684600732880-&gt;139684588896016</title>\n",
       "<path d=\"M173,-420.593C173,-412.118 173,-402.297 173,-393.104\" fill=\"none\" stroke=\"black\"/>\n",
       "<polygon fill=\"black\" points=\"176.5,-393.096 173,-383.096 169.5,-393.096 176.5,-393.096\" stroke=\"black\"/>\n",
       "</g>\n",
       "<!-- 139684588895248 -->\n",
       "<g class=\"node\" id=\"node4\"><title>139684588895248</title>\n",
       "<polygon fill=\"none\" points=\"41.5,-253 41.5,-299 304.5,-299 304.5,-253 41.5,-253\" stroke=\"black\"/>\n",
       "<text font-family=\"Times,serif\" font-size=\"14.00\" text-anchor=\"middle\" x=\"83.5\" y=\"-272.3\">gru_2: GRU</text>\n",
       "<polyline fill=\"none\" points=\"125.5,-253 125.5,-299 \" stroke=\"black\"/>\n",
       "<text font-family=\"Times,serif\" font-size=\"14.00\" text-anchor=\"middle\" x=\"153\" y=\"-283.8\">input:</text>\n",
       "<polyline fill=\"none\" points=\"125.5,-276 180.5,-276 \" stroke=\"black\"/>\n",
       "<text font-family=\"Times,serif\" font-size=\"14.00\" text-anchor=\"middle\" x=\"153\" y=\"-260.8\">output:</text>\n",
       "<polyline fill=\"none\" points=\"180.5,-253 180.5,-299 \" stroke=\"black\"/>\n",
       "<text font-family=\"Times,serif\" font-size=\"14.00\" text-anchor=\"middle\" x=\"242.5\" y=\"-283.8\">(None, 20000, 200)</text>\n",
       "<polyline fill=\"none\" points=\"180.5,-276 304.5,-276 \" stroke=\"black\"/>\n",
       "<text font-family=\"Times,serif\" font-size=\"14.00\" text-anchor=\"middle\" x=\"242.5\" y=\"-260.8\">(None, 256)</text>\n",
       "</g>\n",
       "<!-- 139684588896016&#45;&gt;139684588895248 -->\n",
       "<g class=\"edge\" id=\"edge3\"><title>139684588896016-&gt;139684588895248</title>\n",
       "<path d=\"M173,-336.593C173,-328.118 173,-318.297 173,-309.104\" fill=\"none\" stroke=\"black\"/>\n",
       "<polygon fill=\"black\" points=\"176.5,-309.096 173,-299.096 169.5,-309.096 176.5,-309.096\" stroke=\"black\"/>\n",
       "</g>\n",
       "<!-- 139684420968400 -->\n",
       "<g class=\"node\" id=\"node7\"><title>139684420968400</title>\n",
       "<polygon fill=\"none\" points=\"223.5,-169 223.5,-215 692.5,-215 692.5,-169 223.5,-169\" stroke=\"black\"/>\n",
       "<text font-family=\"Times,serif\" font-size=\"14.00\" text-anchor=\"middle\" x=\"311\" y=\"-188.3\">concatenate_31: Concatenate</text>\n",
       "<polyline fill=\"none\" points=\"398.5,-169 398.5,-215 \" stroke=\"black\"/>\n",
       "<text font-family=\"Times,serif\" font-size=\"14.00\" text-anchor=\"middle\" x=\"426\" y=\"-199.8\">input:</text>\n",
       "<polyline fill=\"none\" points=\"398.5,-192 453.5,-192 \" stroke=\"black\"/>\n",
       "<text font-family=\"Times,serif\" font-size=\"14.00\" text-anchor=\"middle\" x=\"426\" y=\"-176.8\">output:</text>\n",
       "<polyline fill=\"none\" points=\"453.5,-169 453.5,-215 \" stroke=\"black\"/>\n",
       "<text font-family=\"Times,serif\" font-size=\"14.00\" text-anchor=\"middle\" x=\"573\" y=\"-199.8\">[(None, 256), (None, 200), (None, 200)]</text>\n",
       "<polyline fill=\"none\" points=\"453.5,-192 692.5,-192 \" stroke=\"black\"/>\n",
       "<text font-family=\"Times,serif\" font-size=\"14.00\" text-anchor=\"middle\" x=\"573\" y=\"-176.8\">(None, 656)</text>\n",
       "</g>\n",
       "<!-- 139684588895248&#45;&gt;139684420968400 -->\n",
       "<g class=\"edge\" id=\"edge4\"><title>139684588895248-&gt;139684420968400</title>\n",
       "<path d=\"M249.75,-252.918C287.291,-242.116 332.63,-229.071 371.405,-217.915\" fill=\"none\" stroke=\"black\"/>\n",
       "<polygon fill=\"black\" points=\"372.471,-221.25 381.113,-215.122 370.535,-214.523 372.471,-221.25\" stroke=\"black\"/>\n",
       "</g>\n",
       "<!-- 139684588895440 -->\n",
       "<g class=\"node\" id=\"node5\"><title>139684588895440</title>\n",
       "<polygon fill=\"none\" points=\"323,-253 323,-299 593,-299 593,-253 323,-253\" stroke=\"black\"/>\n",
       "<text font-family=\"Times,serif\" font-size=\"14.00\" text-anchor=\"middle\" x=\"389\" y=\"-272.3\">input_81: InputLayer</text>\n",
       "<polyline fill=\"none\" points=\"455,-253 455,-299 \" stroke=\"black\"/>\n",
       "<text font-family=\"Times,serif\" font-size=\"14.00\" text-anchor=\"middle\" x=\"482.5\" y=\"-283.8\">input:</text>\n",
       "<polyline fill=\"none\" points=\"455,-276 510,-276 \" stroke=\"black\"/>\n",
       "<text font-family=\"Times,serif\" font-size=\"14.00\" text-anchor=\"middle\" x=\"482.5\" y=\"-260.8\">output:</text>\n",
       "<polyline fill=\"none\" points=\"510,-253 510,-299 \" stroke=\"black\"/>\n",
       "<text font-family=\"Times,serif\" font-size=\"14.00\" text-anchor=\"middle\" x=\"551.5\" y=\"-283.8\">(None, 200)</text>\n",
       "<polyline fill=\"none\" points=\"510,-276 593,-276 \" stroke=\"black\"/>\n",
       "<text font-family=\"Times,serif\" font-size=\"14.00\" text-anchor=\"middle\" x=\"551.5\" y=\"-260.8\">(None, 200)</text>\n",
       "</g>\n",
       "<!-- 139684588895440&#45;&gt;139684420968400 -->\n",
       "<g class=\"edge\" id=\"edge5\"><title>139684588895440-&gt;139684420968400</title>\n",
       "<path d=\"M458,-252.593C458,-244.118 458,-234.297 458,-225.104\" fill=\"none\" stroke=\"black\"/>\n",
       "<polygon fill=\"black\" points=\"461.5,-225.096 458,-215.096 454.5,-225.096 461.5,-225.096\" stroke=\"black\"/>\n",
       "</g>\n",
       "<!-- 139684588895952 -->\n",
       "<g class=\"node\" id=\"node6\"><title>139684588895952</title>\n",
       "<polygon fill=\"none\" points=\"611,-253 611,-299 881,-299 881,-253 611,-253\" stroke=\"black\"/>\n",
       "<text font-family=\"Times,serif\" font-size=\"14.00\" text-anchor=\"middle\" x=\"677\" y=\"-272.3\">input_82: InputLayer</text>\n",
       "<polyline fill=\"none\" points=\"743,-253 743,-299 \" stroke=\"black\"/>\n",
       "<text font-family=\"Times,serif\" font-size=\"14.00\" text-anchor=\"middle\" x=\"770.5\" y=\"-283.8\">input:</text>\n",
       "<polyline fill=\"none\" points=\"743,-276 798,-276 \" stroke=\"black\"/>\n",
       "<text font-family=\"Times,serif\" font-size=\"14.00\" text-anchor=\"middle\" x=\"770.5\" y=\"-260.8\">output:</text>\n",
       "<polyline fill=\"none\" points=\"798,-253 798,-299 \" stroke=\"black\"/>\n",
       "<text font-family=\"Times,serif\" font-size=\"14.00\" text-anchor=\"middle\" x=\"839.5\" y=\"-283.8\">(None, 200)</text>\n",
       "<polyline fill=\"none\" points=\"798,-276 881,-276 \" stroke=\"black\"/>\n",
       "<text font-family=\"Times,serif\" font-size=\"14.00\" text-anchor=\"middle\" x=\"839.5\" y=\"-260.8\">(None, 200)</text>\n",
       "</g>\n",
       "<!-- 139684588895952&#45;&gt;139684420968400 -->\n",
       "<g class=\"edge\" id=\"edge6\"><title>139684588895952-&gt;139684420968400</title>\n",
       "<path d=\"M668.442,-252.918C630.429,-242.094 584.505,-229.019 545.268,-217.847\" fill=\"none\" stroke=\"black\"/>\n",
       "<polygon fill=\"black\" points=\"546.022,-214.423 535.446,-215.051 544.105,-221.155 546.022,-214.423\" stroke=\"black\"/>\n",
       "</g>\n",
       "<!-- 139684420520208 -->\n",
       "<g class=\"node\" id=\"node8\"><title>139684420520208</title>\n",
       "<polygon fill=\"none\" points=\"323.5,-85 323.5,-131 592.5,-131 592.5,-85 323.5,-85\" stroke=\"black\"/>\n",
       "<text font-family=\"Times,serif\" font-size=\"14.00\" text-anchor=\"middle\" x=\"389\" y=\"-104.3\">dropout_82: Dropout</text>\n",
       "<polyline fill=\"none\" points=\"454.5,-85 454.5,-131 \" stroke=\"black\"/>\n",
       "<text font-family=\"Times,serif\" font-size=\"14.00\" text-anchor=\"middle\" x=\"482\" y=\"-115.8\">input:</text>\n",
       "<polyline fill=\"none\" points=\"454.5,-108 509.5,-108 \" stroke=\"black\"/>\n",
       "<text font-family=\"Times,serif\" font-size=\"14.00\" text-anchor=\"middle\" x=\"482\" y=\"-92.8\">output:</text>\n",
       "<polyline fill=\"none\" points=\"509.5,-85 509.5,-131 \" stroke=\"black\"/>\n",
       "<text font-family=\"Times,serif\" font-size=\"14.00\" text-anchor=\"middle\" x=\"551\" y=\"-115.8\">(None, 656)</text>\n",
       "<polyline fill=\"none\" points=\"509.5,-108 592.5,-108 \" stroke=\"black\"/>\n",
       "<text font-family=\"Times,serif\" font-size=\"14.00\" text-anchor=\"middle\" x=\"551\" y=\"-92.8\">(None, 656)</text>\n",
       "</g>\n",
       "<!-- 139684420968400&#45;&gt;139684420520208 -->\n",
       "<g class=\"edge\" id=\"edge7\"><title>139684420968400-&gt;139684420520208</title>\n",
       "<path d=\"M458,-168.593C458,-160.118 458,-150.297 458,-141.104\" fill=\"none\" stroke=\"black\"/>\n",
       "<polygon fill=\"black\" points=\"461.5,-141.096 458,-131.096 454.5,-141.096 461.5,-141.096\" stroke=\"black\"/>\n",
       "</g>\n",
       "<!-- 139684420519312 -->\n",
       "<g class=\"node\" id=\"node9\"><title>139684420519312</title>\n",
       "<polygon fill=\"none\" points=\"334.5,-1 334.5,-47 581.5,-47 581.5,-1 334.5,-1\" stroke=\"black\"/>\n",
       "<text font-family=\"Times,serif\" font-size=\"14.00\" text-anchor=\"middle\" x=\"389\" y=\"-20.3\">dense_21: Dense</text>\n",
       "<polyline fill=\"none\" points=\"443.5,-1 443.5,-47 \" stroke=\"black\"/>\n",
       "<text font-family=\"Times,serif\" font-size=\"14.00\" text-anchor=\"middle\" x=\"471\" y=\"-31.8\">input:</text>\n",
       "<polyline fill=\"none\" points=\"443.5,-24 498.5,-24 \" stroke=\"black\"/>\n",
       "<text font-family=\"Times,serif\" font-size=\"14.00\" text-anchor=\"middle\" x=\"471\" y=\"-8.8\">output:</text>\n",
       "<polyline fill=\"none\" points=\"498.5,-1 498.5,-47 \" stroke=\"black\"/>\n",
       "<text font-family=\"Times,serif\" font-size=\"14.00\" text-anchor=\"middle\" x=\"540\" y=\"-31.8\">(None, 656)</text>\n",
       "<polyline fill=\"none\" points=\"498.5,-24 581.5,-24 \" stroke=\"black\"/>\n",
       "<text font-family=\"Times,serif\" font-size=\"14.00\" text-anchor=\"middle\" x=\"540\" y=\"-8.8\">(None, 9)</text>\n",
       "</g>\n",
       "<!-- 139684420520208&#45;&gt;139684420519312 -->\n",
       "<g class=\"edge\" id=\"edge8\"><title>139684420520208-&gt;139684420519312</title>\n",
       "<path d=\"M458,-84.5931C458,-76.1177 458,-66.2974 458,-57.104\" fill=\"none\" stroke=\"black\"/>\n",
       "<polygon fill=\"black\" points=\"461.5,-57.0958 458,-47.0959 454.5,-57.0959 461.5,-57.0958\" stroke=\"black\"/>\n",
       "</g>\n",
       "</g>\n",
       "</svg>"
      ],
      "text/plain": [
       "<IPython.core.display.SVG object>"
      ]
     },
     "execution_count": 214,
     "metadata": {},
     "output_type": "execute_result"
    }
   ],
   "source": [
    "SVG(model_to_dot(model4, show_shapes=True).create(prog='dot', format='svg'))"
   ]
  },
  {
   "cell_type": "code",
   "execution_count": 216,
   "metadata": {},
   "outputs": [
    {
     "name": "stdout",
     "output_type": "stream",
     "text": [
      "Train on 2657 samples, validate on 664 samples\n",
      "Epoch 1/1\n",
      "2657/2657 [==============================] - 6825s - loss: 1.8745 - acc: 0.2826 - val_loss: 1.7873 - val_acc: 0.3283\n"
     ]
    },
    {
     "data": {
      "text/plain": [
       "<keras.callbacks.History at 0x7f0ad9d0cb90>"
      ]
     },
     "execution_count": 216,
     "metadata": {},
     "output_type": "execute_result"
    }
   ],
   "source": [
    "K.set_value(model4.optimizer.lr, 0.001)\n",
    "model4.fit([x_tr, ge_tr, ve_tr], y_tr,\n",
    "          batch_size=64,\n",
    "          epochs=1,\n",
    "          validation_data=([x_vl, ge_vl, ve_vl], y_vl))"
   ]
  },
  {
   "cell_type": "code",
   "execution_count": 217,
   "metadata": {},
   "outputs": [
    {
     "name": "stdout",
     "output_type": "stream",
     "text": [
      "Train on 2657 samples, validate on 664 samples\n",
      "Epoch 1/4\n",
      "2657/2657 [==============================] - 6540s - loss: 1.6986 - acc: 0.3700 - val_loss: 1.7351 - val_acc: 0.3494\n",
      "Epoch 2/4\n",
      "2657/2657 [==============================] - 6077s - loss: 1.6100 - acc: 0.4072 - val_loss: 1.6255 - val_acc: 0.4036\n",
      "Epoch 3/4\n",
      "2657/2657 [==============================] - 5978s - loss: 1.5467 - acc: 0.4370 - val_loss: 1.5962 - val_acc: 0.3946\n",
      "Epoch 4/4\n",
      "2657/2657 [==============================] - 6057s - loss: 1.5130 - acc: 0.4313 - val_loss: 1.5613 - val_acc: 0.4217\n"
     ]
    },
    {
     "data": {
      "text/plain": [
       "<keras.callbacks.History at 0x7f0ada40b2d0>"
      ]
     },
     "execution_count": 217,
     "metadata": {},
     "output_type": "execute_result"
    }
   ],
   "source": [
    "K.set_value(model4.optimizer.lr, 0.001)\n",
    "model4.fit([x_tr, ge_tr, ve_tr], y_tr,\n",
    "          batch_size=64,\n",
    "          epochs=4,\n",
    "          validation_data=([x_vl, ge_vl, ve_vl], y_vl))"
   ]
  }
 ],
 "metadata": {
  "kernelspec": {
   "display_name": "Python [conda env:tensorflow2]",
   "language": "python",
   "name": "conda-env-tensorflow2-py"
  },
  "language_info": {
   "codemirror_mode": {
    "name": "ipython",
    "version": 2
   },
   "file_extension": ".py",
   "mimetype": "text/x-python",
   "name": "python",
   "nbconvert_exporter": "python",
   "pygments_lexer": "ipython2",
   "version": "2.7.13"
  }
 },
 "nbformat": 4,
 "nbformat_minor": 2
}
