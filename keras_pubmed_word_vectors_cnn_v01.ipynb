{
 "cells": [
  {
   "cell_type": "code",
   "execution_count": 1,
   "metadata": {
    "collapsed": true
   },
   "outputs": [],
   "source": [
    "# Set directories\n",
    "base_dir = '/home/vaibhavpawar/codes/kaggle/personalized_medicine/'\n",
    "raw_data_dir = base_dir + 'raw_data/'\n",
    "pro_data_dir = base_dir + 'processed_data/'"
   ]
  },
  {
   "cell_type": "code",
   "execution_count": 2,
   "metadata": {
    "collapsed": true
   },
   "outputs": [],
   "source": [
    "import pandas as pd\n",
    "import numpy as np"
   ]
  },
  {
   "cell_type": "code",
   "execution_count": 3,
   "metadata": {
    "collapsed": true
   },
   "outputs": [],
   "source": [
    "train_variant = pd.read_csv(raw_data_dir + 'training_variants')\n",
    "test_variant = pd.read_csv(raw_data_dir + 'test_variants')\n",
    "train_text = pd.read_csv(raw_data_dir + 'training_text', sep='\\|\\|', engine='python', \n",
    "                         header=None, skiprows=1, names=['ID','Text'])\n",
    "test_text = pd.read_csv(raw_data_dir + 'test_text', sep='\\|\\|', engine='python', \n",
    "                        header=None, skiprows=1, names=[\"ID\",\"Text\"])"
   ]
  },
  {
   "cell_type": "code",
   "execution_count": 8,
   "metadata": {
    "collapsed": true
   },
   "outputs": [],
   "source": [
    "train = pd.merge(train_variant, train_text, how='left', on='ID')\n",
    "test = pd.merge(test_variant, test_text, how='left', on='ID')"
   ]
  },
  {
   "cell_type": "code",
   "execution_count": 128,
   "metadata": {},
   "outputs": [
    {
     "data": {
      "text/html": [
       "<div>\n",
       "<style>\n",
       "    .dataframe thead tr:only-child th {\n",
       "        text-align: right;\n",
       "    }\n",
       "\n",
       "    .dataframe thead th {\n",
       "        text-align: left;\n",
       "    }\n",
       "\n",
       "    .dataframe tbody tr th {\n",
       "        vertical-align: top;\n",
       "    }\n",
       "</style>\n",
       "<table border=\"1\" class=\"dataframe\">\n",
       "  <thead>\n",
       "    <tr style=\"text-align: right;\">\n",
       "      <th></th>\n",
       "      <th>ID</th>\n",
       "      <th>Gene</th>\n",
       "      <th>Variation</th>\n",
       "      <th>Text</th>\n",
       "    </tr>\n",
       "  </thead>\n",
       "  <tbody>\n",
       "    <tr>\n",
       "      <th>0</th>\n",
       "      <td>0</td>\n",
       "      <td>ACSL4</td>\n",
       "      <td>R570S</td>\n",
       "      <td>2. This mutation resulted in a myeloproliferat...</td>\n",
       "    </tr>\n",
       "    <tr>\n",
       "      <th>1</th>\n",
       "      <td>1</td>\n",
       "      <td>NAGLU</td>\n",
       "      <td>P521L</td>\n",
       "      <td>Abstract The Large Tumor Suppressor 1 (LATS1)...</td>\n",
       "    </tr>\n",
       "    <tr>\n",
       "      <th>2</th>\n",
       "      <td>2</td>\n",
       "      <td>PAH</td>\n",
       "      <td>L333F</td>\n",
       "      <td>Vascular endothelial growth factor receptor (V...</td>\n",
       "    </tr>\n",
       "    <tr>\n",
       "      <th>3</th>\n",
       "      <td>3</td>\n",
       "      <td>ING1</td>\n",
       "      <td>A148D</td>\n",
       "      <td>Inflammatory myofibroblastic tumor (IMT) is a ...</td>\n",
       "    </tr>\n",
       "    <tr>\n",
       "      <th>4</th>\n",
       "      <td>4</td>\n",
       "      <td>TMEM216</td>\n",
       "      <td>G77A</td>\n",
       "      <td>Abstract Retinoblastoma is a pediatric retina...</td>\n",
       "    </tr>\n",
       "  </tbody>\n",
       "</table>\n",
       "</div>"
      ],
      "text/plain": [
       "   ID     Gene Variation                                               Text\n",
       "0   0    ACSL4     R570S  2. This mutation resulted in a myeloproliferat...\n",
       "1   1    NAGLU     P521L   Abstract The Large Tumor Suppressor 1 (LATS1)...\n",
       "2   2      PAH     L333F  Vascular endothelial growth factor receptor (V...\n",
       "3   3     ING1     A148D  Inflammatory myofibroblastic tumor (IMT) is a ...\n",
       "4   4  TMEM216      G77A   Abstract Retinoblastoma is a pediatric retina..."
      ]
     },
     "execution_count": 128,
     "metadata": {},
     "output_type": "execute_result"
    }
   ],
   "source": [
    "test.head()"
   ]
  },
  {
   "cell_type": "code",
   "execution_count": 129,
   "metadata": {},
   "outputs": [],
   "source": [
    "tr_genes_not_found = []\n",
    "tr_variations_not_found = []\n",
    "ts_genes_not_found = []\n",
    "ts_variations_not_found = []\n",
    "\n",
    "for i, row in enumerate(train.itertuples()):\n",
    "    if row.Gene not in row.Text:\n",
    "        tr_genes_not_found.append(str(row.ID) + ':' + row.Gene)\n",
    "    if row.Variation not in row.Text:\n",
    "        tr_variations_not_found.append(str(row.ID) + ':' + row.Variation)\n",
    "        \n",
    "for i, row in enumerate(test.itertuples()):\n",
    "    if row.Gene not in row.Text:\n",
    "        ts_genes_not_found.append(str(row.ID) + ':' + row.Gene)\n",
    "    if row.Variation not in row.Text:\n",
    "        ts_variations_not_found.append(str(row.ID) + ':' + row.Variation)"
   ]
  },
  {
   "cell_type": "code",
   "execution_count": 131,
   "metadata": {},
   "outputs": [
    {
     "name": "stdout",
     "output_type": "stream",
     "text": [
      "370\n",
      "1077\n",
      "5227\n",
      "127\n"
     ]
    }
   ],
   "source": [
    "print len(tr_genes_not_found)\n",
    "print len(tr_variations_not_found)\n",
    "print len(ts_genes_not_found)\n",
    "print len(ts_variations_not_found)"
   ]
  },
  {
   "cell_type": "code",
   "execution_count": 141,
   "metadata": {},
   "outputs": [
    {
     "data": {
      "text/plain": [
       "['0:Truncating Mutations',\n",
       " '7:Deletion',\n",
       " '16:Truncating Mutations',\n",
       " '19:Y371S',\n",
       " '41:Truncating Mutations',\n",
       " '44:T1365M',\n",
       " '46:T844M',\n",
       " '48:Promoter Hypermethylation',\n",
       " '49:R1343L',\n",
       " '61:R1209W']"
      ]
     },
     "execution_count": 141,
     "metadata": {},
     "output_type": "execute_result"
    }
   ],
   "source": [
    "tr_variations_not_found[0:10]"
   ]
  },
  {
   "cell_type": "code",
   "execution_count": 10,
   "metadata": {
    "collapsed": true
   },
   "outputs": [],
   "source": [
    "texts = []\n",
    "\n",
    "for row in train.itertuples():\n",
    "    texts.append(row.Text)\n",
    "    \n",
    "for row in test.itertuples():\n",
    "    texts.append(row.Text)"
   ]
  },
  {
   "cell_type": "code",
   "execution_count": 13,
   "metadata": {},
   "outputs": [
    {
     "name": "stderr",
     "output_type": "stream",
     "text": [
      "Using TensorFlow backend.\n"
     ]
    }
   ],
   "source": [
    "from keras.preprocessing.text import Tokenizer\n",
    "from keras.preprocessing.sequence import pad_sequences"
   ]
  },
  {
   "cell_type": "code",
   "execution_count": 73,
   "metadata": {
    "collapsed": true
   },
   "outputs": [],
   "source": [
    "MAX_SEQUENCE_LENGTH = 5000\n",
    "MAX_NB_WORDS = 50000\n",
    "EMBEDDING_DIM = 200\n",
    "VALIDATION_SPLIT = 0.2"
   ]
  },
  {
   "cell_type": "code",
   "execution_count": 74,
   "metadata": {},
   "outputs": [
    {
     "name": "stdout",
     "output_type": "stream",
     "text": [
      "Found 197077 unique tokens.\n"
     ]
    }
   ],
   "source": [
    "tokenizer = Tokenizer(num_words=MAX_NB_WORDS)\n",
    "tokenizer.fit_on_texts(texts)\n",
    "sequences = tokenizer.texts_to_sequences(texts)\n",
    "\n",
    "word_index = tokenizer.word_index\n",
    "print('Found %s unique tokens.' % len(word_index))"
   ]
  },
  {
   "cell_type": "code",
   "execution_count": 123,
   "metadata": {},
   "outputs": [
    {
     "name": "stdout",
     "output_type": "stream",
     "text": [
      "6218\n"
     ]
    }
   ],
   "source": [
    "a0 = sequences[0]\n",
    "print len(a0)"
   ]
  },
  {
   "cell_type": "code",
   "execution_count": 122,
   "metadata": {},
   "outputs": [
    {
     "name": "stdout",
     "output_type": "stream",
     "text": [
      "6376\n",
      "6218\n"
     ]
    }
   ],
   "source": [
    "print len(a0)\n",
    "for x in a0:\n",
    "    if x not in found:\n",
    "        a0.remove(x)\n",
    "print len(a0)"
   ]
  },
  {
   "cell_type": "code",
   "execution_count": 125,
   "metadata": {},
   "outputs": [
    {
     "data": {
      "text/plain": [
       "5659"
      ]
     },
     "execution_count": 125,
     "metadata": {},
     "output_type": "execute_result"
    }
   ],
   "source": [
    "len(sequences[3])"
   ]
  },
  {
   "cell_type": "code",
   "execution_count": 75,
   "metadata": {},
   "outputs": [
    {
     "name": "stdout",
     "output_type": "stream",
     "text": [
      "('Shape of data tensor:', (8989, 5000))\n"
     ]
    }
   ],
   "source": [
    "data = pad_sequences(sequences, maxlen=MAX_SEQUENCE_LENGTH)\n",
    "print('Shape of data tensor:', data.shape)"
   ]
  },
  {
   "cell_type": "code",
   "execution_count": 23,
   "metadata": {
    "collapsed": true
   },
   "outputs": [],
   "source": [
    "from gensim.models.keyedvectors import KeyedVectors\n",
    "pubmed_wv_file = '/home/vaibhavpawar/Downloads/pubmed_wv/wikipedia-pubmed-and-PMC-w2v.bin'\n",
    "embeddings_index = KeyedVectors.load_word2vec_format(pubmed_wv_file, binary=True)"
   ]
  },
  {
   "cell_type": "code",
   "execution_count": 27,
   "metadata": {},
   "outputs": [
    {
     "data": {
      "text/plain": [
       "gensim.models.keyedvectors.KeyedVectors"
      ]
     },
     "execution_count": 27,
     "metadata": {},
     "output_type": "execute_result"
    }
   ],
   "source": [
    "type(embeddings_index)"
   ]
  },
  {
   "cell_type": "code",
   "execution_count": 120,
   "metadata": {},
   "outputs": [
    {
     "name": "stdout",
     "output_type": "stream",
     "text": [
      "134919\n",
      "62158\n"
     ]
    }
   ],
   "source": [
    "embedding_matrix = np.zeros((len(word_index) + 1, EMBEDDING_DIM))\n",
    "count_not_found = 0\n",
    "count_found = 0\n",
    "found = []\n",
    "for word, i in word_index.items():\n",
    "    try:\n",
    "        embedding_vector = embeddings_index[word]\n",
    "        embedding_matrix[i] = embedding_vector\n",
    "        #if count_found < 10:\n",
    "        #    print 'Found    : ' + word\n",
    "        count_found = count_found + 1\n",
    "        found.append(i)\n",
    "    except:\n",
    "        #if count_not_found < 10:\n",
    "        #    print 'Not Found: ' + word\n",
    "        count_not_found = count_not_found + 1\n",
    "        \n",
    "print count_not_found\n",
    "print count_found"
   ]
  },
  {
   "cell_type": "code",
   "execution_count": 77,
   "metadata": {
    "collapsed": true
   },
   "outputs": [],
   "source": [
    "from keras.layers import Embedding\n",
    "\n",
    "embedding_layer = Embedding(len(word_index) + 1,\n",
    "                            200,\n",
    "                            weights=[embedding_matrix],\n",
    "                            input_length=MAX_SEQUENCE_LENGTH,\n",
    "                            trainable=False)"
   ]
  },
  {
   "cell_type": "code",
   "execution_count": 78,
   "metadata": {
    "collapsed": true
   },
   "outputs": [],
   "source": [
    "from keras.preprocessing.text import Tokenizer\n",
    "from keras.preprocessing.sequence import pad_sequences\n",
    "from keras.utils import to_categorical\n",
    "from keras.layers import Dense, Input, Flatten\n",
    "from keras.layers import Conv1D, MaxPooling1D, Embedding\n",
    "from keras.models import Model\n",
    "from keras import backend as K, initializers\n",
    "\n",
    "sequence_input = Input(shape=(MAX_SEQUENCE_LENGTH,), dtype='int32')\n",
    "embedded_sequences = embedding_layer(sequence_input)\n",
    "x = Conv1D(128, 5, activation='relu')(embedded_sequences)\n",
    "x = MaxPooling1D(5)(x)\n",
    "x = Conv1D(128, 5, activation='relu')(x)\n",
    "x = MaxPooling1D(5)(x)\n",
    "x = Conv1D(128, 5, activation='relu')(x)\n",
    "x = MaxPooling1D(35)(x)  # global max pooling\n",
    "x = Flatten()(x)\n",
    "x = Dense(128, activation='relu')(x)\n",
    "preds = Dense(10, activation='softmax')(x)\n",
    "\n",
    "model = Model(sequence_input, preds)\n",
    "model.compile(loss='categorical_crossentropy',\n",
    "              optimizer='adam',\n",
    "              metrics=['acc'])"
   ]
  },
  {
   "cell_type": "code",
   "execution_count": 79,
   "metadata": {},
   "outputs": [
    {
     "data": {
      "image/svg+xml": [
       "<svg height=\"896pt\" viewBox=\"0.00 0.00 394.00 896.00\" width=\"394pt\" xmlns=\"http://www.w3.org/2000/svg\" xmlns:xlink=\"http://www.w3.org/1999/xlink\">\n",
       "<g class=\"graph\" id=\"graph0\" transform=\"scale(1 1) rotate(0) translate(4 892)\">\n",
       "<title>G</title>\n",
       "<polygon fill=\"white\" points=\"-4,4 -4,-892 390,-892 390,4 -4,4\" stroke=\"none\"/>\n",
       "<!-- 139604331960144 -->\n",
       "<g class=\"node\" id=\"node1\"><title>139604331960144</title>\n",
       "<polygon fill=\"none\" points=\"58.5,-841 58.5,-887 327.5,-887 327.5,-841 58.5,-841\" stroke=\"black\"/>\n",
       "<text font-family=\"Times,serif\" font-size=\"14.00\" text-anchor=\"middle\" x=\"121\" y=\"-860.3\">input_7: InputLayer</text>\n",
       "<polyline fill=\"none\" points=\"183.5,-841 183.5,-887 \" stroke=\"black\"/>\n",
       "<text font-family=\"Times,serif\" font-size=\"14.00\" text-anchor=\"middle\" x=\"211\" y=\"-871.8\">input:</text>\n",
       "<polyline fill=\"none\" points=\"183.5,-864 238.5,-864 \" stroke=\"black\"/>\n",
       "<text font-family=\"Times,serif\" font-size=\"14.00\" text-anchor=\"middle\" x=\"211\" y=\"-848.8\">output:</text>\n",
       "<polyline fill=\"none\" points=\"238.5,-841 238.5,-887 \" stroke=\"black\"/>\n",
       "<text font-family=\"Times,serif\" font-size=\"14.00\" text-anchor=\"middle\" x=\"283\" y=\"-871.8\">(None, 5000)</text>\n",
       "<polyline fill=\"none\" points=\"238.5,-864 327.5,-864 \" stroke=\"black\"/>\n",
       "<text font-family=\"Times,serif\" font-size=\"14.00\" text-anchor=\"middle\" x=\"283\" y=\"-848.8\">(None, 5000)</text>\n",
       "</g>\n",
       "<!-- 139623287267280 -->\n",
       "<g class=\"node\" id=\"node2\"><title>139623287267280</title>\n",
       "<polygon fill=\"none\" points=\"26.5,-757 26.5,-803 359.5,-803 359.5,-757 26.5,-757\" stroke=\"black\"/>\n",
       "<text font-family=\"Times,serif\" font-size=\"14.00\" text-anchor=\"middle\" x=\"107\" y=\"-776.3\">embedding_5: Embedding</text>\n",
       "<polyline fill=\"none\" points=\"187.5,-757 187.5,-803 \" stroke=\"black\"/>\n",
       "<text font-family=\"Times,serif\" font-size=\"14.00\" text-anchor=\"middle\" x=\"215\" y=\"-787.8\">input:</text>\n",
       "<polyline fill=\"none\" points=\"187.5,-780 242.5,-780 \" stroke=\"black\"/>\n",
       "<text font-family=\"Times,serif\" font-size=\"14.00\" text-anchor=\"middle\" x=\"215\" y=\"-764.8\">output:</text>\n",
       "<polyline fill=\"none\" points=\"242.5,-757 242.5,-803 \" stroke=\"black\"/>\n",
       "<text font-family=\"Times,serif\" font-size=\"14.00\" text-anchor=\"middle\" x=\"301\" y=\"-787.8\">(None, 5000)</text>\n",
       "<polyline fill=\"none\" points=\"242.5,-780 359.5,-780 \" stroke=\"black\"/>\n",
       "<text font-family=\"Times,serif\" font-size=\"14.00\" text-anchor=\"middle\" x=\"301\" y=\"-764.8\">(None, 5000, 200)</text>\n",
       "</g>\n",
       "<!-- 139604331960144&#45;&gt;139623287267280 -->\n",
       "<g class=\"edge\" id=\"edge1\"><title>139604331960144-&gt;139623287267280</title>\n",
       "<path d=\"M193,-840.593C193,-832.118 193,-822.297 193,-813.104\" fill=\"none\" stroke=\"black\"/>\n",
       "<polygon fill=\"black\" points=\"196.5,-813.096 193,-803.096 189.5,-813.096 196.5,-813.096\" stroke=\"black\"/>\n",
       "</g>\n",
       "<!-- 139604331960272 -->\n",
       "<g class=\"node\" id=\"node3\"><title>139604331960272</title>\n",
       "<polygon fill=\"none\" points=\"42,-673 42,-719 344,-719 344,-673 42,-673\" stroke=\"black\"/>\n",
       "<text font-family=\"Times,serif\" font-size=\"14.00\" text-anchor=\"middle\" x=\"107\" y=\"-692.3\">conv1d_19: Conv1D</text>\n",
       "<polyline fill=\"none\" points=\"172,-673 172,-719 \" stroke=\"black\"/>\n",
       "<text font-family=\"Times,serif\" font-size=\"14.00\" text-anchor=\"middle\" x=\"199.5\" y=\"-703.8\">input:</text>\n",
       "<polyline fill=\"none\" points=\"172,-696 227,-696 \" stroke=\"black\"/>\n",
       "<text font-family=\"Times,serif\" font-size=\"14.00\" text-anchor=\"middle\" x=\"199.5\" y=\"-680.8\">output:</text>\n",
       "<polyline fill=\"none\" points=\"227,-673 227,-719 \" stroke=\"black\"/>\n",
       "<text font-family=\"Times,serif\" font-size=\"14.00\" text-anchor=\"middle\" x=\"285.5\" y=\"-703.8\">(None, 5000, 200)</text>\n",
       "<polyline fill=\"none\" points=\"227,-696 344,-696 \" stroke=\"black\"/>\n",
       "<text font-family=\"Times,serif\" font-size=\"14.00\" text-anchor=\"middle\" x=\"285.5\" y=\"-680.8\">(None, 4996, 128)</text>\n",
       "</g>\n",
       "<!-- 139623287267280&#45;&gt;139604331960272 -->\n",
       "<g class=\"edge\" id=\"edge2\"><title>139623287267280-&gt;139604331960272</title>\n",
       "<path d=\"M193,-756.593C193,-748.118 193,-738.297 193,-729.104\" fill=\"none\" stroke=\"black\"/>\n",
       "<polygon fill=\"black\" points=\"196.5,-729.096 193,-719.096 189.5,-729.096 196.5,-729.096\" stroke=\"black\"/>\n",
       "</g>\n",
       "<!-- 139604331960208 -->\n",
       "<g class=\"node\" id=\"node4\"><title>139604331960208</title>\n",
       "<polygon fill=\"none\" points=\"0,-589 0,-635 386,-635 386,-589 0,-589\" stroke=\"black\"/>\n",
       "<text font-family=\"Times,serif\" font-size=\"14.00\" text-anchor=\"middle\" x=\"107\" y=\"-608.3\">max_pooling1d_19: MaxPooling1D</text>\n",
       "<polyline fill=\"none\" points=\"214,-589 214,-635 \" stroke=\"black\"/>\n",
       "<text font-family=\"Times,serif\" font-size=\"14.00\" text-anchor=\"middle\" x=\"241.5\" y=\"-619.8\">input:</text>\n",
       "<polyline fill=\"none\" points=\"214,-612 269,-612 \" stroke=\"black\"/>\n",
       "<text font-family=\"Times,serif\" font-size=\"14.00\" text-anchor=\"middle\" x=\"241.5\" y=\"-596.8\">output:</text>\n",
       "<polyline fill=\"none\" points=\"269,-589 269,-635 \" stroke=\"black\"/>\n",
       "<text font-family=\"Times,serif\" font-size=\"14.00\" text-anchor=\"middle\" x=\"327.5\" y=\"-619.8\">(None, 4996, 128)</text>\n",
       "<polyline fill=\"none\" points=\"269,-612 386,-612 \" stroke=\"black\"/>\n",
       "<text font-family=\"Times,serif\" font-size=\"14.00\" text-anchor=\"middle\" x=\"327.5\" y=\"-596.8\">(None, 999, 128)</text>\n",
       "</g>\n",
       "<!-- 139604331960272&#45;&gt;139604331960208 -->\n",
       "<g class=\"edge\" id=\"edge3\"><title>139604331960272-&gt;139604331960208</title>\n",
       "<path d=\"M193,-672.593C193,-664.118 193,-654.297 193,-645.104\" fill=\"none\" stroke=\"black\"/>\n",
       "<polygon fill=\"black\" points=\"196.5,-645.096 193,-635.096 189.5,-645.096 196.5,-645.096\" stroke=\"black\"/>\n",
       "</g>\n",
       "<!-- 139604331962064 -->\n",
       "<g class=\"node\" id=\"node5\"><title>139604331962064</title>\n",
       "<polygon fill=\"none\" points=\"45.5,-505 45.5,-551 340.5,-551 340.5,-505 45.5,-505\" stroke=\"black\"/>\n",
       "<text font-family=\"Times,serif\" font-size=\"14.00\" text-anchor=\"middle\" x=\"110.5\" y=\"-524.3\">conv1d_20: Conv1D</text>\n",
       "<polyline fill=\"none\" points=\"175.5,-505 175.5,-551 \" stroke=\"black\"/>\n",
       "<text font-family=\"Times,serif\" font-size=\"14.00\" text-anchor=\"middle\" x=\"203\" y=\"-535.8\">input:</text>\n",
       "<polyline fill=\"none\" points=\"175.5,-528 230.5,-528 \" stroke=\"black\"/>\n",
       "<text font-family=\"Times,serif\" font-size=\"14.00\" text-anchor=\"middle\" x=\"203\" y=\"-512.8\">output:</text>\n",
       "<polyline fill=\"none\" points=\"230.5,-505 230.5,-551 \" stroke=\"black\"/>\n",
       "<text font-family=\"Times,serif\" font-size=\"14.00\" text-anchor=\"middle\" x=\"285.5\" y=\"-535.8\">(None, 999, 128)</text>\n",
       "<polyline fill=\"none\" points=\"230.5,-528 340.5,-528 \" stroke=\"black\"/>\n",
       "<text font-family=\"Times,serif\" font-size=\"14.00\" text-anchor=\"middle\" x=\"285.5\" y=\"-512.8\">(None, 995, 128)</text>\n",
       "</g>\n",
       "<!-- 139604331960208&#45;&gt;139604331962064 -->\n",
       "<g class=\"edge\" id=\"edge4\"><title>139604331960208-&gt;139604331962064</title>\n",
       "<path d=\"M193,-588.593C193,-580.118 193,-570.297 193,-561.104\" fill=\"none\" stroke=\"black\"/>\n",
       "<polygon fill=\"black\" points=\"196.5,-561.096 193,-551.096 189.5,-561.096 196.5,-561.096\" stroke=\"black\"/>\n",
       "</g>\n",
       "<!-- 139631756003024 -->\n",
       "<g class=\"node\" id=\"node6\"><title>139631756003024</title>\n",
       "<polygon fill=\"none\" points=\"3.5,-421 3.5,-467 382.5,-467 382.5,-421 3.5,-421\" stroke=\"black\"/>\n",
       "<text font-family=\"Times,serif\" font-size=\"14.00\" text-anchor=\"middle\" x=\"110.5\" y=\"-440.3\">max_pooling1d_20: MaxPooling1D</text>\n",
       "<polyline fill=\"none\" points=\"217.5,-421 217.5,-467 \" stroke=\"black\"/>\n",
       "<text font-family=\"Times,serif\" font-size=\"14.00\" text-anchor=\"middle\" x=\"245\" y=\"-451.8\">input:</text>\n",
       "<polyline fill=\"none\" points=\"217.5,-444 272.5,-444 \" stroke=\"black\"/>\n",
       "<text font-family=\"Times,serif\" font-size=\"14.00\" text-anchor=\"middle\" x=\"245\" y=\"-428.8\">output:</text>\n",
       "<polyline fill=\"none\" points=\"272.5,-421 272.5,-467 \" stroke=\"black\"/>\n",
       "<text font-family=\"Times,serif\" font-size=\"14.00\" text-anchor=\"middle\" x=\"327.5\" y=\"-451.8\">(None, 995, 128)</text>\n",
       "<polyline fill=\"none\" points=\"272.5,-444 382.5,-444 \" stroke=\"black\"/>\n",
       "<text font-family=\"Times,serif\" font-size=\"14.00\" text-anchor=\"middle\" x=\"327.5\" y=\"-428.8\">(None, 199, 128)</text>\n",
       "</g>\n",
       "<!-- 139604331962064&#45;&gt;139631756003024 -->\n",
       "<g class=\"edge\" id=\"edge5\"><title>139604331962064-&gt;139631756003024</title>\n",
       "<path d=\"M193,-504.593C193,-496.118 193,-486.297 193,-477.104\" fill=\"none\" stroke=\"black\"/>\n",
       "<polygon fill=\"black\" points=\"196.5,-477.096 193,-467.096 189.5,-477.096 196.5,-477.096\" stroke=\"black\"/>\n",
       "</g>\n",
       "<!-- 139631727734480 -->\n",
       "<g class=\"node\" id=\"node7\"><title>139631727734480</title>\n",
       "<polygon fill=\"none\" points=\"45.5,-337 45.5,-383 340.5,-383 340.5,-337 45.5,-337\" stroke=\"black\"/>\n",
       "<text font-family=\"Times,serif\" font-size=\"14.00\" text-anchor=\"middle\" x=\"110.5\" y=\"-356.3\">conv1d_21: Conv1D</text>\n",
       "<polyline fill=\"none\" points=\"175.5,-337 175.5,-383 \" stroke=\"black\"/>\n",
       "<text font-family=\"Times,serif\" font-size=\"14.00\" text-anchor=\"middle\" x=\"203\" y=\"-367.8\">input:</text>\n",
       "<polyline fill=\"none\" points=\"175.5,-360 230.5,-360 \" stroke=\"black\"/>\n",
       "<text font-family=\"Times,serif\" font-size=\"14.00\" text-anchor=\"middle\" x=\"203\" y=\"-344.8\">output:</text>\n",
       "<polyline fill=\"none\" points=\"230.5,-337 230.5,-383 \" stroke=\"black\"/>\n",
       "<text font-family=\"Times,serif\" font-size=\"14.00\" text-anchor=\"middle\" x=\"285.5\" y=\"-367.8\">(None, 199, 128)</text>\n",
       "<polyline fill=\"none\" points=\"230.5,-360 340.5,-360 \" stroke=\"black\"/>\n",
       "<text font-family=\"Times,serif\" font-size=\"14.00\" text-anchor=\"middle\" x=\"285.5\" y=\"-344.8\">(None, 195, 128)</text>\n",
       "</g>\n",
       "<!-- 139631756003024&#45;&gt;139631727734480 -->\n",
       "<g class=\"edge\" id=\"edge6\"><title>139631756003024-&gt;139631727734480</title>\n",
       "<path d=\"M193,-420.593C193,-412.118 193,-402.297 193,-393.104\" fill=\"none\" stroke=\"black\"/>\n",
       "<polygon fill=\"black\" points=\"196.5,-393.096 193,-383.096 189.5,-393.096 196.5,-393.096\" stroke=\"black\"/>\n",
       "</g>\n",
       "<!-- 139604304767760 -->\n",
       "<g class=\"node\" id=\"node8\"><title>139604304767760</title>\n",
       "<polygon fill=\"none\" points=\"3.5,-253 3.5,-299 382.5,-299 382.5,-253 3.5,-253\" stroke=\"black\"/>\n",
       "<text font-family=\"Times,serif\" font-size=\"14.00\" text-anchor=\"middle\" x=\"110.5\" y=\"-272.3\">max_pooling1d_21: MaxPooling1D</text>\n",
       "<polyline fill=\"none\" points=\"217.5,-253 217.5,-299 \" stroke=\"black\"/>\n",
       "<text font-family=\"Times,serif\" font-size=\"14.00\" text-anchor=\"middle\" x=\"245\" y=\"-283.8\">input:</text>\n",
       "<polyline fill=\"none\" points=\"217.5,-276 272.5,-276 \" stroke=\"black\"/>\n",
       "<text font-family=\"Times,serif\" font-size=\"14.00\" text-anchor=\"middle\" x=\"245\" y=\"-260.8\">output:</text>\n",
       "<polyline fill=\"none\" points=\"272.5,-253 272.5,-299 \" stroke=\"black\"/>\n",
       "<text font-family=\"Times,serif\" font-size=\"14.00\" text-anchor=\"middle\" x=\"327.5\" y=\"-283.8\">(None, 195, 128)</text>\n",
       "<polyline fill=\"none\" points=\"272.5,-276 382.5,-276 \" stroke=\"black\"/>\n",
       "<text font-family=\"Times,serif\" font-size=\"14.00\" text-anchor=\"middle\" x=\"327.5\" y=\"-260.8\">(None, 5, 128)</text>\n",
       "</g>\n",
       "<!-- 139631727734480&#45;&gt;139604304767760 -->\n",
       "<g class=\"edge\" id=\"edge7\"><title>139631727734480-&gt;139604304767760</title>\n",
       "<path d=\"M193,-336.593C193,-328.118 193,-318.297 193,-309.104\" fill=\"none\" stroke=\"black\"/>\n",
       "<polygon fill=\"black\" points=\"196.5,-309.096 193,-299.096 189.5,-309.096 196.5,-309.096\" stroke=\"black\"/>\n",
       "</g>\n",
       "<!-- 139604319334608 -->\n",
       "<g class=\"node\" id=\"node9\"><title>139604319334608</title>\n",
       "<polygon fill=\"none\" points=\"62,-169 62,-215 324,-215 324,-169 62,-169\" stroke=\"black\"/>\n",
       "<text font-family=\"Times,serif\" font-size=\"14.00\" text-anchor=\"middle\" x=\"117\" y=\"-188.3\">flatten_7: Flatten</text>\n",
       "<polyline fill=\"none\" points=\"172,-169 172,-215 \" stroke=\"black\"/>\n",
       "<text font-family=\"Times,serif\" font-size=\"14.00\" text-anchor=\"middle\" x=\"199.5\" y=\"-199.8\">input:</text>\n",
       "<polyline fill=\"none\" points=\"172,-192 227,-192 \" stroke=\"black\"/>\n",
       "<text font-family=\"Times,serif\" font-size=\"14.00\" text-anchor=\"middle\" x=\"199.5\" y=\"-176.8\">output:</text>\n",
       "<polyline fill=\"none\" points=\"227,-169 227,-215 \" stroke=\"black\"/>\n",
       "<text font-family=\"Times,serif\" font-size=\"14.00\" text-anchor=\"middle\" x=\"275.5\" y=\"-199.8\">(None, 5, 128)</text>\n",
       "<polyline fill=\"none\" points=\"227,-192 324,-192 \" stroke=\"black\"/>\n",
       "<text font-family=\"Times,serif\" font-size=\"14.00\" text-anchor=\"middle\" x=\"275.5\" y=\"-176.8\">(None, 640)</text>\n",
       "</g>\n",
       "<!-- 139604304767760&#45;&gt;139604319334608 -->\n",
       "<g class=\"edge\" id=\"edge8\"><title>139604304767760-&gt;139604319334608</title>\n",
       "<path d=\"M193,-252.593C193,-244.118 193,-234.297 193,-225.104\" fill=\"none\" stroke=\"black\"/>\n",
       "<polygon fill=\"black\" points=\"196.5,-225.096 193,-215.096 189.5,-225.096 196.5,-225.096\" stroke=\"black\"/>\n",
       "</g>\n",
       "<!-- 139631754561296 -->\n",
       "<g class=\"node\" id=\"node10\"><title>139631754561296</title>\n",
       "<polygon fill=\"none\" points=\"69.5,-85 69.5,-131 316.5,-131 316.5,-85 69.5,-85\" stroke=\"black\"/>\n",
       "<text font-family=\"Times,serif\" font-size=\"14.00\" text-anchor=\"middle\" x=\"124\" y=\"-104.3\">dense_13: Dense</text>\n",
       "<polyline fill=\"none\" points=\"178.5,-85 178.5,-131 \" stroke=\"black\"/>\n",
       "<text font-family=\"Times,serif\" font-size=\"14.00\" text-anchor=\"middle\" x=\"206\" y=\"-115.8\">input:</text>\n",
       "<polyline fill=\"none\" points=\"178.5,-108 233.5,-108 \" stroke=\"black\"/>\n",
       "<text font-family=\"Times,serif\" font-size=\"14.00\" text-anchor=\"middle\" x=\"206\" y=\"-92.8\">output:</text>\n",
       "<polyline fill=\"none\" points=\"233.5,-85 233.5,-131 \" stroke=\"black\"/>\n",
       "<text font-family=\"Times,serif\" font-size=\"14.00\" text-anchor=\"middle\" x=\"275\" y=\"-115.8\">(None, 640)</text>\n",
       "<polyline fill=\"none\" points=\"233.5,-108 316.5,-108 \" stroke=\"black\"/>\n",
       "<text font-family=\"Times,serif\" font-size=\"14.00\" text-anchor=\"middle\" x=\"275\" y=\"-92.8\">(None, 128)</text>\n",
       "</g>\n",
       "<!-- 139604319334608&#45;&gt;139631754561296 -->\n",
       "<g class=\"edge\" id=\"edge9\"><title>139604319334608-&gt;139631754561296</title>\n",
       "<path d=\"M193,-168.593C193,-160.118 193,-150.297 193,-141.104\" fill=\"none\" stroke=\"black\"/>\n",
       "<polygon fill=\"black\" points=\"196.5,-141.096 193,-131.096 189.5,-141.096 196.5,-141.096\" stroke=\"black\"/>\n",
       "</g>\n",
       "<!-- 139604331960912 -->\n",
       "<g class=\"node\" id=\"node11\"><title>139604331960912</title>\n",
       "<polygon fill=\"none\" points=\"69.5,-1 69.5,-47 316.5,-47 316.5,-1 69.5,-1\" stroke=\"black\"/>\n",
       "<text font-family=\"Times,serif\" font-size=\"14.00\" text-anchor=\"middle\" x=\"124\" y=\"-20.3\">dense_14: Dense</text>\n",
       "<polyline fill=\"none\" points=\"178.5,-1 178.5,-47 \" stroke=\"black\"/>\n",
       "<text font-family=\"Times,serif\" font-size=\"14.00\" text-anchor=\"middle\" x=\"206\" y=\"-31.8\">input:</text>\n",
       "<polyline fill=\"none\" points=\"178.5,-24 233.5,-24 \" stroke=\"black\"/>\n",
       "<text font-family=\"Times,serif\" font-size=\"14.00\" text-anchor=\"middle\" x=\"206\" y=\"-8.8\">output:</text>\n",
       "<polyline fill=\"none\" points=\"233.5,-1 233.5,-47 \" stroke=\"black\"/>\n",
       "<text font-family=\"Times,serif\" font-size=\"14.00\" text-anchor=\"middle\" x=\"275\" y=\"-31.8\">(None, 128)</text>\n",
       "<polyline fill=\"none\" points=\"233.5,-24 316.5,-24 \" stroke=\"black\"/>\n",
       "<text font-family=\"Times,serif\" font-size=\"14.00\" text-anchor=\"middle\" x=\"275\" y=\"-8.8\">(None, 10)</text>\n",
       "</g>\n",
       "<!-- 139631754561296&#45;&gt;139604331960912 -->\n",
       "<g class=\"edge\" id=\"edge10\"><title>139631754561296-&gt;139604331960912</title>\n",
       "<path d=\"M193,-84.5931C193,-76.1177 193,-66.2974 193,-57.104\" fill=\"none\" stroke=\"black\"/>\n",
       "<polygon fill=\"black\" points=\"196.5,-57.0958 193,-47.0959 189.5,-57.0959 196.5,-57.0958\" stroke=\"black\"/>\n",
       "</g>\n",
       "</g>\n",
       "</svg>"
      ],
      "text/plain": [
       "<IPython.core.display.SVG object>"
      ]
     },
     "execution_count": 79,
     "metadata": {},
     "output_type": "execute_result"
    }
   ],
   "source": [
    "from keras.utils import plot_model\n",
    "import pydot\n",
    "pydot.find_graphviz = lambda: True\n",
    "\n",
    "from IPython.display import SVG\n",
    "from keras.utils.vis_utils import model_to_dot\n",
    "SVG(model_to_dot(model, show_shapes=True).create(prog='dot', format='svg'))"
   ]
  },
  {
   "cell_type": "code",
   "execution_count": 80,
   "metadata": {
    "collapsed": true
   },
   "outputs": [],
   "source": [
    "# split data into train and test\n",
    "data_tr = data[0:3321,:]\n",
    "data_ts = data[3321:,:]"
   ]
  },
  {
   "cell_type": "code",
   "execution_count": 81,
   "metadata": {
    "collapsed": true
   },
   "outputs": [],
   "source": [
    "# split the data into a training set and a validation set\n",
    "indices = np.arange(data_tr.shape[0])\n",
    "np.random.shuffle(indices)\n",
    "data_tr = data_tr[indices]\n",
    "labels = train[['Class']].values\n",
    "labels = to_categorical(np.asarray(labels))\n",
    "labels = labels[indices]\n",
    "num_validation_samples = int(VALIDATION_SPLIT * data_tr.shape[0])"
   ]
  },
  {
   "cell_type": "code",
   "execution_count": 82,
   "metadata": {
    "collapsed": true
   },
   "outputs": [],
   "source": [
    "x_tr = data_tr[:-num_validation_samples]\n",
    "y_tr = labels[:-num_validation_samples]\n",
    "x_vl = data_tr[-num_validation_samples:]\n",
    "y_vl = labels[-num_validation_samples:]"
   ]
  },
  {
   "cell_type": "code",
   "execution_count": 83,
   "metadata": {},
   "outputs": [
    {
     "name": "stdout",
     "output_type": "stream",
     "text": [
      "664\n",
      "(2657, 5000)\n",
      "(2657, 10)\n",
      "(664, 5000)\n",
      "(664, 10)\n"
     ]
    }
   ],
   "source": [
    "print num_validation_samples\n",
    "print x_tr.shape\n",
    "print y_tr.shape\n",
    "print x_vl.shape\n",
    "print y_vl.shape"
   ]
  },
  {
   "cell_type": "code",
   "execution_count": 84,
   "metadata": {},
   "outputs": [
    {
     "name": "stdout",
     "output_type": "stream",
     "text": [
      "Train on 2657 samples, validate on 664 samples\n",
      "Epoch 1/10\n",
      "2657/2657 [==============================] - 137s - loss: 1.9894 - acc: 0.2710 - val_loss: 1.8337 - val_acc: 0.3042\n",
      "Epoch 2/10\n",
      "2657/2657 [==============================] - 140s - loss: 1.7742 - acc: 0.3384 - val_loss: 1.7593 - val_acc: 0.3163\n",
      "Epoch 3/10\n",
      "2657/2657 [==============================] - 143s - loss: 1.6975 - acc: 0.3846 - val_loss: 1.6851 - val_acc: 0.3810\n",
      "Epoch 4/10\n",
      "2657/2657 [==============================] - 152s - loss: 1.6328 - acc: 0.4257 - val_loss: 1.6564 - val_acc: 0.3313\n",
      "Epoch 5/10\n",
      "2657/2657 [==============================] - 150s - loss: 1.5731 - acc: 0.4562 - val_loss: 1.5790 - val_acc: 0.4127\n",
      "Epoch 6/10\n",
      "2657/2657 [==============================] - 143s - loss: 1.5031 - acc: 0.5036 - val_loss: 1.5327 - val_acc: 0.4172\n",
      "Epoch 7/10\n",
      "2657/2657 [==============================] - 154s - loss: 1.4378 - acc: 0.5299 - val_loss: 1.4696 - val_acc: 0.4940\n",
      "Epoch 8/10\n",
      "2657/2657 [==============================] - 153s - loss: 1.3658 - acc: 0.5627 - val_loss: 1.4299 - val_acc: 0.4744\n",
      "Epoch 9/10\n",
      "2657/2657 [==============================] - 144s - loss: 1.3020 - acc: 0.5800 - val_loss: 1.3556 - val_acc: 0.5497\n",
      "Epoch 10/10\n",
      "2657/2657 [==============================] - 140s - loss: 1.2503 - acc: 0.5980 - val_loss: 1.3749 - val_acc: 0.4880\n"
     ]
    },
    {
     "data": {
      "text/plain": [
       "<keras.callbacks.History at 0x7efe6c00af10>"
      ]
     },
     "execution_count": 84,
     "metadata": {},
     "output_type": "execute_result"
    }
   ],
   "source": [
    "K.set_value(model.optimizer.lr, 0.0001)\n",
    "model.fit(x_tr, y_tr,\n",
    "          batch_size=64,\n",
    "          epochs=10,\n",
    "          validation_data=(x_vl, y_vl))"
   ]
  },
  {
   "cell_type": "code",
   "execution_count": 85,
   "metadata": {},
   "outputs": [
    {
     "name": "stdout",
     "output_type": "stream",
     "text": [
      "Train on 2657 samples, validate on 664 samples\n",
      "Epoch 1/10\n",
      "2657/2657 [==============================] - 130s - loss: 1.2002 - acc: 0.6206 - val_loss: 1.2963 - val_acc: 0.5617\n",
      "Epoch 2/10\n",
      "2657/2657 [==============================] - 136s - loss: 1.1835 - acc: 0.6349 - val_loss: 1.2935 - val_acc: 0.5648\n",
      "Epoch 3/10\n",
      "2657/2657 [==============================] - 141s - loss: 1.1790 - acc: 0.6421 - val_loss: 1.2906 - val_acc: 0.5648\n",
      "Epoch 4/10\n",
      "2657/2657 [==============================] - 143s - loss: 1.1734 - acc: 0.6428 - val_loss: 1.2856 - val_acc: 0.5633\n",
      "Epoch 5/10\n",
      "2657/2657 [==============================] - 126s - loss: 1.1689 - acc: 0.6443 - val_loss: 1.2812 - val_acc: 0.5708\n",
      "Epoch 6/10\n",
      "2657/2657 [==============================] - 131s - loss: 1.1639 - acc: 0.6526 - val_loss: 1.2809 - val_acc: 0.5617\n",
      "Epoch 7/10\n",
      "2657/2657 [==============================] - 137s - loss: 1.1597 - acc: 0.6428 - val_loss: 1.2828 - val_acc: 0.5602\n",
      "Epoch 8/10\n",
      "2657/2657 [==============================] - 142s - loss: 1.1561 - acc: 0.6492 - val_loss: 1.2721 - val_acc: 0.5753\n",
      "Epoch 9/10\n",
      "2657/2657 [==============================] - 151s - loss: 1.1511 - acc: 0.6609 - val_loss: 1.2721 - val_acc: 0.5633\n",
      "Epoch 10/10\n",
      "2657/2657 [==============================] - 151s - loss: 1.1476 - acc: 0.6489 - val_loss: 1.2671 - val_acc: 0.5753\n"
     ]
    },
    {
     "data": {
      "text/plain": [
       "<keras.callbacks.History at 0x7ef976e27f10>"
      ]
     },
     "execution_count": 85,
     "metadata": {},
     "output_type": "execute_result"
    }
   ],
   "source": [
    "K.set_value(model.optimizer.lr, 0.00001)\n",
    "model.fit(x_tr, y_tr,\n",
    "          batch_size=64,\n",
    "          epochs=10,\n",
    "          validation_data=(x_vl, y_vl))"
   ]
  },
  {
   "cell_type": "code",
   "execution_count": 86,
   "metadata": {},
   "outputs": [
    {
     "name": "stdout",
     "output_type": "stream",
     "text": [
      "Train on 2657 samples, validate on 664 samples\n",
      "Epoch 1/10\n",
      "2657/2657 [==============================] - 149s - loss: 1.1425 - acc: 0.6635 - val_loss: 1.2684 - val_acc: 0.5633\n",
      "Epoch 2/10\n",
      "2657/2657 [==============================] - 151s - loss: 1.1404 - acc: 0.6624 - val_loss: 1.2652 - val_acc: 0.5663\n",
      "Epoch 3/10\n",
      "2657/2657 [==============================] - 149s - loss: 1.1381 - acc: 0.6583 - val_loss: 1.2641 - val_acc: 0.5663\n",
      "Epoch 4/10\n",
      "2657/2657 [==============================] - 150s - loss: 1.1363 - acc: 0.6601 - val_loss: 1.2634 - val_acc: 0.5663\n",
      "Epoch 5/10\n",
      "2657/2657 [==============================] - 153s - loss: 1.1348 - acc: 0.6632 - val_loss: 1.2602 - val_acc: 0.5723\n",
      "Epoch 6/10\n",
      "2657/2657 [==============================] - 153s - loss: 1.1321 - acc: 0.6639 - val_loss: 1.2635 - val_acc: 0.5633\n",
      "Epoch 7/10\n",
      "2657/2657 [==============================] - 151s - loss: 1.1305 - acc: 0.6605 - val_loss: 1.2579 - val_acc: 0.5708\n",
      "Epoch 8/10\n",
      "2657/2657 [==============================] - 151s - loss: 1.1276 - acc: 0.6677 - val_loss: 1.2592 - val_acc: 0.5633\n",
      "Epoch 9/10\n",
      "2657/2657 [==============================] - 148s - loss: 1.1257 - acc: 0.6635 - val_loss: 1.2570 - val_acc: 0.5648\n",
      "Epoch 10/10\n",
      "2657/2657 [==============================] - 152s - loss: 1.1247 - acc: 0.6620 - val_loss: 1.2537 - val_acc: 0.5663\n"
     ]
    },
    {
     "data": {
      "text/plain": [
       "<keras.callbacks.History at 0x7efe6c00af50>"
      ]
     },
     "execution_count": 86,
     "metadata": {},
     "output_type": "execute_result"
    }
   ],
   "source": [
    "K.set_value(model.optimizer.lr, 0.000005)\n",
    "model.fit(x_tr, y_tr,\n",
    "          batch_size=64,\n",
    "          epochs=10,\n",
    "          validation_data=(x_vl, y_vl))"
   ]
  },
  {
   "cell_type": "code",
   "execution_count": 87,
   "metadata": {},
   "outputs": [
    {
     "name": "stdout",
     "output_type": "stream",
     "text": [
      "Train on 2657 samples, validate on 664 samples\n",
      "Epoch 1/10\n",
      "2657/2657 [==============================] - 152s - loss: 1.1216 - acc: 0.6654 - val_loss: 1.2540 - val_acc: 0.5723\n",
      "Epoch 2/10\n",
      "2657/2657 [==============================] - 154s - loss: 1.1211 - acc: 0.6647 - val_loss: 1.2536 - val_acc: 0.5723\n",
      "Epoch 3/10\n",
      "2657/2657 [==============================] - 143s - loss: 1.1210 - acc: 0.6696 - val_loss: 1.2536 - val_acc: 0.5723\n",
      "Epoch 4/10\n",
      "2657/2657 [==============================] - 147s - loss: 1.1202 - acc: 0.6658 - val_loss: 1.2535 - val_acc: 0.5723\n",
      "Epoch 5/10\n",
      "2657/2657 [==============================] - 146s - loss: 1.1199 - acc: 0.6665 - val_loss: 1.2533 - val_acc: 0.5738\n",
      "Epoch 6/10\n",
      "2657/2657 [==============================] - 146s - loss: 1.1196 - acc: 0.6680 - val_loss: 1.2531 - val_acc: 0.5738\n",
      "Epoch 7/10\n",
      "2657/2657 [==============================] - 150s - loss: 1.1193 - acc: 0.6684 - val_loss: 1.2523 - val_acc: 0.5708\n",
      "Epoch 8/10\n",
      "2657/2657 [==============================] - 146s - loss: 1.1188 - acc: 0.6665 - val_loss: 1.2525 - val_acc: 0.5723\n",
      "Epoch 9/10\n",
      "2657/2657 [==============================] - 148s - loss: 1.1185 - acc: 0.6654 - val_loss: 1.2519 - val_acc: 0.5708\n",
      "Epoch 10/10\n",
      "2657/2657 [==============================] - 148s - loss: 1.1180 - acc: 0.6669 - val_loss: 1.2514 - val_acc: 0.5693\n"
     ]
    },
    {
     "data": {
      "text/plain": [
       "<keras.callbacks.History at 0x7efe6c00add0>"
      ]
     },
     "execution_count": 87,
     "metadata": {},
     "output_type": "execute_result"
    }
   ],
   "source": [
    "K.set_value(model.optimizer.lr, 0.000001)\n",
    "model.fit(x_tr, y_tr,\n",
    "          batch_size=64,\n",
    "          epochs=10,\n",
    "          validation_data=(x_vl, y_vl))"
   ]
  },
  {
   "cell_type": "code",
   "execution_count": 88,
   "metadata": {
    "collapsed": true
   },
   "outputs": [],
   "source": [
    "l = train[['Class']].values"
   ]
  },
  {
   "cell_type": "code",
   "execution_count": 104,
   "metadata": {
    "collapsed": true
   },
   "outputs": [],
   "source": [
    "x = to_categorical(l-1)"
   ]
  },
  {
   "cell_type": "code",
   "execution_count": 106,
   "metadata": {},
   "outputs": [
    {
     "data": {
      "text/plain": [
       "(3321, 9)"
      ]
     },
     "execution_count": 106,
     "metadata": {},
     "output_type": "execute_result"
    }
   ],
   "source": [
    "x.shape"
   ]
  }
 ],
 "metadata": {
  "kernelspec": {
   "display_name": "Python [conda env:tensorflow2]",
   "language": "python",
   "name": "conda-env-tensorflow2-py"
  },
  "language_info": {
   "codemirror_mode": {
    "name": "ipython",
    "version": 2
   },
   "file_extension": ".py",
   "mimetype": "text/x-python",
   "name": "python",
   "nbconvert_exporter": "python",
   "pygments_lexer": "ipython2",
   "version": "2.7.13"
  }
 },
 "nbformat": 4,
 "nbformat_minor": 2
}
